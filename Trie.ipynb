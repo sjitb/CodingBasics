{
 "cells": [
  {
   "cell_type": "markdown",
   "metadata": {},
   "source": [
    "# Trie Data Structure and Uses:\n"
   ]
  },
  {
   "cell_type": "code",
   "execution_count": 14,
   "metadata": {},
   "outputs": [
    {
     "name": "stdout",
     "output_type": "stream",
     "text": [
      "True\n",
      "False\n"
     ]
    }
   ],
   "source": [
    "class TrieNode(object):\n",
    "    \"\"\"\n",
    "    Structure of Node\n",
    "    \"\"\"\n",
    "    def __init__(self):\n",
    "        self.children = [None]*26\n",
    "        self.isLeaf = False\n",
    "class Trie(object):\n",
    "    \"\"\"\n",
    "    Structure of Tree\n",
    "    \"\"\"\n",
    "    def __init__(self):\n",
    "        self.root = TrieNode()\n",
    "    \n",
    "    def _charToIndex(self,ch):\n",
    "        \"\"\"\n",
    "        Private Function returning Index of character\n",
    "        :type word: str\n",
    "        :rtype: int\n",
    "        \"\"\"        \n",
    "        return ord(ch)-ord('a')\n",
    "\n",
    "    def insert(self, word):\n",
    "        \"\"\"\n",
    "        Inserts word into the trie\n",
    "        :type word: str\n",
    "        :rtype: None\n",
    "        \"\"\"\n",
    "        currNode = self.root\n",
    "        wordLen = len(word)\n",
    "        \n",
    "        for level in range(wordLen):\n",
    "            index = self._charToIndex(word[level])\n",
    "            \n",
    "            if not currNode.children[index]:\n",
    "                currNode.children[index] = TrieNode()\n",
    "            currNode = currNode.children[index]\n",
    "            #currNode.isEndofWord = False\n",
    "        \n",
    "        currNode.isEndofWord = True\n",
    "        \n",
    "    def _searchPrefix(self, word):\n",
    "        \"\"\"\n",
    "        Private function to return node where the word ends\n",
    "        :type word: str\n",
    "        :rtype: TrieNode\n",
    "        \"\"\"\n",
    "        curr = self.root\n",
    "        wordLen = len(word)\n",
    "        \n",
    "        for level in range(wordLen):\n",
    "            index = self._charToIndex(word[level])\n",
    "            \n",
    "            if not curr.children[index]:\n",
    "                return None\n",
    "            curr = curr.children[index]\n",
    "        \n",
    "        return curr\n",
    "\n",
    "    def search(self, word):\n",
    "        \"\"\"\n",
    "        Check if word in Trie:\n",
    "        :type word: str\n",
    "        :rtype: bool\n",
    "        \"\"\"\n",
    "        \n",
    "        node = self._searchPrefix(word)\n",
    "        \n",
    "        return node != None and node.isEndofWord\n",
    "    \n",
    "    def startsWith(self, prefix):\n",
    "        \"\"\"\n",
    "        Return if word in Trie contains given prefix\n",
    "        \"\"\"\n",
    "        \n",
    "        node = self._searchPrefix(prefix)\n",
    "        \n",
    "        return node != None\n",
    "    \n",
    "obj = Trie()\n",
    "word = \"Google\"\n",
    "obj.insert(word)\n",
    "ans1 = obj.search(word)\n",
    "ans2 = obj.startsWith(\"oo\")\n",
    "\n",
    "print(ans1)\n",
    "print(ans2)"
   ]
  },
  {
   "cell_type": "code",
   "execution_count": null,
   "metadata": {},
   "outputs": [],
   "source": []
  },
  {
   "cell_type": "code",
   "execution_count": null,
   "metadata": {},
   "outputs": [],
   "source": []
  }
 ],
 "metadata": {
  "kernelspec": {
   "display_name": "Python 3",
   "language": "python",
   "name": "python3"
  },
  "language_info": {
   "codemirror_mode": {
    "name": "ipython",
    "version": 3
   },
   "file_extension": ".py",
   "mimetype": "text/x-python",
   "name": "python",
   "nbconvert_exporter": "python",
   "pygments_lexer": "ipython3",
   "version": "3.7.0"
  }
 },
 "nbformat": 4,
 "nbformat_minor": 2
}
