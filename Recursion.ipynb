{
 "cells": [
  {
   "cell_type": "markdown",
   "metadata": {},
   "source": [
    "# 1. Pascal's Triangle"
   ]
  },
  {
   "cell_type": "code",
   "execution_count": 3,
   "metadata": {},
   "outputs": [
    {
     "name": "stdout",
     "output_type": "stream",
     "text": [
      "[[1], [1, 1], [1, 2, 1], [1, 3, 3, 1], [1, 4, 6, 4, 1], [1, 5, 10, 10, 5, 1], [1, 6, 15, 20, 15, 6, 1], [1, 7, 21, 35, 35, 21, 7, 1]]\n"
     ]
    }
   ],
   "source": [
    "class Solution(object):\n",
    "    def getTriangle(self, numRows):\n",
    "        triangle = []\n",
    "        for rowNum in range(numRows):\n",
    "            row = [None for _ in range(rowNum + 1)]\n",
    "            row[0] = 1\n",
    "            row[-1] = 1\n",
    "            \n",
    "            for j in range(1, len(row) - 1):\n",
    "                row[j] = triangle[rowNum -1][j-1] + triangle[rowNum - 1][j]\n",
    "            \n",
    "            triangle.append(row)\n",
    "        \n",
    "        return triangle\n",
    "\n",
    "obj = Solution()\n",
    "n = 8\n",
    "ans = obj.getTriangle(n)\n",
    "print(ans)"
   ]
  },
  {
   "cell_type": "markdown",
   "metadata": {},
   "source": [
    "# 2. Reverse LinkedList"
   ]
  },
  {
   "cell_type": "code",
   "execution_count": 17,
   "metadata": {},
   "outputs": [
    {
     "name": "stdout",
     "output_type": "stream",
     "text": [
      "10\n",
      "5\n",
      "9\n"
     ]
    }
   ],
   "source": [
    "class ListNode(object):\n",
    "    def __init__(self,x=None):\n",
    "        self.val = x\n",
    "        self.next = None\n",
    "\n",
    "class LinkedList(object):\n",
    "    def __init__(self):\n",
    "        self.head = ListNode()\n",
    "    \n",
    "    def insertNode(self, data):\n",
    "        newNode = ListNode(data)\n",
    "        newNode.next = self.head\n",
    "        self.head = newNode\n",
    "\n",
    "class Solution(object):\n",
    "    def reverseLinkedList(self, head):\n",
    "        \n",
    "        if not head or head.next == None:\n",
    "            return head\n",
    "        temp = self.reverseLinkedList(head.next)\n",
    "        head.next.next = head\n",
    "        head.next = None\n",
    "        \n",
    "        return temp\n",
    "    \n",
    "    def reverseLinkedListIter(self,head):\n",
    "        if not head or head.next is None:\n",
    "            return head\n",
    "        currNode = head\n",
    "        prevNode = None\n",
    "        while currNode:\n",
    "            nextNode = currNode.next\n",
    "            currNode.next = prevNode\n",
    "            prevNode = currNode\n",
    "            currNode = nextNode\n",
    "        head = prevNode\n",
    "        return head\n",
    "\n",
    "lList = LinkedList()\n",
    "lList.insertNode(5)\n",
    "lList.insertNode(8)\n",
    "lList.insertNode(3)\n",
    "lList.insertNode(2)\n",
    "lList.insertNode(1)\n",
    "lList.insertNode(9)\n",
    "lList.insertNode(10)\n",
    "print(lList.head.val)\n",
    "\n",
    "obj = Solution()\n",
    "ans = obj.reverseLinkedList(lList.head)\n",
    "print(ans.next.val)\n",
    "ans2 = obj.reverseLinkedListIter(ans)\n",
    "print(ans2.next.val)\n",
    "\n",
    "\n",
    "\n",
    "        "
   ]
  },
  {
   "cell_type": "markdown",
   "metadata": {},
   "source": [
    "# 3. Fibonacci (with Memoization)"
   ]
  },
  {
   "cell_type": "code",
   "execution_count": 29,
   "metadata": {},
   "outputs": [
    {
     "name": "stdout",
     "output_type": "stream",
     "text": [
      "{}\n",
      "8\n"
     ]
    }
   ],
   "source": [
    "class Solution(object):\n",
    "    def fibo(self, N):\n",
    "        cache = {}\n",
    "        def fibo_recur(n):\n",
    "            if n in cache:\n",
    "                return cache[n]\n",
    "            \n",
    "            if n < 2:\n",
    "                ans = n\n",
    "            else:\n",
    "                ans = fibo_recur(n-1) + fibo_recur(n-2)\n",
    "            \n",
    "            cache[n] = ans\n",
    "            return ans\n",
    "\n",
    "        return fibo_recur(N)\n",
    "\n",
    "obj = Solution()\n",
    "res = obj.fibo(6)\n",
    "print(res)"
   ]
  },
  {
   "cell_type": "code",
   "execution_count": null,
   "metadata": {},
   "outputs": [],
   "source": []
  }
 ],
 "metadata": {
  "kernelspec": {
   "display_name": "Python 3",
   "language": "python",
   "name": "python3"
  },
  "language_info": {
   "codemirror_mode": {
    "name": "ipython",
    "version": 3
   },
   "file_extension": ".py",
   "mimetype": "text/x-python",
   "name": "python",
   "nbconvert_exporter": "python",
   "pygments_lexer": "ipython3",
   "version": "3.7.4"
  }
 },
 "nbformat": 4,
 "nbformat_minor": 2
}
