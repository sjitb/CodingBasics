{
 "cells": [
  {
   "cell_type": "markdown",
   "metadata": {},
   "source": [
    "# Set Card Game\n",
    "\n",
    "### Cards have the following properties: \n",
    "Color: Red, Green, Blue <br>\n",
    "Shape: Diamond, Circle, Square <br>\n",
    "Shading: Clear, Fill, Texture <br>\n",
    "Count: One To Six"
   ]
  },
  {
   "cell_type": "code",
   "execution_count": 5,
   "metadata": {},
   "outputs": [
    {
     "name": "stdout",
     "output_type": "stream",
     "text": [
      "False\n"
     ]
    }
   ],
   "source": [
    "class Card(object):\n",
    "    def __init__(self,count,color,shape,shading):\n",
    "        self.count = count\n",
    "        self.color = color\n",
    "        self.shape = shape\n",
    "        self.shading = shading\n",
    "class SetGame(object):\n",
    "    def hasSet(self, c1, c2, c3):\n",
    "        countSet = set([c1.count, c2.count, c3.count])\n",
    "        colorSet = set([c1.color, c2.color, c3.color])\n",
    "        shapeSet = set([c1.shape, c2.shape, c3.shape])\n",
    "        shadingSet = set([c1.shading, c2.shading, c3.shading])\n",
    "        \n",
    "        if len(countSet) != 1 and len(countSet) != 3:\n",
    "            return False\n",
    "        if len(colorSet) != 1 and len(colorSet) != 3:\n",
    "            return False\n",
    "        if len(shapeSet) != 1 and len(shapeSet) != 3:\n",
    "            return False\n",
    "        if len(shadingSet) != 1 and len(shadingSet) != 3:\n",
    "            return False\n",
    "        \n",
    "        return True\n",
    "\n",
    "ca1 = Card(1,'red','circle','fill')\n",
    "ca2 = Card(3,'blue','sqaure','clear')\n",
    "ca3 = Card(2,'red','diamond','texture')\n",
    "obj = SetGame()\n",
    "ans = obj.hasSet(ca1, ca2, ca3)\n",
    "print(ans)\n",
    "\n",
    "        \n",
    "        "
   ]
  },
  {
   "cell_type": "markdown",
   "metadata": {},
   "source": [
    "# Rate Limiter"
   ]
  },
  {
   "cell_type": "code",
   "execution_count": 1,
   "metadata": {},
   "outputs": [],
   "source": [
    "from collections import deque\n",
    "\n",
    "class Logger(object):\n",
    "\n",
    "    def __init__(self):\n",
    "        \"\"\"\n",
    "        Initialize your data structure here.\n",
    "        \"\"\"\n",
    "        self._msg_set = set()\n",
    "        self._msg_queue = deque()\n",
    "    \n",
    "    def shouldPrintMessage(self, timestamp, message):\n",
    "        \"\"\"\n",
    "        Returns true if the message should be printed in the given timestamp, otherwise returns false.\n",
    "        \"\"\"\n",
    "        while self._msg_queue:\n",
    "            msg, ts = self._msg_queue[0]\n",
    "            if timestamp - ts >= 10:\n",
    "                self._msg_queue.popleft()\n",
    "                self._msg_set.remove(msg)\n",
    "            else:\n",
    "                break\n",
    "        \n",
    "        if message not in self._msg_set:\n",
    "            self._msg_set.add(message)\n",
    "            self._msg_queue.append((message, timestamp))\n",
    "            return True\n",
    "        else:\n",
    "            return False"
   ]
  },
  {
   "cell_type": "code",
   "execution_count": 2,
   "metadata": {},
   "outputs": [],
   "source": [
    "class Logger(object):\n",
    "\n",
    "    def __init__(self):\n",
    "        \"\"\"\n",
    "        Initialize your data structure here.\n",
    "        \"\"\"\n",
    "        self._msg_dict = {}\n",
    "    \n",
    "    def shouldPrintMessage(self, timestamp, message):\n",
    "        \"\"\"\n",
    "        Returns true if the message should be printed in the given timestamp, otherwise returns false.\n",
    "        \"\"\"\n",
    "        if message not in self._msg_dict:\n",
    "            # case 1). add the message to print\n",
    "            self._msg_dict[message] = timestamp\n",
    "            return True\n",
    "\n",
    "        if timestamp - self._msg_dict[message] >= 10:\n",
    "            # case 2). update the timestamp of the message\n",
    "            self._msg_dict[message] = timestamp\n",
    "            return True\n",
    "        else:\n",
    "            return False\n"
   ]
  },
  {
   "cell_type": "markdown",
   "metadata": {},
   "source": [
    "# LRU Cache"
   ]
  },
  {
   "cell_type": "code",
   "execution_count": 3,
   "metadata": {},
   "outputs": [],
   "source": [
    "from collections import OrderedDict\n",
    "class LRUCache(OrderedDict):\n",
    "\n",
    "    def __init__(self, capacity):\n",
    "        \"\"\"\n",
    "        :type capacity: int\n",
    "        \"\"\"\n",
    "        self.capacity = capacity\n",
    "\n",
    "    def get(self, key):\n",
    "        \"\"\"\n",
    "        :type key: int\n",
    "        :rtype: int\n",
    "        \"\"\"\n",
    "        if key not in self:\n",
    "            return - 1\n",
    "        \n",
    "        self.move_to_end(key)\n",
    "        return self[key]\n",
    "\n",
    "    def put(self, key, value):\n",
    "        \"\"\"\n",
    "        :type key: int\n",
    "        :type value: int\n",
    "        :rtype: void\n",
    "        \"\"\"\n",
    "        if key in self:\n",
    "            self.move_to_end(key)\n",
    "        self[key] = value\n",
    "        if len(self) > self.capacity:\n",
    "            self.popitem(last = False)\n",
    "\n",
    "# Your LRUCache object will be instantiated and called as such:\n",
    "# obj = LRUCache(capacity)\n",
    "# param_1 = obj.get(key)\n",
    "# obj.put(key,value)"
   ]
  },
  {
   "cell_type": "markdown",
   "metadata": {},
   "source": [
    "# Insert Delete Random"
   ]
  },
  {
   "cell_type": "code",
   "execution_count": 1,
   "metadata": {},
   "outputs": [
    {
     "name": "stdout",
     "output_type": "stream",
     "text": [
      "True False True 2 False True False True 2\n"
     ]
    }
   ],
   "source": [
    "import collections \n",
    "import random\n",
    "class RandomizedSet:\n",
    "\n",
    "    def __init__(self):\n",
    "        \"\"\"\n",
    "        Initialize your data structure here.\n",
    "        \"\"\"\n",
    "        self.countElem = 0\n",
    "        self.dataMap = collections.defaultdict(list)\n",
    "        self.dataList = []\n",
    "\n",
    "    def insert(self, val: int) -> bool:\n",
    "        \"\"\"\n",
    "        Inserts a value to the set. Returns true if the set did not already contain the specified element.\n",
    "        \"\"\"\n",
    "        if val in self.dataMap:\n",
    "            return False\n",
    "        \n",
    "        self.dataMap[val].append(self.countElem)\n",
    "        self.dataList.append(val)\n",
    "        self.countElem += 1\n",
    "        return True\n",
    "\n",
    "    def remove(self, val: int) -> bool:\n",
    "        \"\"\"\n",
    "        Removes a value from the set. Returns true if the set contained the specified element.\n",
    "        \"\"\"\n",
    "        if val not in self.dataMap:\n",
    "            return False\n",
    "        \n",
    "        idx = self.dataMap[val].pop(0)\n",
    "        last_elem = self.dataList[-1]\n",
    "        \n",
    "        if val != last_elem:\n",
    "            self.dataList[-1], self.dataList[idx] = self.dataList[idx], self.dataList[-1]\n",
    "\n",
    "            self.dataMap[last_elem].pop()\n",
    "            self.dataMap[last_elem].append(idx)\n",
    "\n",
    "        self.dataList.pop()\n",
    "        \n",
    "        if len(self.dataMap[val]) == 0:\n",
    "            del self.dataMap[val]\n",
    "        \n",
    "        return True\n",
    "\n",
    "    def getRandom(self) -> int:\n",
    "        \"\"\"\n",
    "        Get a random element from the set.\n",
    "        \"\"\"\n",
    "        return random.choice(self.dataList)\n",
    "        \n",
    "\n",
    "\n",
    "# Your RandomizedSet object will be instantiated and called as such:\n",
    "obj = RandomizedSet()\n",
    "param_1 = obj.insert(1)\n",
    "param_2 = obj.remove(2)\n",
    "param_3 = obj.insert(2)\n",
    "param_4 = obj.getRandom()\n",
    "param_5 = obj.insert(2)\n",
    "param_6 = obj.insert(3)\n",
    "param_7 = obj.insert(3)\n",
    "param_8 = obj.remove(3)\n",
    "param_9 = obj.getRandom()\n",
    "\n",
    "print(param_1, param_2, param_3, param_4, param_5, param_6, param_7, param_8, param_9)\n",
    "\n"
   ]
  },
  {
   "cell_type": "markdown",
   "metadata": {},
   "source": [
    "# Two Sum (Data Structure)"
   ]
  },
  {
   "cell_type": "code",
   "execution_count": 3,
   "metadata": {},
   "outputs": [
    {
     "name": "stdout",
     "output_type": "stream",
     "text": [
      "True\n"
     ]
    }
   ],
   "source": [
    "class TwoSum:\n",
    "\n",
    "    def __init__(self):\n",
    "        \"\"\"\n",
    "        Initialize your data structure here.\n",
    "        \"\"\"\n",
    "        self.numDict = {}\n",
    "        \n",
    "\n",
    "    def add(self, number: int) -> None:\n",
    "        \"\"\"\n",
    "        Add the number to an internal data structure..\n",
    "        \"\"\"\n",
    "        if number in self.numDict:\n",
    "            self.numDict[number] += 1\n",
    "        else:\n",
    "            self.numDict[number] = 1\n",
    "        \n",
    "\n",
    "    def find(self, value: int) -> bool:\n",
    "        \"\"\"\n",
    "        Find if there exists any pair of numbers which sum is equal to the value.\n",
    "        \"\"\"\n",
    "        for num in self.numDict.keys():\n",
    "            diff = value - num\n",
    "            print\n",
    "            if num == diff:\n",
    "                if self.numDict[num] > 1:\n",
    "                    return True\n",
    "            else:\n",
    "                if diff in self.numDict:\n",
    "                    return True\n",
    "\n",
    "        return False\n",
    "\n",
    "\n",
    "# Your TwoSum object will be instantiated and called as such:\n",
    "obj = TwoSum()\n",
    "param_1 = obj.add(1)\n",
    "param_1 = obj.add(4)\n",
    "param_1 = obj.add(1)\n",
    "param_1 = obj.add(5)\n",
    "param_1 = obj.add(2)\n",
    "param_1 = obj.add(1)\n",
    "param_2 = obj.find(7)\n",
    "print(param_2)"
   ]
  },
  {
   "cell_type": "code",
   "execution_count": null,
   "metadata": {},
   "outputs": [],
   "source": []
  }
 ],
 "metadata": {
  "kernelspec": {
   "display_name": "Python 3",
   "language": "python",
   "name": "python3"
  },
  "language_info": {
   "codemirror_mode": {
    "name": "ipython",
    "version": 3
   },
   "file_extension": ".py",
   "mimetype": "text/x-python",
   "name": "python",
   "nbconvert_exporter": "python",
   "pygments_lexer": "ipython3",
   "version": "3.7.4"
  }
 },
 "nbformat": 4,
 "nbformat_minor": 2
}
