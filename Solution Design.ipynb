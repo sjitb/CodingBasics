{
 "cells": [
  {
   "cell_type": "markdown",
   "metadata": {},
   "source": [
    "# Set Card Game\n",
    "\n",
    "### Cards have the following properties: \n",
    "Color: Red, Green, Blue <br>\n",
    "Shape: Diamond, Circle, Square <br>\n",
    "Shading: Clear, Fill, Texture <br>\n",
    "Count: One To Six"
   ]
  },
  {
   "cell_type": "code",
   "execution_count": 5,
   "metadata": {},
   "outputs": [
    {
     "name": "stdout",
     "output_type": "stream",
     "text": [
      "False\n"
     ]
    }
   ],
   "source": [
    "class Card(object):\n",
    "    def __init__(self,count,color,shape,shading):\n",
    "        self.count = count\n",
    "        self.color = color\n",
    "        self.shape = shape\n",
    "        self.shading = shading\n",
    "class SetGame(object):\n",
    "    def hasSet(self, c1, c2, c3):\n",
    "        countSet = set([c1.count, c2.count, c3.count])\n",
    "        colorSet = set([c1.color, c2.color, c3.color])\n",
    "        shapeSet = set([c1.shape, c2.shape, c3.shape])\n",
    "        shadingSet = set([c1.shading, c2.shading, c3.shading])\n",
    "        \n",
    "        if len(countSet) != 1 and len(countSet) != 3:\n",
    "            return False\n",
    "        if len(colorSet) != 1 and len(colorSet) != 3:\n",
    "            return False\n",
    "        if len(shapeSet) != 1 and len(shapeSet) != 3:\n",
    "            return False\n",
    "        if len(shadingSet) != 1 and len(shadingSet) != 3:\n",
    "            return False\n",
    "        \n",
    "        return True\n",
    "\n",
    "ca1 = Card(1,'red','circle','fill')\n",
    "ca2 = Card(3,'blue','sqaure','clear')\n",
    "ca3 = Card(2,'red','diamond','texture')\n",
    "obj = SetGame()\n",
    "ans = obj.hasSet(ca1, ca2, ca3)\n",
    "print(ans)\n",
    "\n",
    "        \n",
    "        "
   ]
  },
  {
   "cell_type": "code",
   "execution_count": null,
   "metadata": {},
   "outputs": [],
   "source": []
  }
 ],
 "metadata": {
  "kernelspec": {
   "display_name": "Python 3",
   "language": "python",
   "name": "python3"
  },
  "language_info": {
   "codemirror_mode": {
    "name": "ipython",
    "version": 3
   },
   "file_extension": ".py",
   "mimetype": "text/x-python",
   "name": "python",
   "nbconvert_exporter": "python",
   "pygments_lexer": "ipython3",
   "version": "3.7.4"
  }
 },
 "nbformat": 4,
 "nbformat_minor": 2
}
