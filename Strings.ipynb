{
 "cells": [
  {
   "cell_type": "markdown",
   "metadata": {},
   "source": [
    "# 1. Making Anagrams\n",
    "\n",
    "Complete the makeAnagram function in the editor below. It must return an integer representing the minimum total characters that must be deleted to make the strings anagrams."
   ]
  },
  {
   "cell_type": "code",
   "execution_count": 2,
   "metadata": {},
   "outputs": [
    {
     "name": "stdout",
     "output_type": "stream",
     "text": [
      "2\n"
     ]
    }
   ],
   "source": [
    "#!/bin/python3\n",
    "\n",
    "import math\n",
    "import os\n",
    "import random\n",
    "import re\n",
    "import sys\n",
    "import collections\n",
    "\n",
    "# Complete the makeAnagram function below.\n",
    "def makeAnagram(a, b):\n",
    "    charmap_a = collections.Counter(a)\n",
    "\n",
    "    rem4a = 0\n",
    "    rem4b = 0\n",
    "    for i in range(len(b)):\n",
    "        if b[i] in charmap_a:\n",
    "            if charmap_a[b[i]] > 0:\n",
    "                charmap_a[b[i]] -=1\n",
    "            else:\n",
    "                rem4b +=1\n",
    "        else:\n",
    "            rem4b += 1\n",
    "\n",
    "    for key, value in charmap_a.items():\n",
    "        rem4a += value\n",
    "\n",
    "    return rem4a+rem4b        \n",
    "\n",
    "if __name__ == '__main__':\n",
    "    #fptr = open(os.environ['OUTPUT_PATH'], 'w')\n",
    "\n",
    "    #a = input()\n",
    "    a = \"abc\"\n",
    "    b = \"aab\"\n",
    "\n",
    "    #b = input()\n",
    "\n",
    "    res = makeAnagram(a, b)\n",
    "    \n",
    "    print(res)\n",
    "\n",
    "    #fptr.write(str(res) + '\\n')\n",
    "\n",
    "    #fptr.close()\n"
   ]
  },
  {
   "cell_type": "markdown",
   "metadata": {},
   "source": [
    "# 2. Alternating Characters"
   ]
  },
  {
   "cell_type": "code",
   "execution_count": 2,
   "metadata": {},
   "outputs": [
    {
     "name": "stdout",
     "output_type": "stream",
     "text": [
      "5\n"
     ]
    }
   ],
   "source": [
    "#!/bin/python3\n",
    "\n",
    "import math\n",
    "import os\n",
    "import random\n",
    "import re\n",
    "import sys\n",
    "\n",
    "# Complete the alternatingCharacters function below.\n",
    "def alternatingCharacters(s):\n",
    "\n",
    "    count = 0\n",
    "    for i in range(len(s)-1):\n",
    "        if s[i] == s[i+1]:\n",
    "            count += 1\n",
    "        \n",
    "    \n",
    "    return count\n",
    "\n",
    "if __name__ == '__main__':\n",
    "    #fptr = open(os.environ['OUTPUT_PATH'], 'w')\n",
    "\n",
    "    #q = int(input())\n",
    "\n",
    "    #for q_itr in range(q):\n",
    "    #    s = input()\n",
    "    s = \"AAAABAABBA\"\n",
    "    result = alternatingCharacters(s)\n",
    "    print(result)\n",
    "\n",
    "    #fptr.write(str(result) + '\\n')\n",
    "\n",
    "    #fptr.close()\n"
   ]
  },
  {
   "cell_type": "markdown",
   "metadata": {},
   "source": [
    "# 3. Sherlock and Valid String"
   ]
  },
  {
   "cell_type": "code",
   "execution_count": 3,
   "metadata": {},
   "outputs": [
    {
     "name": "stdout",
     "output_type": "stream",
     "text": [
      "NO\n"
     ]
    }
   ],
   "source": [
    "#!/bin/python3\n",
    "\n",
    "import math\n",
    "import os\n",
    "import random\n",
    "import re\n",
    "import sys\n",
    "import collections\n",
    "\n",
    "# Complete the isValid function below.\n",
    "def isValid(s):\n",
    "    charmap = collections.Counter(s)\n",
    "\n",
    "    if len(set(charmap.values())) == 1:\n",
    "        return \"YES\"\n",
    "    elif len(set(charmap.values())) > 2:\n",
    "        return \"NO\"\n",
    "    else:\n",
    "        maxval = max(charmap.values())\n",
    "        minval = min(charmap.values())\n",
    "\n",
    "        if(list(charmap.values()).count(minval) ==1) or (list(charmap.values()).count(maxval) == 1):\n",
    "            return \"YES\"\n",
    "        else:\n",
    "            return \"NO\"\n",
    "    \n",
    "    return \"NO\"\n",
    "\n",
    "if __name__ == '__main__':\n",
    "    #fptr = open(os.environ['OUTPUT_PATH'], 'w')\n",
    "\n",
    "    s = \"aabbccddeefghi\"\n",
    "\n",
    "    result = isValid(s)\n",
    "    \n",
    "    print(result)\n",
    "\n",
    "    #fptr.write(result + '\\n')\n",
    "\n",
    "    #fptr.close()\n"
   ]
  },
  {
   "cell_type": "code",
   "execution_count": 5,
   "metadata": {},
   "outputs": [
    {
     "name": "stdout",
     "output_type": "stream",
     "text": [
      "['this', 'is']\n"
     ]
    }
   ],
   "source": [
    "aList = ['this', 'is', 'crazy']\n",
    "bList = ['this', 'is', 'not']\n",
    "c = [a for a in aList for b in bList if a==b ]\n",
    "print(c)"
   ]
  },
  {
   "cell_type": "markdown",
   "metadata": {},
   "source": [
    "# 4. Minimum Steps to make an anagram\n",
    "\n",
    "Given two equal-size strings s and t. In one step you can choose any character of t and replace it with another character.\n",
    "\n",
    "Return the minimum number of steps to make t an anagram of s.\n",
    "\n",
    "An Anagram of a string is a string that contains the same characters with a different (or the same) ordering."
   ]
  },
  {
   "cell_type": "code",
   "execution_count": 9,
   "metadata": {},
   "outputs": [
    {
     "name": "stdout",
     "output_type": "stream",
     "text": [
      "1\n"
     ]
    }
   ],
   "source": [
    "from collections import Counter\n",
    "class Solution(object):\n",
    "    def minSteps(self,s,t):\n",
    "        if len(s) != len(t):\n",
    "            return -1\n",
    "        s_Count = Counter(s)\n",
    "        t_Count = Counter(t)\n",
    "        ans = sum((s_Count - t_Count).values())\n",
    "        \n",
    "        return ans\n",
    "        \n",
    "        \"\"\"\n",
    "        Explanation:\n",
    "        R = S - T will return the following:\n",
    "\n",
    "        if a letter e is in both S and T and Counter of e is higher in S: R['e'] = S['e'] - T['e']\n",
    "        if a letter e is in both S and T and Counter of e is lower in S: R['e'] = 0. Note that this is not negative. Very important\n",
    "        if a letter e is only in S: R['e'] = S['e']\n",
    "        Therefore, after running S-T, we have :\n",
    "\n",
    "        Letters those only appear in S\n",
    "        Letters those appear in S more than T with the difference as value\n",
    "        The sum of these will be the total of \"extra\" charaters in T\n",
    "        \"\"\"\n",
    "        \n",
    "obj = Solution()\n",
    "res = obj.minSteps(\"abcdef\", \"afbcdd\")\n",
    "print(res)\n"
   ]
  },
  {
   "cell_type": "code",
   "execution_count": null,
   "metadata": {},
   "outputs": [],
   "source": []
  },
  {
   "cell_type": "code",
   "execution_count": null,
   "metadata": {},
   "outputs": [],
   "source": []
  }
 ],
 "metadata": {
  "kernelspec": {
   "display_name": "Python 3",
   "language": "python",
   "name": "python3"
  },
  "language_info": {
   "codemirror_mode": {
    "name": "ipython",
    "version": 3
   },
   "file_extension": ".py",
   "mimetype": "text/x-python",
   "name": "python",
   "nbconvert_exporter": "python",
   "pygments_lexer": "ipython3",
   "version": "3.7.4"
  }
 },
 "nbformat": 4,
 "nbformat_minor": 2
}
