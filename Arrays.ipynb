{
 "cells": [
  {
   "cell_type": "markdown",
   "metadata": {},
   "source": [
    "# 1. 2D Arrays Hourglass\n"
   ]
  },
  {
   "cell_type": "code",
   "execution_count": 1,
   "metadata": {},
   "outputs": [
    {
     "name": "stdout",
     "output_type": "stream",
     "text": [
      "13\n"
     ]
    }
   ],
   "source": [
    "#!/bin/python\n",
    "\n",
    "import math\n",
    "import os\n",
    "import random\n",
    "import re\n",
    "import sys\n",
    "\n",
    "# Complete the hourglassSum function below.\n",
    "def hourglassSum(arr):\n",
    "\n",
    "    max_sum = float('-inf')\n",
    "    for i in range(len(arr)-2):\n",
    "        for j in range(len(arr[0])-2):\n",
    "            \n",
    "            top_sum = sum(arr[i][j:j+3])\n",
    "\n",
    "            mid_sum = arr[i+1][j+1]\n",
    "\n",
    "            bottom_sum = sum(arr[i+2][j:j+3])\n",
    "\n",
    "            hourglass = top_sum + mid_sum + bottom_sum\n",
    "\n",
    "            if hourglass > max_sum:\n",
    "                max_sum = hourglass\n",
    "        \n",
    "    return max_sum\n",
    "\n",
    "if __name__ == '__main__':\n",
    "    #fptr = open(os.environ['OUTPUT_PATH'], 'w')\n",
    "\n",
    "    arr = [[1, 1, 1, 0, 0, 0], [0, 1, 0, 0, 0, 0], [1, 1, 1, 0, 0, 0], [0, 9, 2, -4, -4, 0],[0, 0, 0, -2, 0, 0],[0, 0, -1, -2, -4, 0]]\n",
    "\n",
    "    #for _ in xrange(6):\n",
    "    #    arr.append(map(int, raw_input().rstrip().split()))\n",
    "\n",
    "    result = hourglassSum(arr)\n",
    "\n",
    "    #fptr.write(str(result) + '\\n')\n",
    "\n",
    "    #fptr.close()\n",
    "    print(result)\n"
   ]
  },
  {
   "cell_type": "markdown",
   "metadata": {},
   "source": [
    "# 2. Array Left Rotation"
   ]
  },
  {
   "cell_type": "code",
   "execution_count": 2,
   "metadata": {},
   "outputs": [
    {
     "name": "stdout",
     "output_type": "stream",
     "text": [
      "[8, 1, 2, 3, 4, 5, 6, 7]\n"
     ]
    }
   ],
   "source": [
    "#!/bin/python\n",
    "\n",
    "import math\n",
    "import os\n",
    "import random\n",
    "import re\n",
    "import sys\n",
    "\n",
    "# Complete the rotLeft function below.\n",
    "def rotLeft(a, d):\n",
    "    i = d%len(a)\n",
    "\n",
    "    return (a[i:]+a[:i])\n",
    "\n",
    "if __name__ == '__main__':\n",
    "    \n",
    "    d = 7\n",
    "    a = [1, 2, 3, 4, 5, 6 , 7, 8]\n",
    "    result = rotLeft(a, d)\n",
    "\n",
    "    print(result)"
   ]
  },
  {
   "cell_type": "markdown",
   "metadata": {},
   "source": [
    "# 3. Move Zeroes"
   ]
  },
  {
   "cell_type": "code",
   "execution_count": 3,
   "metadata": {},
   "outputs": [
    {
     "name": "stdout",
     "output_type": "stream",
     "text": [
      "[2, 4, 1, 10, 22, 0, 0]\n"
     ]
    }
   ],
   "source": [
    "class Solution(object):\n",
    "    def movezeroes(self, nums):\n",
    "        lastnonzero = 0\n",
    "        for i in range(len(nums)):\n",
    "            if nums[i] != 0:\n",
    "                nums[lastnonzero] = nums[i]\n",
    "                lastnonzero += 1\n",
    "                \n",
    "        for i in range(lastnonzero, len(nums)):\n",
    "            nums[i] = 0\n",
    "        return nums\n",
    "    \n",
    "nums = [0,2,4,0,1,10,22]\n",
    "obj = Solution()\n",
    "nums = obj.movezeroes(nums)\n",
    "print(nums)"
   ]
  },
  {
   "cell_type": "markdown",
   "metadata": {},
   "source": [
    "# 4. SubArray Sum Equals K"
   ]
  },
  {
   "cell_type": "code",
   "execution_count": 4,
   "metadata": {},
   "outputs": [
    {
     "name": "stdout",
     "output_type": "stream",
     "text": [
      "2\n"
     ]
    }
   ],
   "source": [
    "from collections import Counter\n",
    "from itertools import accumulate\n",
    "class Solution(object):\n",
    "    def subArraySum(self, nums, K):\n",
    "        \n",
    "        total = 0\n",
    "        count = Counter()\n",
    "\n",
    "        count[0] += 1\n",
    "        \n",
    "        for aSum in list(accumulate(nums)):\n",
    "            total += count[aSum - k]\n",
    "            count[aSum] += 1\n",
    "        \n",
    "        return total\n",
    "        \n",
    "        \n",
    "nums = [1, 1, 2, 4, 6, 8]\n",
    "k = 4\n",
    "obj = Solution()\n",
    "ans = obj.subArraySum(nums,k)\n",
    "print(ans)"
   ]
  },
  {
   "cell_type": "markdown",
   "metadata": {},
   "source": [
    "# 5. Three Sum"
   ]
  },
  {
   "cell_type": "code",
   "execution_count": 5,
   "metadata": {},
   "outputs": [
    {
     "name": "stdout",
     "output_type": "stream",
     "text": [
      "[[-10, 10, 0], [-4, 5, -1]]\n"
     ]
    }
   ],
   "source": [
    "class Solution(object):\n",
    "    def threeSum(self, arr):\n",
    "        arr.sort()\n",
    "        \n",
    "        n = len(arr)\n",
    "        res = []\n",
    "        for i in range(n-2):\n",
    "            if i > 0 and arr[i]==arr[i-1]:\n",
    "                continue                \n",
    "            if arr[i] > 0:\n",
    "                break\n",
    "            l,r = i+1, n\n",
    "            temp ={}\n",
    "            target = 0-arr[i]\n",
    "            while l < r:\n",
    "                diff = target - arr[l]\n",
    "                if diff in temp:\n",
    "                    res.append([arr[i], arr[l], diff])\n",
    "                else:\n",
    "                    temp[arr[l]] = l\n",
    "                \n",
    "                l += 1\n",
    "        return res\n",
    "    \n",
    "obj = Solution()\n",
    "inputArr = [-1,0,10,-4, -1, 5, -4, -10, 22]\n",
    "ans = obj.threeSum(inputArr)\n",
    "\n",
    "print(ans)"
   ]
  },
  {
   "cell_type": "markdown",
   "metadata": {},
   "source": [
    "# 5. Most Water"
   ]
  },
  {
   "cell_type": "code",
   "execution_count": 6,
   "metadata": {},
   "outputs": [
    {
     "name": "stdout",
     "output_type": "stream",
     "text": [
      "49\n"
     ]
    }
   ],
   "source": [
    "class Solution(object):\n",
    "    def maxArea(self, height):\n",
    "        \n",
    "        l = 0\n",
    "        r = len(height) - 1\n",
    "        maxarea = 0\n",
    "\n",
    "        while l < r:\n",
    "            maxarea = max(maxarea, (min(height[l], height[r]) * (r - l)))\n",
    "            \n",
    "            if height[l] < height[r]:\n",
    "                l += 1\n",
    "            else:\n",
    "                r -= 1\n",
    "        \n",
    "        return maxarea\n",
    "\n",
    "obj = Solution()\n",
    "arr = [1,8,6,2,5,4,8,3,7]\n",
    "ans = obj.maxArea(arr)\n",
    "print(ans)"
   ]
  },
  {
   "cell_type": "markdown",
   "metadata": {},
   "source": [
    "# 6. 3-Sum"
   ]
  },
  {
   "cell_type": "code",
   "execution_count": 7,
   "metadata": {},
   "outputs": [
    {
     "name": "stdout",
     "output_type": "stream",
     "text": [
      "[[-5, -2, 7], [-5, -1, 6], [-2, -1, 3]]\n"
     ]
    }
   ],
   "source": [
    "class Solution(object):\n",
    "    def threeSum(self, nums):\n",
    "        if len(nums) < 3:\n",
    "            return []\n",
    "        nums.sort()\n",
    "        res = set()\n",
    "        for i, v in enumerate(nums[:-2]):\n",
    "            if i >= 1 and v == nums[i-1]:\n",
    "                continue\n",
    "            d = {}\n",
    "            for x in nums[i+1:]:\n",
    "                if x not in d:\n",
    "                    d[-v-x] = 1\n",
    "                else:\n",
    "                    res.add((v, -v-x, x))\n",
    "        return [*map(list, res)]\n",
    "        \n",
    "obj = Solution()\n",
    "arr = [-1,-8,6,-2,-5,4,8,3,7]\n",
    "ans = obj.threeSum(arr)\n",
    "print(ans)        \n",
    "        "
   ]
  },
  {
   "cell_type": "markdown",
   "metadata": {},
   "source": [
    "# 7. Next Permutation "
   ]
  },
  {
   "cell_type": "code",
   "execution_count": 8,
   "metadata": {},
   "outputs": [
    {
     "name": "stdout",
     "output_type": "stream",
     "text": [
      "[7, 1, 2, 3, 4, 5, 9, 6]\n"
     ]
    }
   ],
   "source": [
    "class Solution(object):\n",
    "    def nextPermutation(self, nums):\n",
    "        i = len(nums) - 2\n",
    "        while i >= 0 and nums[i+1] <= nums[i]:\n",
    "            i -= 1\n",
    "\n",
    "        if i >= 0:\n",
    "            j = len(nums) - 1\n",
    "            while j >= 0 and nums[j] <= nums[i]:\n",
    "                j -= 1\n",
    "                \n",
    "            nums[i], nums[j] = nums[j], nums[i]\n",
    "\n",
    "        nums[i+1:].reverse()\n",
    "\n",
    "obj = Solution()\n",
    "arr = [7,1,2,3,4,5,6,9]\n",
    "obj.nextPermutation(arr)\n",
    "print(arr)        \n"
   ]
  },
  {
   "cell_type": "markdown",
   "metadata": {},
   "source": [
    "# 8. Multiply Strings "
   ]
  },
  {
   "cell_type": "code",
   "execution_count": 9,
   "metadata": {},
   "outputs": [
    {
     "name": "stdout",
     "output_type": "stream",
     "text": [
      "220\n"
     ]
    }
   ],
   "source": [
    "class Solution:\n",
    "    def multiply(self, num1, num2):\n",
    "        \n",
    "        num1 = num1[::-1]\n",
    "        num2 = num2[::-1]\n",
    "        toint1 = 0\n",
    "        toint2 = 0\n",
    "        \n",
    "        for index, item in enumerate(num1):\n",
    "            toint1 += (ord(item) -ord('0')) * (10 ** index)\n",
    "        \n",
    "        for index, item in enumerate(num2):\n",
    "            toint2 += (ord(item) -ord('0')) * (10 ** index)\n",
    "        \n",
    "        return str(toint1 * toint2)\n",
    "\n",
    "obj = Solution()\n",
    "num1 = \"22\"\n",
    "num2 = \"10\"\n",
    "ans = obj.multiply(num1,num2)\n",
    "print(ans)    "
   ]
  },
  {
   "cell_type": "markdown",
   "metadata": {},
   "source": [
    "# 9. Rotate Image"
   ]
  },
  {
   "cell_type": "code",
   "execution_count": 10,
   "metadata": {},
   "outputs": [
    {
     "name": "stdout",
     "output_type": "stream",
     "text": [
      "[[15, 13, 2, 5], [14, 3, 4, 1], [12, 6, 8, 9], [16, 7, 10, 11]]\n"
     ]
    }
   ],
   "source": [
    "class Solution(object):\n",
    "    \n",
    "    def rotateImage(self, image):\n",
    "        \n",
    "        for i in range(len(image)):\n",
    "            for j in range(i,len(image[0])):\n",
    "                image[i][j], image[j][i] = image[j][i], image[i][j]\n",
    "        \n",
    "        for k in range(len(image)):\n",
    "            image[k].reverse()\n",
    "\n",
    "obj = Solution()\n",
    "imageInput = [\n",
    "  [ 5, 1, 9,11],\n",
    "  [ 2, 4, 8,10],\n",
    "  [13, 3, 6, 7],\n",
    "  [15,14,12,16],\n",
    "] \n",
    "obj.rotateImage(imageInput)\n",
    "print(imageInput) \n",
    "        \n"
   ]
  },
  {
   "cell_type": "markdown",
   "metadata": {},
   "source": [
    "# 10. Justify"
   ]
  },
  {
   "cell_type": "code",
   "execution_count": 11,
   "metadata": {},
   "outputs": [
    {
     "name": "stdout",
     "output_type": "stream",
     "text": [
      "['A   ', 'Hello', 'A   ', 'World', 'A   ']\n"
     ]
    }
   ],
   "source": [
    "class Solution(object):\n",
    "    def fullJustify(self, words, maxWidth):\n",
    "        \"\"\"\n",
    "        :type words: List[str]\n",
    "        :type maxWidth: int\n",
    "        :rtype: List[str]\n",
    "        \"\"\"\n",
    "        res, cur, num_of_letters = [], [], 0\n",
    "        for w in words:\n",
    "            if num_of_letters + len(w) + len(cur) > maxWidth:\n",
    "                for i in range(maxWidth - num_of_letters):\n",
    "                    cur[i%(len(cur)-1 or 1)] += ' '\n",
    "                res.append(''.join(cur))\n",
    "                cur, num_of_letters = [], 0\n",
    "            cur += [w]\n",
    "            num_of_letters += len(w)\n",
    "        return res + [' '.join(cur).ljust(maxWidth)]\n",
    "\n",
    "obj = Solution()\n",
    "words = [\"A\", \"Hello\", \"A\", \"World\", \"A\"]\n",
    "maxW = 4\n",
    "ans = obj.fullJustify(words, maxW)\n",
    "print(ans)"
   ]
  },
  {
   "cell_type": "markdown",
   "metadata": {},
   "source": [
    "# 11. Free Meeting List"
   ]
  },
  {
   "cell_type": "code",
   "execution_count": 12,
   "metadata": {},
   "outputs": [
    {
     "name": "stdout",
     "output_type": "stream",
     "text": [
      "(42, 65) (54, 70)\n",
      "True\n"
     ]
    }
   ],
   "source": [
    "class Solution(object):\n",
    "    def hasInterval(self, uList1, uList2, minInterval):\n",
    "        l1 = 0\n",
    "        l2 = 0\n",
    "        \n",
    "        while l1 < len(uList1) and l2 < len(uList2):\n",
    "            start = max(uList1[l1][0], uList2[l2][0])\n",
    "            end = min (uList1[l1][1], uList2[l2][1])\n",
    "            if end - start >= minInterval:\n",
    "                print(uList1[l1], uList2[l2])\n",
    "                return True\n",
    "            if uList1[l1][1] < uList2[l2][1]:\n",
    "                l1 +=1\n",
    "            elif uList1[l1][1] >= uList2[l2][1]:\n",
    "                l2 += 1\n",
    "        return False\n",
    "    \n",
    "obj = Solution()\n",
    "u1 = [(20, 28),(35,40),(42,65)]\n",
    "u2 = [(15,21),(27,32),(36,38),(43,50),(54,70)]\n",
    "req = 10\n",
    "ans = obj.hasInterval(u1,u2,req)\n",
    "print(ans)\n"
   ]
  },
  {
   "cell_type": "markdown",
   "metadata": {},
   "source": [
    "# 12. Find First and Last Position of Element in Sorted Array\n"
   ]
  },
  {
   "cell_type": "code",
   "execution_count": 13,
   "metadata": {},
   "outputs": [
    {
     "name": "stdout",
     "output_type": "stream",
     "text": [
      "[4, 8]\n"
     ]
    }
   ],
   "source": [
    "class Solution(object):\n",
    "    def searchRange(self, nums, target):\n",
    "        left_index = self.indexSearch(nums, target, True)\n",
    "        \n",
    "        if left_index == len(nums) or nums[left_index] != target:\n",
    "            return [-1,-1]\n",
    "        \n",
    "        right_index = self.indexSearch(nums, target, False)\n",
    "                \n",
    "        return [left_index, right_index]\n",
    "    \n",
    "    def indexSearch(self, nums, target, left):\n",
    "        lo = 0\n",
    "        hi = len(nums)\n",
    "        \n",
    "        while lo < hi:\n",
    "            mid = (lo + hi)//2\n",
    "            \n",
    "            if nums[mid] > target or (left and nums[mid] == target):\n",
    "                hi = mid\n",
    "            else:\n",
    "                lo = mid + 1\n",
    "        \n",
    "        return lo\n",
    "        \n",
    "obj = Solution()\n",
    "arr = [1,2,3,3,4,4,4,4,5,6]\n",
    "t = 4\n",
    "ans = obj.searchRange(arr,t)\n",
    "print(ans)"
   ]
  },
  {
   "cell_type": "markdown",
   "metadata": {},
   "source": [
    "# 13. Insert Interval\n",
    "Given a set of non-overlapping intervals, insert a new interval into the intervals (merge if necessary).\n",
    "\n",
    "You may assume that the intervals were initially sorted according to their start times."
   ]
  },
  {
   "cell_type": "code",
   "execution_count": 14,
   "metadata": {},
   "outputs": [
    {
     "name": "stdout",
     "output_type": "stream",
     "text": [
      "[[1, 3], [6, 18]]\n",
      "[[1, 3], [6, 18]]\n"
     ]
    }
   ],
   "source": [
    "class Solution(object):\n",
    "    def insertInterval(self, intervals, newInterval):\n",
    "        \"\"\"\n",
    "        Fails to use the condition that the intervals \n",
    "        are initially sorted\n",
    "        \"\"\"\n",
    "        intervals.append(newInterval)\n",
    "        \n",
    "        intervals.sort(key=lambda x:x[0])\n",
    "        res = []\n",
    "        for interval in intervals:\n",
    "            if len(res) > 0 and res[-1][1] >= interval[0]:\n",
    "                res[-1][1] = max(res[-1][1], interval[1])\n",
    "            else:\n",
    "                res.append(interval)\n",
    "        \n",
    "        return res\n",
    "    \n",
    "    def insertInterval_Optimal(self, intervals, newInterval):\n",
    "        res = []\n",
    "        for index, interval in enumerate(intervals):\n",
    "            if interval[1] < newInterval[0]:\n",
    "                res.append(interval)\n",
    "            elif interval[0] > newInterval[1]:\n",
    "                res.append(newInterval)\n",
    "                \n",
    "                return res+intervals[index:]\n",
    "            else:\n",
    "                newInterval[0] = min(interval[0],newInterval[0])\n",
    "                newInterval[1] = max(interval[1], newInterval[1])\n",
    "        \n",
    "        res.append(newInterval)\n",
    "        \n",
    "        return res\n",
    "        \n",
    "obj = Solution()\n",
    "intervals = [[1,3], [6,9], [11, 15]]\n",
    "newI = [8,18]\n",
    "ans = obj.insertInterval(intervals, newI)\n",
    "print(ans)\n",
    "ans2 = obj.insertInterval_Optimal(intervals, newI)\n",
    "print(ans2)"
   ]
  },
  {
   "cell_type": "markdown",
   "metadata": {},
   "source": [
    "# 14. Shortest Word Distance"
   ]
  },
  {
   "cell_type": "code",
   "execution_count": 18,
   "metadata": {},
   "outputs": [
    {
     "name": "stdout",
     "output_type": "stream",
     "text": [
      "3\n"
     ]
    }
   ],
   "source": [
    "import collections\n",
    "class Solution:\n",
    "    def shortestDistance(self, words, word1, word2):\n",
    "        \n",
    "        wordDict = collections.defaultdict(list)\n",
    "        for idx, word in enumerate(words):\n",
    "            wordDict[word].append(idx)\n",
    "            \n",
    "        l1 = wordDict[word1]\n",
    "        l2 = wordDict[word2]\n",
    "        \n",
    "        a = 0\n",
    "        b = 0\n",
    "        \n",
    "        minDist = float('inf')\n",
    "        while a < len(l1) and b < len(l2):\n",
    "            diff = abs(l1[a] - l2[b])\n",
    "            minDist = min(minDist, diff)\n",
    "            \n",
    "            if l1[a] < l2[b]:\n",
    "                a += 1\n",
    "            else:\n",
    "                b += 1\n",
    "            \n",
    "        return minDist\n",
    "            \n",
    "obj = Solution()\n",
    "words = [\"practice\", \"makes\", \"perfect\", \"coding\", \"makes\"]\n",
    "word1 = \"coding\"\n",
    "word2 = \"practice\"\n",
    "ans = obj.shortestDistance(words, word1, word2)\n",
    "print(ans)"
   ]
  },
  {
   "cell_type": "code",
   "execution_count": 19,
   "metadata": {},
   "outputs": [
    {
     "name": "stdout",
     "output_type": "stream",
     "text": [
      "3\n"
     ]
    }
   ],
   "source": [
    "class Solution:\n",
    "    def shortestDistance(self, words, word1, word2):\n",
    "        i1, i2 = -1, -1\n",
    "        minDist = float('inf')\n",
    "        for i in range(len(words)):\n",
    "            if word1 == words[i]:\n",
    "                i1 = i\n",
    "            if word2 == words[i]:\n",
    "                i2 = i\n",
    "            if i1!=-1 and i2!=-1:\n",
    "                minDist = min(minDist, abs(i1 - i2))\n",
    "        \n",
    "        return minDist\n",
    "obj = Solution()\n",
    "words = [\"practice\", \"makes\", \"perfect\", \"coding\", \"makes\"]\n",
    "word1 = \"coding\"\n",
    "word2 = \"practice\"\n",
    "ans = obj.shortestDistance(words, word1, word2)\n",
    "print(ans)\n"
   ]
  },
  {
   "cell_type": "code",
   "execution_count": null,
   "metadata": {},
   "outputs": [],
   "source": []
  }
 ],
 "metadata": {
  "kernelspec": {
   "display_name": "Python 3",
   "language": "python",
   "name": "python3"
  },
  "language_info": {
   "codemirror_mode": {
    "name": "ipython",
    "version": 3
   },
   "file_extension": ".py",
   "mimetype": "text/x-python",
   "name": "python",
   "nbconvert_exporter": "python",
   "pygments_lexer": "ipython3",
   "version": "3.7.0"
  }
 },
 "nbformat": 4,
 "nbformat_minor": 2
}
