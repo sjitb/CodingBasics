{
 "cells": [
  {
   "cell_type": "markdown",
   "metadata": {},
   "source": [
    "# 1. 2D Arrays Hourglass\n"
   ]
  },
  {
   "cell_type": "code",
   "execution_count": 1,
   "metadata": {},
   "outputs": [
    {
     "name": "stdout",
     "output_type": "stream",
     "text": [
      "13\n"
     ]
    }
   ],
   "source": [
    "#!/bin/python\n",
    "\n",
    "import math\n",
    "import os\n",
    "import random\n",
    "import re\n",
    "import sys\n",
    "\n",
    "# Complete the hourglassSum function below.\n",
    "def hourglassSum(arr):\n",
    "\n",
    "    max_sum = -1000\n",
    "    for i in range(len(arr)-2):\n",
    "        for j in range(len(arr[0])-2):\n",
    "            \n",
    "            top_sum = sum(arr[i][j:j+3])\n",
    "\n",
    "            mid_sum = arr[i+1][j+1]\n",
    "\n",
    "            bottom_sum = sum(arr[i+2][j:j+3])\n",
    "\n",
    "            hourglass = top_sum + mid_sum + bottom_sum\n",
    "\n",
    "            if hourglass > max_sum:\n",
    "                max_sum = hourglass\n",
    "        \n",
    "    return max_sum\n",
    "\n",
    "if __name__ == '__main__':\n",
    "    #fptr = open(os.environ['OUTPUT_PATH'], 'w')\n",
    "\n",
    "    arr = [[1, 1, 1, 0, 0, 0], [0, 1, 0, 0, 0, 0], [1, 1, 1, 0, 0, 0], [0, 9, 2, -4, -4, 0],[0, 0, 0, -2, 0, 0],[0, 0, -1, -2, -4, 0]]\n",
    "\n",
    "    #for _ in xrange(6):\n",
    "    #    arr.append(map(int, raw_input().rstrip().split()))\n",
    "\n",
    "    result = hourglassSum(arr)\n",
    "\n",
    "    #fptr.write(str(result) + '\\n')\n",
    "\n",
    "    #fptr.close()\n",
    "    print(result)\n"
   ]
  },
  {
   "cell_type": "markdown",
   "metadata": {},
   "source": [
    "# 2. Array Left Rotation"
   ]
  },
  {
   "cell_type": "code",
   "execution_count": 3,
   "metadata": {},
   "outputs": [
    {
     "name": "stdout",
     "output_type": "stream",
     "text": [
      "[8, 1, 2, 3, 4, 5, 6, 7]\n"
     ]
    }
   ],
   "source": [
    "#!/bin/python\n",
    "\n",
    "import math\n",
    "import os\n",
    "import random\n",
    "import re\n",
    "import sys\n",
    "\n",
    "# Complete the rotLeft function below.\n",
    "def rotLeft(a, d):\n",
    "    i = d%len(a)\n",
    "\n",
    "    return (a[i:]+a[:i])\n",
    "\n",
    "if __name__ == '__main__':\n",
    "    \n",
    "    d = 7\n",
    "    a = [1, 2, 3, 4, 5, 6 , 7, 8]\n",
    "    result = rotLeft(a, d)\n",
    "\n",
    "    print(result)"
   ]
  },
  {
   "cell_type": "code",
   "execution_count": null,
   "metadata": {},
   "outputs": [],
   "source": []
  }
 ],
 "metadata": {
  "kernelspec": {
   "display_name": "Python 3",
   "language": "python",
   "name": "python3"
  },
  "language_info": {
   "codemirror_mode": {
    "name": "ipython",
    "version": 3
   },
   "file_extension": ".py",
   "mimetype": "text/x-python",
   "name": "python",
   "nbconvert_exporter": "python",
   "pygments_lexer": "ipython3",
   "version": "3.7.0"
  }
 },
 "nbformat": 4,
 "nbformat_minor": 2
}
