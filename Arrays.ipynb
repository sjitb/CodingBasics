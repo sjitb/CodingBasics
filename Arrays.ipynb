{
 "cells": [
  {
   "cell_type": "markdown",
   "metadata": {},
   "source": [
    "# 1. 2D Arrays Hourglass\n"
   ]
  },
  {
   "cell_type": "code",
   "execution_count": 1,
   "metadata": {},
   "outputs": [
    {
     "name": "stdout",
     "output_type": "stream",
     "text": [
      "13\n"
     ]
    }
   ],
   "source": [
    "#!/bin/python\n",
    "\n",
    "import math\n",
    "import os\n",
    "import random\n",
    "import re\n",
    "import sys\n",
    "\n",
    "# Complete the hourglassSum function below.\n",
    "def hourglassSum(arr):\n",
    "\n",
    "    max_sum = -1000\n",
    "    for i in range(len(arr)-2):\n",
    "        for j in range(len(arr[0])-2):\n",
    "            \n",
    "            top_sum = sum(arr[i][j:j+3])\n",
    "\n",
    "            mid_sum = arr[i+1][j+1]\n",
    "\n",
    "            bottom_sum = sum(arr[i+2][j:j+3])\n",
    "\n",
    "            hourglass = top_sum + mid_sum + bottom_sum\n",
    "\n",
    "            if hourglass > max_sum:\n",
    "                max_sum = hourglass\n",
    "        \n",
    "    return max_sum\n",
    "\n",
    "if __name__ == '__main__':\n",
    "    #fptr = open(os.environ['OUTPUT_PATH'], 'w')\n",
    "\n",
    "    arr = [[1, 1, 1, 0, 0, 0], [0, 1, 0, 0, 0, 0], [1, 1, 1, 0, 0, 0], [0, 9, 2, -4, -4, 0],[0, 0, 0, -2, 0, 0],[0, 0, -1, -2, -4, 0]]\n",
    "\n",
    "    #for _ in xrange(6):\n",
    "    #    arr.append(map(int, raw_input().rstrip().split()))\n",
    "\n",
    "    result = hourglassSum(arr)\n",
    "\n",
    "    #fptr.write(str(result) + '\\n')\n",
    "\n",
    "    #fptr.close()\n",
    "    print(result)\n"
   ]
  },
  {
   "cell_type": "markdown",
   "metadata": {},
   "source": [
    "# 2. Array Left Rotation"
   ]
  },
  {
   "cell_type": "code",
   "execution_count": 3,
   "metadata": {},
   "outputs": [
    {
     "name": "stdout",
     "output_type": "stream",
     "text": [
      "[8, 1, 2, 3, 4, 5, 6, 7]\n"
     ]
    }
   ],
   "source": [
    "#!/bin/python\n",
    "\n",
    "import math\n",
    "import os\n",
    "import random\n",
    "import re\n",
    "import sys\n",
    "\n",
    "# Complete the rotLeft function below.\n",
    "def rotLeft(a, d):\n",
    "    i = d%len(a)\n",
    "\n",
    "    return (a[i:]+a[:i])\n",
    "\n",
    "if __name__ == '__main__':\n",
    "    \n",
    "    d = 7\n",
    "    a = [1, 2, 3, 4, 5, 6 , 7, 8]\n",
    "    result = rotLeft(a, d)\n",
    "\n",
    "    print(result)"
   ]
  },
  {
   "cell_type": "markdown",
   "metadata": {},
   "source": [
    "# 3. Move Zeroes"
   ]
  },
  {
   "cell_type": "code",
   "execution_count": 8,
   "metadata": {},
   "outputs": [
    {
     "name": "stdout",
     "output_type": "stream",
     "text": [
      "[2, 4, 1, 10, 22, 0, 0]\n"
     ]
    }
   ],
   "source": [
    "class Solution(object):\n",
    "    def movezeroes(self, nums):\n",
    "        lastnonzero = 0\n",
    "        for i in range(len(nums)):\n",
    "            if nums[i] != 0:\n",
    "                nums[lastnonzero] = nums[i]\n",
    "                lastnonzero += 1\n",
    "                \n",
    "        for i in range(lastnonzero, len(nums)):\n",
    "            nums[i] = 0\n",
    "        return nums\n",
    "    \n",
    "nums = [0,2,4,0,1,10,22]\n",
    "obj = Solution()\n",
    "nums = obj.movezeroes(nums)\n",
    "print(nums)"
   ]
  },
  {
   "cell_type": "markdown",
   "metadata": {},
   "source": [
    "# 4. SubArray Sum Equals K"
   ]
  },
  {
   "cell_type": "code",
   "execution_count": 5,
   "metadata": {},
   "outputs": [
    {
     "name": "stdout",
     "output_type": "stream",
     "text": [
      "2\n"
     ]
    }
   ],
   "source": [
    "from collections import Counter\n",
    "from itertools import accumulate\n",
    "class Solution(object):\n",
    "    def subArraySum(self, nums, K):\n",
    "        \n",
    "        total = 0\n",
    "        count = Counter()\n",
    "        count[0] += 1\n",
    "        \n",
    "        for aSum in list(accumulate(nums)):\n",
    "            total += count[aSum - k]\n",
    "            count[aSum] += 1\n",
    "        \n",
    "        return total\n",
    "        \n",
    "        \n",
    "nums = [1, 1, 2, 4, 6, 8]\n",
    "k = 14\n",
    "obj = Solution()\n",
    "ans = obj.subArraySum(nums,k)\n",
    "print(ans)"
   ]
  },
  {
   "cell_type": "code",
   "execution_count": 4,
   "metadata": {},
   "outputs": [
    {
     "name": "stdout",
     "output_type": "stream",
     "text": [
      "[[-10, 10, 0], [-4, 5, -1]]\n"
     ]
    }
   ],
   "source": [
    "class Solution(object):\n",
    "    def threeSum(self, arr):\n",
    "        arr.sort()\n",
    "        \n",
    "        n = len(arr)\n",
    "        res = []\n",
    "        for i in range(n-2):\n",
    "            if i > 0 and arr[i]==arr[i-1]:\n",
    "                continue                \n",
    "            if arr[i] > 0:\n",
    "                break\n",
    "            l,r = i+1, n\n",
    "            temp ={}\n",
    "            target = 0-arr[i]\n",
    "            while l < r:\n",
    "                diff = target - arr[l]\n",
    "                if diff in temp:\n",
    "                    res.append([arr[i], arr[l], diff])\n",
    "                else:\n",
    "                    temp[arr[l]] = l\n",
    "                \n",
    "                l += 1\n",
    "        return res\n",
    "    \n",
    "obj = Solution()\n",
    "inputArr = [-1,0,10,-4, -1, 5, -4, -10, 22]\n",
    "ans = obj.threeSum(inputArr)\n",
    "\n",
    "print(ans)"
   ]
  },
  {
   "cell_type": "markdown",
   "metadata": {},
   "source": [
    "# 5. Most Water"
   ]
  },
  {
   "cell_type": "code",
   "execution_count": 2,
   "metadata": {},
   "outputs": [
    {
     "name": "stdout",
     "output_type": "stream",
     "text": [
      "49\n"
     ]
    }
   ],
   "source": [
    "class Solution(object):\n",
    "    def maxArea(self, height):\n",
    "        \n",
    "        l = 0\n",
    "        r = len(height) - 1\n",
    "        maxarea = 0\n",
    "\n",
    "        while l < r:\n",
    "            maxarea = max(maxarea, (min(height[l], height[r]) * (r - l)))\n",
    "            \n",
    "            if height[l] < height[r]:\n",
    "                l += 1\n",
    "            else:\n",
    "                r -= 1\n",
    "        \n",
    "        return maxarea\n",
    "\n",
    "obj = Solution()\n",
    "arr = [1,8,6,2,5,4,8,3,7]\n",
    "ans = obj.maxArea(arr)\n",
    "print(ans)"
   ]
  },
  {
   "cell_type": "markdown",
   "metadata": {},
   "source": [
    "# 6. 3-Sum"
   ]
  },
  {
   "cell_type": "code",
   "execution_count": 4,
   "metadata": {},
   "outputs": [
    {
     "name": "stdout",
     "output_type": "stream",
     "text": [
      "[[-5, -2, 7], [-5, -1, 6], [-2, -1, 3]]\n"
     ]
    }
   ],
   "source": [
    "class Solution(object):\n",
    "    def threeSum(self, nums):\n",
    "        if len(nums) < 3:\n",
    "            return []\n",
    "        nums.sort()\n",
    "        res = set()\n",
    "        for i, v in enumerate(nums[:-2]):\n",
    "            if i >= 1 and v == nums[i-1]:\n",
    "                continue\n",
    "            d = {}\n",
    "            for x in nums[i+1:]:\n",
    "                if x not in d:\n",
    "                    d[-v-x] = 1\n",
    "                else:\n",
    "                    res.add((v, -v-x, x))\n",
    "        return [*map(list, res)]\n",
    "        \n",
    "obj = Solution()\n",
    "arr = [-1,-8,6,-2,-5,4,8,3,7]\n",
    "ans = obj.threeSum(arr)\n",
    "print(ans)        \n",
    "        "
   ]
  },
  {
   "cell_type": "markdown",
   "metadata": {},
   "source": [
    "# 7. Next Permutation "
   ]
  },
  {
   "cell_type": "code",
   "execution_count": 9,
   "metadata": {},
   "outputs": [
    {
     "name": "stdout",
     "output_type": "stream",
     "text": [
      "[7, 1, 2, 3, 4, 5, 9, 6]\n"
     ]
    }
   ],
   "source": [
    "class Solution(object):\n",
    "    def nextPermutation(self, nums):\n",
    "        i = len(nums) - 2\n",
    "        while i >= 0 and nums[i+1] <= nums[i]:\n",
    "            i -= 1\n",
    "\n",
    "        if i >= 0:\n",
    "            j = len(nums) - 1\n",
    "            while j >= 0 and nums[j] <= nums[i]:\n",
    "                j -= 1\n",
    "                \n",
    "            nums[i], nums[j] = nums[j], nums[i]\n",
    "\n",
    "        nums[i+1:].reverse()\n",
    "\n",
    "obj = Solution()\n",
    "arr = [7,1,2,3,4,5,6,9]\n",
    "obj.nextPermutation(arr)\n",
    "print(arr)        \n"
   ]
  },
  {
   "cell_type": "markdown",
   "metadata": {},
   "source": [
    "# 8. Multiply Strings "
   ]
  },
  {
   "cell_type": "code",
   "execution_count": 12,
   "metadata": {},
   "outputs": [
    {
     "name": "stdout",
     "output_type": "stream",
     "text": [
      "220\n"
     ]
    }
   ],
   "source": [
    "class Solution:\n",
    "    def multiply(self, num1, num2):\n",
    "        \n",
    "        num1 = num1[::-1]\n",
    "        num2 = num2[::-1]\n",
    "        toint1 = 0\n",
    "        toint2 = 0\n",
    "        \n",
    "        for index, item in enumerate(num1):\n",
    "            toint1 += (ord(item) -ord('0')) * (10 ** index)\n",
    "        \n",
    "        for index, item in enumerate(num2):\n",
    "            toint2 += (ord(item) -ord('0')) * (10 ** index)\n",
    "        \n",
    "        return str(toint1 * toint2)\n",
    "\n",
    "obj = Solution()\n",
    "num1 = \"22\"\n",
    "num2 = \"10\"\n",
    "ans = obj.multiply(num1,num2)\n",
    "print(ans)    "
   ]
  },
  {
   "cell_type": "markdown",
   "metadata": {},
   "source": [
    "# 9. Rotate Image"
   ]
  },
  {
   "cell_type": "code",
   "execution_count": 14,
   "metadata": {},
   "outputs": [
    {
     "name": "stdout",
     "output_type": "stream",
     "text": [
      "[[15, 13, 2, 5], [14, 3, 4, 1], [12, 6, 8, 9], [16, 7, 10, 11]]\n"
     ]
    }
   ],
   "source": [
    "class Solution(object):\n",
    "    \n",
    "    def rotateImage(self, image):\n",
    "        \n",
    "        for i in range(len(image[0])):\n",
    "            for j in range(i,len(image[0])):\n",
    "                image[i][j], image[j][i] = image[j][i], image[i][j]\n",
    "        \n",
    "        for k in range(len(image[0])):\n",
    "            image[k].reverse()\n",
    "\n",
    "obj = Solution()\n",
    "imageInput = [\n",
    "  [ 5, 1, 9,11],\n",
    "  [ 2, 4, 8,10],\n",
    "  [13, 3, 6, 7],\n",
    "  [15,14,12,16]\n",
    "] \n",
    "obj.rotateImage(imageInput)\n",
    "print(imageInput) \n",
    "        \n"
   ]
  },
  {
   "cell_type": "code",
   "execution_count": null,
   "metadata": {},
   "outputs": [],
   "source": []
  }
 ],
 "metadata": {
  "kernelspec": {
   "display_name": "Python 3",
   "language": "python",
   "name": "python3"
  },
  "language_info": {
   "codemirror_mode": {
    "name": "ipython",
    "version": 3
   },
   "file_extension": ".py",
   "mimetype": "text/x-python",
   "name": "python",
   "nbconvert_exporter": "python",
   "pygments_lexer": "ipython3",
   "version": "3.7.4"
  }
 },
 "nbformat": 4,
 "nbformat_minor": 2
}
