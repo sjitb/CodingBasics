{
 "cells": [
  {
   "cell_type": "markdown",
   "metadata": {},
   "source": [
    "# 1. Two Strings\n",
    "### Problem Statement: "
   ]
  },
  {
   "cell_type": "code",
   "execution_count": 4,
   "metadata": {},
   "outputs": [
    {
     "name": "stdout",
     "output_type": "stream",
     "text": [
      "YES\n",
      "NO\n"
     ]
    }
   ],
   "source": [
    "#!/bin/python\n",
    "\n",
    "import math\n",
    "import os\n",
    "import random\n",
    "import re\n",
    "import sys\n",
    "\n",
    "# Complete the twoStrings function below.\n",
    "def twoStrings(s1, s2):\n",
    "    charset1 = set(s1)\n",
    "    charset2 = set(s2)\n",
    "    if set.intersection(charset1, charset2):\n",
    "        return 'YES'\n",
    "    else:\n",
    "        return 'NO'\n",
    "\n",
    "if __name__ == '__main__':\n",
    "    #fptr = open(os.environ['OUTPUT_PATH'], 'w')\n",
    "\n",
    "    #q = int(raw_input())\n",
    "\n",
    "    #for q_itr in xrange(q):\n",
    "    #    s1 = raw_input()\n",
    "\n",
    "    #    s2 = raw_input()\n",
    "\n",
    "    #    result = twoStrings(s1, s2)\n",
    "\n",
    "    #    fptr.write(result + '\\n')\n",
    "\n",
    "    #fptr.close()\n",
    "    \n",
    "    result1 = twoStrings('coffee', 'caffiene')\n",
    "    result2 = twoStrings('shots', 'decaf')\n",
    "    print(result1)\n",
    "    print(result2)\n"
   ]
  },
  {
   "cell_type": "markdown",
   "metadata": {},
   "source": [
    "# 2. Ransom Note\n",
    "### Problem Statement: Complete the checkMagazine function. It must print Yes if the note can be formed using the magazine, or No.\n",
    "\n",
    "checkMagazine has the following parameters:\n",
    "\n",
    "magazine: an array of strings, each a word in the magazine\n",
    "note: an array of strings, each a word in the ransom note"
   ]
  },
  {
   "cell_type": "code",
   "execution_count": 3,
   "metadata": {},
   "outputs": [
    {
     "name": "stdout",
     "output_type": "stream",
     "text": [
      "Yes\n"
     ]
    }
   ],
   "source": [
    "#!/bin/python\n",
    "\n",
    "import math\n",
    "import os\n",
    "import random\n",
    "import re\n",
    "import sys\n",
    "\n",
    "from collections import Counter\n",
    "\n",
    "# Complete the checkMagazine function below.\n",
    "def checkMagazine(magazine, note):\n",
    "    mag_dict = Counter(magazine)\n",
    "    note_dict = Counter(note)\n",
    "    result = 'No'\n",
    "   \n",
    "    for key, value in note_dict.items():\n",
    "        if (mag_dict[key] >= note_dict[key]):\n",
    "            result = 'Yes'\n",
    "        else:\n",
    "            result = 'No'\n",
    "            break\n",
    "    print(result)\n",
    "\n",
    "if __name__ == '__main__':\n",
    "    #mn = raw_input().split()\n",
    "\n",
    "    #m = int(mn[0])\n",
    "\n",
    "    #n = int(mn[1])\n",
    "\n",
    "    #magazine = raw_input().rstrip().split()\n",
    "    magazine = ['give', 'me', 'one', 'grand', 'today', 'night']\n",
    "\n",
    "    #note = raw_input().rstrip().split()\n",
    "    note = ['give', 'one', 'grand', 'today']\n",
    "\n",
    "    checkMagazine(magazine, note)\n"
   ]
  },
  {
   "cell_type": "markdown",
   "metadata": {},
   "source": [
    "# 3. Sherlock Anagram\n",
    "### Problem Statement:\n"
   ]
  },
  {
   "cell_type": "code",
   "execution_count": 1,
   "metadata": {},
   "outputs": [
    {
     "name": "stdout",
     "output_type": "stream",
     "text": [
      "4.0\n"
     ]
    }
   ],
   "source": [
    "#!/bin/python\n",
    "\n",
    "import math\n",
    "import os\n",
    "import random\n",
    "import re\n",
    "import sys\n",
    "import string\n",
    "\n",
    "# Complete the sherlockAndAnagrams function below.\n",
    "def sherlockAndAnagrams(s):\n",
    "\n",
    "    ALPHABET = string.ascii_lowercase\n",
    "\n",
    "    signatures = {}\n",
    "\n",
    "    signature = [0 for _ in ALPHABET]\n",
    "    for letter in s:\n",
    "        signature[ord(letter)-ord(ALPHABET[0])] += 1\n",
    "\n",
    "    # iterate over all substrings of s\n",
    "    for start in range(len(s)):\n",
    "        for finish in range(start, len(s)):\n",
    "            # initialize substring signature\n",
    "            signature = [0 for _ in ALPHABET]\n",
    "            for letter in s[start:finish+1]:\n",
    "                signature[ord(letter)-ord(ALPHABET[0])] += 1\n",
    "            # tuples are hashable in contrast to lists\n",
    "            signature = tuple(signature)\n",
    "            signatures[signature] = signatures.get(signature, 0) + 1\n",
    "\n",
    "    res = 0\n",
    "    for count in signatures.values():\n",
    "        res += count*(count-1)/2\n",
    "    return res\n",
    "\n",
    "if __name__ == '__main__':\n",
    "    #fptr = open(os.environ['OUTPUT_PATH'], 'w')\n",
    "\n",
    "    #q = int(raw_input())\n",
    "\n",
    "    #for q_itr in xrange(q):\n",
    "    #    s = raw_input()\n",
    "    s = 'abba'\n",
    "    result = sherlockAndAnagrams(s)\n",
    "\n",
    "    print(result)\n",
    "    \n",
    "    #fptr.write(str(result) + '\\n')\n",
    "\n",
    "    #fptr.close()\n"
   ]
  },
  {
   "cell_type": "code",
   "execution_count": null,
   "metadata": {},
   "outputs": [],
   "source": []
  }
 ],
 "metadata": {
  "kernelspec": {
   "display_name": "Python 3",
   "language": "python",
   "name": "python3"
  },
  "language_info": {
   "codemirror_mode": {
    "name": "ipython",
    "version": 3
   },
   "file_extension": ".py",
   "mimetype": "text/x-python",
   "name": "python",
   "nbconvert_exporter": "python",
   "pygments_lexer": "ipython3",
   "version": "3.7.0"
  }
 },
 "nbformat": 4,
 "nbformat_minor": 2
}
