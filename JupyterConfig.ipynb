{
 "cells": [
  {
   "cell_type": "markdown",
   "metadata": {},
   "source": [
    "# Introduction to ipykernel\n",
    "Briefly explain what ipykernel is and why it is needed for Jupyter notebooks."
   ]
  },
  {
   "cell_type": "code",
   "execution_count": 2,
   "metadata": {},
   "outputs": [],
   "source": [
    "# Introduction to ipykernel\n",
    "\n",
    "# ipykernel is a Jupyter kernel for Python. It allows Jupyter notebooks to run Python code.\n",
    "# It is an essential component for executing Python code in Jupyter notebooks.\n",
    "# By installing ipykernel, you can create and manage multiple Python environments (kernels) within Jupyter."
   ]
  },
  {
   "cell_type": "markdown",
   "metadata": {},
   "source": [
    "# Check Python Environment\n",
    "Check the current Python environment to ensure it is set up correctly."
   ]
  },
  {
   "cell_type": "code",
   "execution_count": null,
   "metadata": {},
   "outputs": [],
   "source": [
    "# Check Python Environment\n",
    "\n",
    "# Import the sys library to check the current Python environment\n",
    "import sys\n",
    "\n",
    "# Print the Python version\n",
    "print(\"Python version:\", sys.version)\n",
    "\n",
    "# Print the executable path\n",
    "print(\"Python executable:\", sys.executable)\n",
    "\n",
    "# Print the current environment paths\n",
    "print(\"Environment paths:\", sys.path)"
   ]
  },
  {
   "cell_type": "markdown",
   "metadata": {},
   "source": [
    "# Install ipykernel using pip\n",
    "Provide the command to install ipykernel using pip: `!pip install ipykernel`."
   ]
  },
  {
   "cell_type": "code",
   "execution_count": null,
   "metadata": {},
   "outputs": [],
   "source": [
    "# Install ipykernel using pip\n",
    "\n",
    "# Use pip to install ipykernel\n",
    "!python -m pip install ipykernel"
   ]
  },
  {
   "cell_type": "markdown",
   "metadata": {},
   "source": [
    "# Install ipykernel using conda\n",
    "Provide the command to install ipykernel using conda: `!conda install -c anaconda ipykernel`."
   ]
  },
  {
   "cell_type": "code",
   "execution_count": null,
   "metadata": {},
   "outputs": [],
   "source": [
    "# Install ipykernel using conda\n",
    "\n",
    "# Use conda to install ipykernel\n",
    "!conda install -c anaconda ipykernel"
   ]
  },
  {
   "cell_type": "markdown",
   "metadata": {},
   "source": [
    "# Verify Installation\n",
    "Verify the installation by listing available kernels: `!jupyter kernelspec list`."
   ]
  },
  {
   "cell_type": "code",
   "execution_count": null,
   "metadata": {},
   "outputs": [],
   "source": [
    "# Verify Installation\n",
    "\n",
    "# Verify the installation by listing available kernels\n",
    "!jupyter kernelspec list"
   ]
  }
 ],
 "metadata": {
  "kernelspec": {
   "display_name": "Python 3",
   "language": "python",
   "name": "python3"
  },
  "language_info": {
   "codemirror_mode": {
    "name": "ipython",
    "version": 3
   },
   "file_extension": ".py",
   "mimetype": "text/x-python",
   "name": "python",
   "nbconvert_exporter": "python",
   "pygments_lexer": "ipython3",
   "version": "3.13.1"
  }
 },
 "nbformat": 4,
 "nbformat_minor": 2
}
