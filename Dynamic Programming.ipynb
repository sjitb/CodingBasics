{
 "cells": [
  {
   "cell_type": "markdown",
   "metadata": {},
   "source": [
    "# 1. Longest Palindromic Substring"
   ]
  },
  {
   "cell_type": "code",
   "execution_count": 2,
   "metadata": {},
   "outputs": [
    {
     "name": "stdout",
     "output_type": "stream",
     "text": [
      "aba\n"
     ]
    }
   ],
   "source": [
    "class Solution(object):\n",
    "    def longestPalindrome(self, s):\n",
    "        \"\"\"\n",
    "        :type s: str\n",
    "        :rtype: str\n",
    "        \"\"\"\n",
    "\t\t## Check for empty strings and wrong inputs\n",
    "        if s == None or len(s) < 1:\n",
    "            return \"\"\n",
    "        \n",
    "\t\t## maxpal variable will store the longest palindrome substring we get \n",
    "        maxpal = \"\"\n",
    "        for i in range(0, len(s)):\n",
    "\t\t\t## s1 will take into account cases like \"racecar\" where the middle character doesn't repeat\n",
    "            s1 = self.isPal(i,i,s)\n",
    "\t\t\t## s2 will take into account cases like \"abba\" where middle character repeats\n",
    "            s2 = self.isPal(i,i+1,s)\n",
    "\t\t\t## Compare the max of s1 and s2 by length and storing it if it is greater than our \\\n",
    "            ## previous longest substring\n",
    "            maxpal = max(max(s1,s2, key=len),maxpal, key=len)\n",
    "        return maxpal\n",
    "        \n",
    "    def isPal(self, i,j, s):\n",
    "\t\t## Increasing window as long as we are getting palindrome\n",
    "        while i >= 0 and j < len(s) and s[i] == s[j]:\n",
    "            i -= 1\n",
    "            j += 1\n",
    "        return s[i+1:j]        \n",
    "\n",
    "obj = Solution()\n",
    "st = \"babad\"\n",
    "substr = obj.longestPalindrome(st)\n",
    "print(substr)"
   ]
  },
  {
   "cell_type": "markdown",
   "metadata": {},
   "source": [
    "# 2. Maximum SubArray\n",
    "### Given an integer array nums, find the contiguous subarray (containing at least one number) which has the largest sum and return its sum."
   ]
  },
  {
   "cell_type": "code",
   "execution_count": 7,
   "metadata": {},
   "outputs": [
    {
     "name": "stdout",
     "output_type": "stream",
     "text": [
      "6\n"
     ]
    }
   ],
   "source": [
    "## Dynamic Programming Kadane's\n",
    "\"\"\"\n",
    "Complexity Analysis\n",
    "\n",
    "Time complexity : O(N) since it's one pass along the array.\n",
    "\n",
    "Space complexity : O(1), since it's a constant space solution.\n",
    "\"\"\"\n",
    "class Solution(object):\n",
    "    def maxSubArray(self, nums):\n",
    "        n = len(nums)\n",
    "        max_sum = nums[0]\n",
    "        for i in range(1, n):\n",
    "            if nums[i - 1] > 0:\n",
    "                nums[i] += nums[i - 1] \n",
    "            max_sum = max(nums[i], max_sum)\n",
    "\n",
    "        return max_sum\n",
    "\n",
    "obj = Solution()\n",
    "arr = [4,-1,2,1]\n",
    "ans = obj.maxSubArray(arr)\n",
    "print(ans)        \n"
   ]
  },
  {
   "cell_type": "code",
   "execution_count": 6,
   "metadata": {},
   "outputs": [
    {
     "name": "stdout",
     "output_type": "stream",
     "text": [
      "6\n"
     ]
    }
   ],
   "source": [
    "## Greedy Solution\n",
    "\"\"\"\n",
    "Complexity Analysis\n",
    "\n",
    "Time complexity : O(N) since it's one pass along the array.\n",
    "\n",
    "Space complexity : O(1), since it's a constant space solution.\n",
    "\n",
    "\"\"\"\n",
    "\n",
    "class Solution(object):\n",
    "    def maxSubArray(self, nums):\n",
    "        n = len(nums)\n",
    "        curr_sum = max_sum = nums[0]\n",
    "\n",
    "        for i in range(1, n):\n",
    "            curr_sum = max(nums[i], curr_sum + nums[i])\n",
    "            max_sum = max(max_sum, curr_sum)\n",
    "            \n",
    "        return max_sum\n",
    "\n",
    "\n",
    "obj = Solution()\n",
    "arr = [4,-1,2,1]\n",
    "ans = obj.maxSubArray(arr)\n",
    "print(ans)        \n"
   ]
  },
  {
   "cell_type": "markdown",
   "metadata": {},
   "source": [
    "# 3. Best Time to Buy and Sell Stock\n",
    "\n",
    "### Say you have an array for which the ith element is the price of a given stock on day i. If you were only permitted to complete at most one transaction (i.e., buy one and sell one share of the stock), design an algorithm to find the maximum profit. Note that you cannot sell a stock before you buy one."
   ]
  },
  {
   "cell_type": "code",
   "execution_count": 9,
   "metadata": {},
   "outputs": [
    {
     "name": "stdout",
     "output_type": "stream",
     "text": [
      "5\n"
     ]
    }
   ],
   "source": [
    "class Solution(object):\n",
    "    def maxProfit(self, prices):\n",
    "        minPrice = float('inf')\n",
    "        maxProfit = 0\n",
    "        \n",
    "        for i in range(len(prices)):\n",
    "            if minPrice > prices[i]:\n",
    "                minPrice = prices[i]\n",
    "            else:\n",
    "                profit = prices[i] - minPrice\n",
    "                maxProfit = max(maxProfit, profit)\n",
    "        \n",
    "        return maxProfit\n",
    "    \n",
    "obj = Solution()\n",
    "arr = [7,1,5,3,6,4]\n",
    "ans = obj.maxProfit(arr)\n",
    "print(ans)        \n",
    "   "
   ]
  },
  {
   "cell_type": "markdown",
   "metadata": {},
   "source": [
    "# 4. Maximum Product SubArray"
   ]
  },
  {
   "cell_type": "code",
   "execution_count": 11,
   "metadata": {},
   "outputs": [
    {
     "name": "stdout",
     "output_type": "stream",
     "text": [
      "6\n"
     ]
    }
   ],
   "source": [
    "class Solution(object):\n",
    "    def maxProduct(self, nums):\n",
    "        l_min_sa = nums[0]    #represents min product of all subarrays ending in i\n",
    "        l_max_sa = nums[0]    #represents max product of all subarrays ending in i\n",
    "        g_max = nums[0]       #represents global max product of all subarrays\n",
    "        \n",
    "        for num in nums[1:]:\n",
    "            if num >= 0:\n",
    "                l_min_sa = min(num, l_min_sa*num)\n",
    "                l_max_sa = max(num, l_max_sa*num)\n",
    "                \n",
    "            else:\n",
    "                l_min_sa, l_max_sa = min(num, l_max_sa*num), max(num, l_min_sa*num)\n",
    "                \n",
    "            g_max = max(g_max, l_max_sa)\n",
    "            \n",
    "        return g_max\n",
    "\n",
    "arr = [2,3,-2,4]\n",
    "obj = Solution()\n",
    "ans = obj.maxProduct(arr)\n",
    "print(ans)"
   ]
  },
  {
   "cell_type": "markdown",
   "metadata": {},
   "source": [
    "# 5. Coin Change\n",
    "\n",
    "### You are given coins of different denominations and a total amount of money amount. Write a function to compute the fewest number of coins that you need to make up that amount. If that amount of money cannot be made up by any combination of the coins, return -1."
   ]
  },
  {
   "cell_type": "code",
   "execution_count": 12,
   "metadata": {},
   "outputs": [
    {
     "name": "stdout",
     "output_type": "stream",
     "text": [
      "[0, inf, inf, inf, inf, inf, inf, inf, inf, inf, inf, inf]\n",
      "3\n"
     ]
    }
   ],
   "source": [
    "class Solution(object):\n",
    "    def coinChange(self, coins, amount):\n",
    "        dp = [0] + [float('inf') for i in range(amount)]\n",
    "        print(dp)\n",
    "        for i in range(1, amount+1):\n",
    "            for coin in coins:\n",
    "                if i - coin >= 0:\n",
    "                    dp[i] = min(dp[i], dp[i-coin] + 1)\n",
    "        if dp[-1] == float('inf'):\n",
    "            return -1\n",
    "        return dp[-1]\n",
    "\n",
    "coins = [1, 2, 5]\n",
    "amount = 11\n",
    "obj = Solution()\n",
    "ans = obj.coinChange(coins, amount)\n",
    "print(ans)\n"
   ]
  },
  {
   "cell_type": "markdown",
   "metadata": {},
   "source": [
    "# 6. Split Array Largest Sum\n",
    "\n",
    "### Given an array which consists of non-negative integers and an integer m, you can split the array into m non-empty continuous subarrays. Write an algorithm to minimize the largest sum among these m subarrays."
   ]
  },
  {
   "cell_type": "code",
   "execution_count": 14,
   "metadata": {},
   "outputs": [
    {
     "name": "stdout",
     "output_type": "stream",
     "text": [
      "22\n"
     ]
    }
   ],
   "source": [
    "from collections import defaultdict    \n",
    "class Solution(object):\n",
    "    def helper(self, i, nums, m, cache):\n",
    "        if i == len(nums):\n",
    "            return 0\n",
    "        elif m == 1:\n",
    "            return sum(nums[i:])\n",
    "        else:\n",
    "            if i in cache and m in cache[i]:\n",
    "                return cache[i][m]\n",
    "            cache[i][m] = float('inf')\n",
    "            for j in range(1,len(nums)+1):\n",
    "                left = sum(nums[i:i+j]) \n",
    "                right = self.helper(i+j, nums, m-1, cache)\n",
    "                cache[i][m] = min(cache[i][m], max(left, right))\n",
    "                if left > right:\n",
    "                    break\n",
    "            return cache[i][m]\n",
    "    \n",
    "    def splitArray(self, nums, m):\n",
    "        \"\"\"\n",
    "        :type nums: List[int]\n",
    "        :type m: int\n",
    "        :rtype: int\n",
    "        \"\"\"\n",
    "        cache = defaultdict(dict)\n",
    "        ans = self.helper(0, nums, m, cache)\n",
    "        return ans\n",
    "    \n",
    "nums = [1,8,12,7,15,10, 2, 5]\n",
    "m = 3\n",
    "obj = Solution()\n",
    "ans = obj.splitArray(nums, m)\n",
    "print(ans)"
   ]
  },
  {
   "cell_type": "code",
   "execution_count": null,
   "metadata": {},
   "outputs": [],
   "source": []
  }
 ],
 "metadata": {
  "kernelspec": {
   "display_name": "Python 3",
   "language": "python",
   "name": "python3"
  },
  "language_info": {
   "codemirror_mode": {
    "name": "ipython",
    "version": 3
   },
   "file_extension": ".py",
   "mimetype": "text/x-python",
   "name": "python",
   "nbconvert_exporter": "python",
   "pygments_lexer": "ipython3",
   "version": "3.7.4"
  }
 },
 "nbformat": 4,
 "nbformat_minor": 2
}
