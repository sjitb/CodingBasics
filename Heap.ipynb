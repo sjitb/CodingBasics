{
 "cells": [
  {
   "cell_type": "markdown",
   "metadata": {},
   "source": [
    "# Task Scheduler\n",
    "\n",
    "Given a char array representing tasks CPU need to do. It contains capital letters A to Z where different letters represent different tasks. Tasks could be done without original order. Each task could be done in one interval. For each interval, CPU could finish one task or just be idle.\n",
    "\n",
    "However, there is a non-negative cooling interval n that means between two same tasks, there must be at least n intervals that CPU are doing different tasks or just be idle.\n",
    "\n",
    "You need to return the least number of intervals the CPU will take to finish all the given tasks.\n",
    "\n",
    "Input: tasks = [\"A\",\"A\",\"A\",\"B\",\"B\",\"B\"], n = 2\n",
    "Output: 8\n",
    "Explanation: A -> B -> idle -> A -> B -> idle -> A -> B."
   ]
  },
  {
   "cell_type": "code",
   "execution_count": 9,
   "metadata": {},
   "outputs": [
    {
     "name": "stdout",
     "output_type": "stream",
     "text": [
      "Counter({'A': 3, 'B': 2, 'C': 1, 'E': 1})\n",
      "[(-3, 'A'), (-2, 'B'), (-1, 'C'), (-1, 'E')]\n",
      "[(-2, 'A'), (-1, 'E'), (-1, 'B')]\n",
      "[(-1, 'A')]\n",
      "7\n"
     ]
    }
   ],
   "source": [
    "from heapq import heappush, heappop\n",
    "from collections import Counter\n",
    "class Solution:\n",
    "    def leastInterval(self, tasks, n):\n",
    "        \"\"\"\n",
    "        :type tasks: List[str]\n",
    "        :type n: int\n",
    "        :rtype: int\n",
    "        \"\"\"\n",
    "        curr_time, h = 0, []\n",
    "        print(Counter(tasks))\n",
    "        for k,v in Counter(tasks).items():\n",
    "            heappush(h, (-1*v, k))\n",
    "        while h:\n",
    "            print(h)\n",
    "            i, temp = 0, []\n",
    "            while i <= n:\n",
    "                curr_time += 1\n",
    "                if h:\n",
    "                    x,y = heappop(h)\n",
    "                    if x != -1:\n",
    "                        temp.append((x+1,y))\n",
    "                if not h and not temp:\n",
    "                    break\n",
    "                else:\n",
    "                    i += 1\n",
    "            for item in temp:\n",
    "                heappush(h, item)\n",
    "        return curr_time\n",
    "    \n",
    "obj = Solution()\n",
    "ans = obj.leastInterval(['A','A','B','A','C','E','B'], 2)\n",
    "print (ans)\n",
    "    "
   ]
  },
  {
   "cell_type": "code",
   "execution_count": null,
   "metadata": {},
   "outputs": [],
   "source": []
  },
  {
   "cell_type": "code",
   "execution_count": null,
   "metadata": {},
   "outputs": [],
   "source": []
  }
 ],
 "metadata": {
  "kernelspec": {
   "display_name": "Python 3",
   "language": "python",
   "name": "python3"
  },
  "language_info": {
   "codemirror_mode": {
    "name": "ipython",
    "version": 3
   },
   "file_extension": ".py",
   "mimetype": "text/x-python",
   "name": "python",
   "nbconvert_exporter": "python",
   "pygments_lexer": "ipython3",
   "version": "3.7.4"
  }
 },
 "nbformat": 4,
 "nbformat_minor": 2
}
