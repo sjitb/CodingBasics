{
 "cells": [
  {
   "cell_type": "markdown",
   "metadata": {},
   "source": [
    "# 1. Missing Number"
   ]
  },
  {
   "cell_type": "code",
   "execution_count": 1,
   "metadata": {},
   "outputs": [
    {
     "name": "stdout",
     "output_type": "stream",
     "text": [
      "[204, 205, 206]\n"
     ]
    }
   ],
   "source": [
    "#!/bin/python3\n",
    "\n",
    "import math\n",
    "import os\n",
    "import random\n",
    "import re\n",
    "import sys\n",
    "\n",
    "# Complete the missingNumbers function below.\n",
    "def missingNumbers(arr, brr):\n",
    "    arr_map = {}\n",
    "    if len(arr) == len(brr):\n",
    "        return []\n",
    "    for i in range(len(arr)):\n",
    "        if arr[i] in arr_map:\n",
    "            arr_map[arr[i]] += 1\n",
    "        else:\n",
    "            arr_map[arr[i]] = 1\n",
    "    return_list = []\n",
    "\n",
    "    for j in range(len(brr)):\n",
    "        if brr[j] in arr_map:\n",
    "            if arr_map[brr[j]] > 0:\n",
    "                arr_map[brr[j]] -= 1\n",
    "            else:\n",
    "                return_list.append(brr[j])\n",
    "        else:\n",
    "            return_list.append(brr[j])\n",
    "    \n",
    "    return sorted(return_list)\n",
    "\n",
    "if __name__ == '__main__':\n",
    "    #fptr = open(os.environ['OUTPUT_PATH'], 'w')\n",
    "\n",
    "    #n = int(input())\n",
    "\n",
    "    #arr = list(map(int, input().rstrip().split()))\n",
    "    arr = [203, 204, 205, 206, 207, 208, 203, 204, 205, 206]\n",
    "    #m = int(input())\n",
    "\n",
    "    #brr = list(map(int, input().rstrip().split()))\n",
    "    brr = [203, 204, 204, 205, 206, 207, 205, 208, 203, 206, 205, 206, 204]\n",
    "    result = missingNumbers(arr, brr)\n",
    "    \n",
    "    print(result)\n",
    "\n",
    "    #fptr.write(' '.join(map(str, result)))\n",
    "    #fptr.write('\\n')\n",
    "\n",
    "    #fptr.close()\n"
   ]
  },
  {
   "cell_type": "markdown",
   "metadata": {},
   "source": [
    "# 2. Ice Cream Parlor\n",
    "\n",
    "### Two Sum with repeats"
   ]
  },
  {
   "cell_type": "code",
   "execution_count": 3,
   "metadata": {},
   "outputs": [
    {
     "name": "stdout",
     "output_type": "stream",
     "text": [
      "[1, 4]\n"
     ]
    }
   ],
   "source": [
    "#!/bin/python3\n",
    "\n",
    "import math\n",
    "import os\n",
    "import random\n",
    "import re\n",
    "import sys\n",
    "\n",
    "# Complete the icecreamParlor function below.\n",
    "def icecreamParlor(m, arr):\n",
    "\n",
    "    cost_map = {}\n",
    "    for i in range(len(arr)):\n",
    "        list_ind = []\n",
    "        if arr[i] in cost_map:\n",
    "            cost_map[arr[i]].append(i)\n",
    "        else:\n",
    "            list_ind.append(i)\n",
    "            cost_map[arr[i]] = list_ind\n",
    "\n",
    "    item1, item2 = 0, 0\n",
    "    for key, value in cost_map.items():\n",
    "        if len(value) == 1:\n",
    "            if ((m - key) in cost_map):\n",
    "                item1 = value[0] + 1\n",
    "                tmp1 =  cost_map.get(m - key)   \n",
    "                item2 = tmp1[0] + 1\n",
    "                break\n",
    "        else:\n",
    "            item1 = value[0] + 1\n",
    "            if 2*key == m:\n",
    "                item2 = value[1] + 1\n",
    "                break\n",
    "            else:\n",
    "                if ((m - key) in cost_map):\n",
    "                    tmp1 =  cost_map.get(m -  key)   \n",
    "                    item2 = tmp1[0] + 1\n",
    "                    break\n",
    "            \n",
    "    return sorted([item1, item2])\n",
    "\n",
    "\n",
    "\n",
    "if __name__ == '__main__':\n",
    "    #fptr = open(os.environ['OUTPUT_PATH'], 'w')\n",
    "\n",
    "    #t = int(input())\n",
    "\n",
    "    #for t_itr in range(t):\n",
    "    #    m = int(input())\n",
    "\n",
    "    #    n = int(input())\n",
    "\n",
    "    #    arr = list(map(int, input().rstrip().split()))\n",
    "    m = 4\n",
    "    arr = [1, 4, 5, 3, 2]\n",
    "    result = icecreamParlor(m, arr)\n",
    "    \n",
    "    print(result)\n",
    "\n",
    "    #    fptr.write(' '.join(map(str, result)))\n",
    "    #    fptr.write('\\n')\n",
    "\n",
    "    #fptr.close()\n"
   ]
  },
  {
   "cell_type": "code",
   "execution_count": null,
   "metadata": {},
   "outputs": [],
   "source": []
  }
 ],
 "metadata": {
  "kernelspec": {
   "display_name": "Python 3",
   "language": "python",
   "name": "python3"
  },
  "language_info": {
   "codemirror_mode": {
    "name": "ipython",
    "version": 3
   },
   "file_extension": ".py",
   "mimetype": "text/x-python",
   "name": "python",
   "nbconvert_exporter": "python",
   "pygments_lexer": "ipython3",
   "version": "3.7.0"
  }
 },
 "nbformat": 4,
 "nbformat_minor": 2
}
