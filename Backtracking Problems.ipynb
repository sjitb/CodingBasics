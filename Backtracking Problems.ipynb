{
 "cells": [
  {
   "cell_type": "markdown",
   "metadata": {},
   "source": [
    "# Collection of BackTracking Problems\n",
    "### https://tinyurl.com/v5755gh"
   ]
  },
  {
   "cell_type": "markdown",
   "metadata": {},
   "source": [
    "# 1. Combination\n",
    "\n",
    "### Problem Statement: "
   ]
  },
  {
   "cell_type": "code",
   "execution_count": 20,
   "metadata": {},
   "outputs": [
    {
     "name": "stdout",
     "output_type": "stream",
     "text": [
      "[[1, 8, 9, 10], [1, 8, 9, 23], [1, 8, 9, 50], [1, 8, 10, 23], [1, 8, 10, 50], [1, 8, 23, 50], [1, 9, 10, 23], [1, 9, 10, 50], [1, 9, 23, 50], [1, 10, 23, 50], [8, 9, 10, 23], [8, 9, 10, 50], [8, 9, 23, 50], [8, 10, 23, 50], [9, 10, 23, 50]]\n"
     ]
    }
   ],
   "source": [
    "class SolComb(object):\n",
    "    def combine(self, n, k):\n",
    "        res = []\n",
    "        self.dfs(n, k, 0, [], res)\n",
    "        return res\n",
    "\n",
    "    def dfs(self, nums, k, index, path, res):\n",
    "        #if k < 0:  #backtracking\n",
    "            #return \n",
    "        if k == 0:\n",
    "            res.append(path)\n",
    "            return # backtracking \n",
    "        for i in range(index, len(nums)):\n",
    "            self.dfs(nums, k-1, i+1, path+[nums[i]], res)\n",
    "        \n",
    "obj = SolComb()\n",
    "ans = obj.combine([1, 8, 9, 10, 23, 50], 4)\n",
    "print(ans)"
   ]
  },
  {
   "cell_type": "markdown",
   "metadata": {},
   "source": [
    "# 2. Permutations I\n",
    "\n",
    "### Problem Statement: Permutation of unique integer arrays\n",
    "Time  Complexity:  k-permutations_of_n, Better that O(NxN!) but worse than O(N!)\n",
    "<br>\n",
    "Space Complexity: O(n!)"
   ]
  },
  {
   "cell_type": "code",
   "execution_count": 21,
   "metadata": {},
   "outputs": [
    {
     "name": "stdout",
     "output_type": "stream",
     "text": [
      "[[1, 4, 5], [1, 5, 4], [4, 1, 5], [4, 5, 1], [5, 4, 1], [5, 1, 4]]\n"
     ]
    }
   ],
   "source": [
    "class SolPerm1(object):\n",
    "    def permutation(self, nums):\n",
    "        \n",
    "        ans = []\n",
    "        n = len(nums)\n",
    "        self.backtrack(0, n, nums, ans)\n",
    "        \n",
    "        return ans\n",
    "    \n",
    "    def backtrack(self, index, n, nums, ans):\n",
    "        if index == n:\n",
    "            ans.append(nums[:])\n",
    "            return\n",
    "            \n",
    "        for i in range(index,n):\n",
    "            nums[index], nums[i] = nums[i], nums[index]\n",
    "            \n",
    "            self.backtrack(index + 1, n, nums, ans)\n",
    "            \n",
    "            nums[index], nums[i] = nums[i], nums[index]\n",
    "        return\n",
    "\n",
    "obj = SolPerm1()\n",
    "ans = obj.permutation([1,4,5])\n",
    "print(ans)"
   ]
  },
  {
   "cell_type": "markdown",
   "metadata": {},
   "source": [
    "# 3. Permutation II\n",
    "### Problem Statement: Permutation with repeats"
   ]
  },
  {
   "cell_type": "code",
   "execution_count": 22,
   "metadata": {},
   "outputs": [
    {
     "name": "stdout",
     "output_type": "stream",
     "text": [
      "[[1, 1, 2], [1, 2, 1], [2, 1, 1]]\n"
     ]
    }
   ],
   "source": [
    "class SolPerm2(object):\n",
    "    def permuteUnique(self, nums):\n",
    "        res = []\n",
    "        visited = [False]*len(nums)\n",
    "        nums.sort()\n",
    "        self.backtrack(nums, visited, [], res)\n",
    "        return res\n",
    "    \n",
    "    def backtrack(self, nums, visited, path, res):\n",
    "        if len(nums) == len(path):\n",
    "            res.append(path)\n",
    "            return \n",
    "        for i in range(len(nums)):\n",
    "            if not visited[i]: \n",
    "                if i>0 and not visited[i-1] and nums[i] == nums[i-1]:  # if the same integers are next to each other, skip\n",
    "                    continue\n",
    "                visited[i] = True\n",
    "                self.backtrack(nums, visited, path+[nums[i]], res)\n",
    "                visited[i] = False\n",
    "                \n",
    "obj = SolPerm2()\n",
    "ans = obj.permuteUnique([1,1,2,])\n",
    "print(ans)"
   ]
  },
  {
   "cell_type": "markdown",
   "metadata": {},
   "source": [
    "# 4. Subsets 1\n",
    "### Problem Statement: Find all possible subsets of an array with no repeats"
   ]
  },
  {
   "cell_type": "code",
   "execution_count": 1,
   "metadata": {},
   "outputs": [
    {
     "name": "stdout",
     "output_type": "stream",
     "text": [
      "[[], [1], [1, 2], [1, 2, 4], [1, 2, 4, 5], [1, 2, 5], [1, 4], [1, 4, 5], [1, 5], [2], [2, 4], [2, 4, 5], [2, 5], [4], [4, 5], [5]]\n"
     ]
    }
   ],
   "source": [
    "class SolSub1(object):\n",
    "    def subsets1(self, nums):\n",
    "        res = []\n",
    "        nums.sort()\n",
    "        self.dfs(nums, 0, [], res)\n",
    "        return res\n",
    "    \n",
    "    def dfs(self, nums, index, path, res):\n",
    "        res.append(path)\n",
    "        for i in range(index, len(nums)):\n",
    "            self.dfs(nums, i+1, path + [nums[i]], res)\n",
    "\n",
    "obj = SolSub1()\n",
    "ans = obj.subsets1([1,2,4,5])\n",
    "print(ans)\n",
    "        "
   ]
  },
  {
   "cell_type": "markdown",
   "metadata": {},
   "source": [
    "# 5. Subsets 2\n",
    "### Problem Statement: Find all possible subsets of an array with repeats"
   ]
  },
  {
   "cell_type": "code",
   "execution_count": 27,
   "metadata": {},
   "outputs": [
    {
     "name": "stdout",
     "output_type": "stream",
     "text": [
      "[[], [1], [1, 1], [1, 1, 2], [1, 1, 2, 4], [1, 1, 4], [1, 2], [1, 2, 4], [1, 4], [2], [2, 4], [4]]\n"
     ]
    }
   ],
   "source": [
    "class SolSub2(object):\n",
    "    def subset2(self,nums):\n",
    "        res = []\n",
    "        nums.sort()\n",
    "        self.dfs(nums, 0, [], res)\n",
    "        return res\n",
    "    \n",
    "    def dfs(self, nums, index, path, res):\n",
    "        res.append(path)\n",
    "        for i in range(index, len(nums)):\n",
    "            if i > index and nums[i] == nums[i-1]:\n",
    "                continue\n",
    "            self.dfs(nums, i + 1, path + [nums[i]], res)\n",
    "            \n",
    "obj = SolSub2()\n",
    "ans = obj.subset2([1,2,4,1])\n",
    "print(ans)\n",
    "                    "
   ]
  },
  {
   "cell_type": "markdown",
   "metadata": {},
   "source": [
    "# 6. Combination Sum\n",
    "\n",
    "### Problem Statement: Add elements of array for target"
   ]
  },
  {
   "cell_type": "code",
   "execution_count": 33,
   "metadata": {},
   "outputs": [
    {
     "name": "stdout",
     "output_type": "stream",
     "text": [
      "[[1, 5], [2, 4]]\n"
     ]
    }
   ],
   "source": [
    "class Solution(object):\n",
    "    def combsum(self,nums, target):\n",
    "        nums.sort()\n",
    "        res = []\n",
    "        self.helper(nums, target, 0,[], res)\n",
    "        return res\n",
    "        \n",
    "    def helper(self, nums, target, index, path, res):\n",
    "        if target < 0:\n",
    "            return\n",
    "        if target == 0:\n",
    "            res.append(path)\n",
    "            return\n",
    "        for i in range(index, len(nums)):\n",
    "            self.helper(nums, target - nums[i], i + 1, path + [nums[i]], res )\n",
    "\n",
    "obj = Solution()\n",
    "ans = obj.combsum([1,2,4,5,8], 6)\n",
    "print(ans)"
   ]
  },
  {
   "cell_type": "markdown",
   "metadata": {},
   "source": [
    "# 7. Combination Sum 2\n",
    "\n",
    "### Problem Statement: Add elements of array for target value, array may have repeats"
   ]
  },
  {
   "cell_type": "code",
   "execution_count": 2,
   "metadata": {},
   "outputs": [
    {
     "name": "stdout",
     "output_type": "stream",
     "text": [
      "[[1, 2, 4], [2, 5]]\n"
     ]
    }
   ],
   "source": [
    "class Solution(object):\n",
    "    def combsum2(self, nums, target):\n",
    "        nums.sort()\n",
    "        res = []\n",
    "        self.helper(nums, target, 0, [], res)\n",
    "        return res\n",
    "    \n",
    "    def helper(self, nums, target, index, path, res):\n",
    "        if target < 0:\n",
    "            return\n",
    "        if target == 0:\n",
    "            res.append(path)\n",
    "            return\n",
    "        for i in range(index, len(nums)):\n",
    "            if i > index and nums[i] == nums[i - 1]:\n",
    "                continue\n",
    "            self.helper(nums, target - nums[i], i + 1, path + [nums[i]], res)\n",
    "\n",
    "obj = Solution()\n",
    "ans = obj.combsum2([1,2,4,5,5,8], 7)\n",
    "print(ans)"
   ]
  },
  {
   "cell_type": "markdown",
   "metadata": {},
   "source": [
    "# 8. Phone Numbers"
   ]
  },
  {
   "cell_type": "code",
   "execution_count": 2,
   "metadata": {},
   "outputs": [
    {
     "name": "stdout",
     "output_type": "stream",
     "text": [
      "['ad', 'ae', 'af', 'bd', 'be', 'bf', 'cd', 'ce', 'cf']\n"
     ]
    }
   ],
   "source": [
    "\"\"\"\n",
    "Complexity Analysis\n",
    "\n",
    "Time complexity : O(3^N X 4^M), where N is the number of digits in the input that maps to 3 letters (e.g. 2, 3, 4, 5, 6, 8) \n",
    "and M is the number of digits in the input that maps to 4 letters (e.g. 7, 9), and N+M is the total number digits in the input.\n",
    "\n",
    "Space complexity : O(3^N X 4^M)since one has to keep 3^N \\times 4^M3 \n",
    "\"\"\"\n",
    "\n",
    "class Solution:\n",
    "    def letterCombinations(self, digits):\n",
    "        \"\"\"\n",
    "        :type digits: str\n",
    "        :rtype: List[str]\n",
    "        \"\"\"\n",
    "        phone = {'2': ['a', 'b', 'c'],\n",
    "                 '3': ['d', 'e', 'f'],\n",
    "                 '4': ['g', 'h', 'i'],\n",
    "                 '5': ['j', 'k', 'l'],\n",
    "                 '6': ['m', 'n', 'o'],\n",
    "                 '7': ['p', 'q', 'r', 's'],\n",
    "                 '8': ['t', 'u', 'v'],\n",
    "                 '9': ['w', 'x', 'y', 'z']}\n",
    "                \n",
    "        def backtrack(combination, next_digits):\n",
    "            # if there is no more digits to check\n",
    "            if len(next_digits) == 0:\n",
    "                # the combination is done\n",
    "                output.append(combination)\n",
    "            # if there are still digits to check\n",
    "            else:\n",
    "                # iterate over all letters which map \n",
    "                # the next available digit\n",
    "                for letter in phone[next_digits[0]]:\n",
    "                    # append the current letter to the combination\n",
    "                    # and proceed to the next digits\n",
    "                    backtrack(combination + letter, next_digits[1:])\n",
    "                    \n",
    "        output = []\n",
    "        if digits:\n",
    "            backtrack(\"\", digits)\n",
    "        return output\n",
    "    \n",
    "obj = Solution()\n",
    "ans = obj.letterCombinations(\"23\")\n",
    "print(ans)"
   ]
  },
  {
   "cell_type": "markdown",
   "metadata": {},
   "source": [
    "## Word Matching"
   ]
  },
  {
   "cell_type": "code",
   "execution_count": 1,
   "metadata": {},
   "outputs": [
    {
     "name": "stdout",
     "output_type": "stream",
     "text": [
      "True\n"
     ]
    }
   ],
   "source": [
    "class Solution (object):\n",
    "    def isMatch(self, s, p):\n",
    "        \"\"\"\n",
    "        :type s: str\n",
    "        :type p: str\n",
    "        :rtype: bool\n",
    "        \"\"\"\n",
    "        s_len, p_len = len(s), len(p)\n",
    "        s_idx = p_idx = 0\n",
    "        star_idx = s_tmp_idx = -1\n",
    "        \n",
    "        while s_idx < s_len:\n",
    "            # If the pattern caracter = string character\n",
    "            # or pattern character = '?'\n",
    "            if p_idx < p_len and p[p_idx] in ['?', s[s_idx]]:\n",
    "                s_idx += 1\n",
    "                p_idx += 1\n",
    "            # If pattern character = '*'\n",
    "            elif p_idx < p_len and p[p_idx] == '*':\n",
    "                # Check the situation\n",
    "                # when '*' matches no characters\n",
    "                star_idx = p_idx\n",
    "                s_tmp_idx = s_idx\n",
    "                p_idx += 1\n",
    "            # If pattern character != string character\n",
    "            # or pattern is used up\n",
    "            # and there was no '*' character in pattern \n",
    "            elif star_idx == -1:\n",
    "                return False\n",
    "            # If pattern character != string character\n",
    "            # or pattern is used up\n",
    "            # and there was '*' character in pattern before\n",
    "            else:\n",
    "                # Backtrack: check the situation\n",
    "                # when '*' matches one more character\n",
    "                p_idx = star_idx + 1\n",
    "                s_idx = s_tmp_idx + 1\n",
    "                s_tmp_idx = s_idx\n",
    "        \n",
    "        # The remaining characters in the pattern should all be '*' characters\n",
    "        return all(x == '*' for x in p[p_idx:])\n",
    "\n",
    "obj = Solution()\n",
    "ans = obj.isMatch(\"abc\",\"a?c\")\n",
    "print(ans)"
   ]
  },
  {
   "cell_type": "markdown",
   "metadata": {},
   "source": [
    "## Find the Kth Smallest Sum of a Matrix With Sorted Rows (NOT CORRECT)"
   ]
  },
  {
   "cell_type": "code",
   "execution_count": 2,
   "metadata": {},
   "outputs": [
    {
     "name": "stdout",
     "output_type": "stream",
     "text": [
      "3 3\n",
      "11\n"
     ]
    }
   ],
   "source": [
    "import heapq\n",
    "class Solution(object):\n",
    "    def kthSmallest(self, mat, k):\n",
    "        \"\"\"\n",
    "        mat: List[List[int]] \n",
    "        k: int\n",
    "        rType: int\n",
    "        \"\"\"\n",
    "        h = []\n",
    "        m,n = len(mat),len(mat[0])\n",
    "        print(m,n)\n",
    "        max_sum = float('-inf')\n",
    "        \n",
    "        lowestPossible = sum([x[0] for x in mat])\n",
    "        \n",
    "        self.dfs(h, 0, mat, lowestPossible, k, True) #Call DFS\n",
    "        \n",
    "        return -1*h[0]\n",
    "    \n",
    "    def dfs(self, heap, index, mat, currSum, k, isFirst):\n",
    "        if index == len(mat): #This is the end of our permutation\n",
    "            if not isFirst: #if isFirst == True, implies it's a duplicate permutation that only took mat[i][0] values\n",
    "                heapq.heappush(heap, currSum * -1)\n",
    "                if len(heap) > k:\n",
    "                    heapq.heappop(heap)\n",
    "            return\n",
    "\n",
    "        for i in range(len(mat[index])): #Generates permutations\n",
    "            newSum = currSum + mat[index][i] - mat[index][0] #Update sum\n",
    "            if i != 0:\n",
    "                isFirst = False #If not first value, update this boolean to False\n",
    "                \n",
    "            #If permutation and it's optimal subsequent moves still result in it's value being over limit    \n",
    "            if len(heap) >= k and newSum >= heap[0] * - 1: \n",
    "                break\n",
    "\n",
    "            self.dfs(heap, index+1, mat, newSum, k, isFirst) \n",
    "\n",
    "obj = Solution()\n",
    "mat = [[1,10,10],[1,4,5],[2,3,6]]\n",
    "k = 7\n",
    "ans = obj.kthSmallest(mat,k)\n",
    "print(ans)"
   ]
  },
  {
   "cell_type": "code",
   "execution_count": null,
   "metadata": {},
   "outputs": [],
   "source": []
  }
 ],
 "metadata": {
  "kernelspec": {
   "display_name": "Python 3",
   "language": "python",
   "name": "python3"
  },
  "language_info": {
   "codemirror_mode": {
    "name": "ipython",
    "version": 3
   },
   "file_extension": ".py",
   "mimetype": "text/x-python",
   "name": "python",
   "nbconvert_exporter": "python",
   "pygments_lexer": "ipython3",
   "version": "3.7.4"
  }
 },
 "nbformat": 4,
 "nbformat_minor": 2
}
