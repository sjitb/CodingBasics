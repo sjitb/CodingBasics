{
 "cells": [
  {
   "cell_type": "markdown",
   "metadata": {},
   "source": [
    "# Collection of BackTracking Problems\n",
    "### https://tinyurl.com/v5755gh"
   ]
  },
  {
   "cell_type": "markdown",
   "metadata": {},
   "source": [
    "# 1. Combination\n",
    "\n",
    "### Problem Statement: "
   ]
  },
  {
   "cell_type": "code",
   "execution_count": 20,
   "metadata": {},
   "outputs": [
    {
     "name": "stdout",
     "output_type": "stream",
     "text": [
      "[[1, 8, 9, 10], [1, 8, 9, 23], [1, 8, 9, 50], [1, 8, 10, 23], [1, 8, 10, 50], [1, 8, 23, 50], [1, 9, 10, 23], [1, 9, 10, 50], [1, 9, 23, 50], [1, 10, 23, 50], [8, 9, 10, 23], [8, 9, 10, 50], [8, 9, 23, 50], [8, 10, 23, 50], [9, 10, 23, 50]]\n"
     ]
    }
   ],
   "source": [
    "class SolComb(object):\n",
    "    def combine(self, n, k):\n",
    "        res = []\n",
    "        self.dfs(n, k, 0, [], res)\n",
    "        return res\n",
    "\n",
    "    def dfs(self, nums, k, index, path, res):\n",
    "        #if k < 0:  #backtracking\n",
    "            #return \n",
    "        if k == 0:\n",
    "            res.append(path)\n",
    "            return # backtracking \n",
    "        for i in range(index, len(nums)):\n",
    "            self.dfs(nums, k-1, i+1, path+[nums[i]], res)\n",
    "        \n",
    "obj = SolComb()\n",
    "ans = obj.combine([1, 8, 9, 10, 23, 50], 4)\n",
    "print(ans)"
   ]
  },
  {
   "cell_type": "markdown",
   "metadata": {},
   "source": [
    "# 2. Permutations I\n",
    "\n",
    "### Problem Statement: Permutation of unique integer arrays\n",
    "Time  Complexity:  k-permutations_of_n, Better that O(NxN!) but worse than O(N!)\n",
    "<br>\n",
    "Space Complexity: O(n!)"
   ]
  },
  {
   "cell_type": "code",
   "execution_count": 21,
   "metadata": {},
   "outputs": [
    {
     "name": "stdout",
     "output_type": "stream",
     "text": [
      "[[1, 4, 5], [1, 5, 4], [4, 1, 5], [4, 5, 1], [5, 4, 1], [5, 1, 4]]\n"
     ]
    }
   ],
   "source": [
    "class SolPerm1(object):\n",
    "    def permutation(self, nums):\n",
    "        \n",
    "        ans = []\n",
    "        n = len(nums)\n",
    "        self.backtrack(0, n, nums, ans)\n",
    "        \n",
    "        return ans\n",
    "    \n",
    "    def backtrack(self, index, n, nums, ans):\n",
    "        if index == n:\n",
    "            ans.append(nums[:])\n",
    "            return\n",
    "            \n",
    "        for i in range(index,n):\n",
    "            nums[index], nums[i] = nums[i], nums[index]\n",
    "            \n",
    "            self.backtrack(index + 1, n, nums, ans)\n",
    "            \n",
    "            nums[index], nums[i] = nums[i], nums[index]\n",
    "        return\n",
    "\n",
    "obj = SolPerm1()\n",
    "ans = obj.permutation([1,4,5])\n",
    "print(ans)"
   ]
  },
  {
   "cell_type": "markdown",
   "metadata": {},
   "source": [
    "# 3. Permutation II\n",
    "### Problem Statement: Permutation with repeats"
   ]
  },
  {
   "cell_type": "code",
   "execution_count": 22,
   "metadata": {},
   "outputs": [
    {
     "name": "stdout",
     "output_type": "stream",
     "text": [
      "[[1, 1, 2], [1, 2, 1], [2, 1, 1]]\n"
     ]
    }
   ],
   "source": [
    "class SolPerm2(object):\n",
    "    def permuteUnique(self, nums):\n",
    "        res = []\n",
    "        visited = [False]*len(nums)\n",
    "        nums.sort()\n",
    "        self.backtrack(nums, visited, [], res)\n",
    "        return res\n",
    "    \n",
    "    def backtrack(self, nums, visited, path, res):\n",
    "        if len(nums) == len(path):\n",
    "            res.append(path)\n",
    "            return \n",
    "        for i in range(len(nums)):\n",
    "            if not visited[i]: \n",
    "                if i>0 and not visited[i-1] and nums[i] == nums[i-1]:  # if the same integers are next to each other, skip\n",
    "                    continue\n",
    "                visited[i] = True\n",
    "                self.backtrack(nums, visited, path+[nums[i]], res)\n",
    "                visited[i] = False\n",
    "                \n",
    "obj = SolPerm2()\n",
    "ans = obj.permuteUnique([1,1,2,])\n",
    "print(ans)"
   ]
  },
  {
   "cell_type": "markdown",
   "metadata": {},
   "source": [
    "# 4. Subsets 1\n",
    "### Problem Statement: Find all possible subsets of an array with no repeats"
   ]
  },
  {
   "cell_type": "code",
   "execution_count": 1,
   "metadata": {},
   "outputs": [
    {
     "name": "stdout",
     "output_type": "stream",
     "text": [
      "[[], [1], [1, 2], [1, 2, 4], [1, 2, 4, 5], [1, 2, 5], [1, 4], [1, 4, 5], [1, 5], [2], [2, 4], [2, 4, 5], [2, 5], [4], [4, 5], [5]]\n"
     ]
    }
   ],
   "source": [
    "class SolSub1(object):\n",
    "    def subsets1(self, nums):\n",
    "        res = []\n",
    "        nums.sort()\n",
    "        self.dfs(nums, 0, [], res)\n",
    "        return res\n",
    "    \n",
    "    def dfs(self, nums, index, path, res):\n",
    "        res.append(path)\n",
    "        for i in range(index, len(nums)):\n",
    "            self.dfs(nums, i+1, path + [nums[i]], res)\n",
    "\n",
    "obj = SolSub1()\n",
    "ans = obj.subsets1([1,2,4,5])\n",
    "print(ans)\n",
    "        "
   ]
  },
  {
   "cell_type": "markdown",
   "metadata": {},
   "source": [
    "# 5. Subsets 2\n",
    "### Problem Statement: Find all possible subsets of an array with repeats"
   ]
  },
  {
   "cell_type": "code",
   "execution_count": 27,
   "metadata": {},
   "outputs": [
    {
     "name": "stdout",
     "output_type": "stream",
     "text": [
      "[[], [1], [1, 1], [1, 1, 2], [1, 1, 2, 4], [1, 1, 4], [1, 2], [1, 2, 4], [1, 4], [2], [2, 4], [4]]\n"
     ]
    }
   ],
   "source": [
    "class SolSub2(object):\n",
    "    def subset2(self,nums):\n",
    "        res = []\n",
    "        nums.sort()\n",
    "        self.dfs(nums, 0, [], res)\n",
    "        return res\n",
    "    \n",
    "    def dfs(self, nums, index, path, res):\n",
    "        res.append(path)\n",
    "        for i in range(index, len(nums)):\n",
    "            if i > index and nums[i] == nums[i-1]:\n",
    "                continue\n",
    "            self.dfs(nums, i + 1, path + [nums[i]], res)\n",
    "            \n",
    "obj = SolSub2()\n",
    "ans = obj.subset2([1,2,4,1])\n",
    "print(ans)\n",
    "                    "
   ]
  },
  {
   "cell_type": "markdown",
   "metadata": {},
   "source": [
    "# 6. Combination Sum\n",
    "\n",
    "### Problem Statement: Add elements of array for target"
   ]
  },
  {
   "cell_type": "code",
   "execution_count": 33,
   "metadata": {},
   "outputs": [
    {
     "name": "stdout",
     "output_type": "stream",
     "text": [
      "[[1, 5], [2, 4]]\n"
     ]
    }
   ],
   "source": [
    "class Solution(object):\n",
    "    def combsum(self,nums, target):\n",
    "        nums.sort()\n",
    "        res = []\n",
    "        self.helper(nums, target, 0,[], res)\n",
    "        return res\n",
    "        \n",
    "    def helper(self, nums, target, index, path, res):\n",
    "        if target < 0:\n",
    "            return\n",
    "        if target == 0:\n",
    "            res.append(path)\n",
    "            return\n",
    "        for i in range(index, len(nums)):\n",
    "            self.helper(nums, target - nums[i], i + 1, path + [nums[i]], res )\n",
    "\n",
    "obj = Solution()\n",
    "ans = obj.combsum([1,2,4,5,8], 6)\n",
    "print(ans)"
   ]
  },
  {
   "cell_type": "markdown",
   "metadata": {},
   "source": [
    "# 7. Combination Sum 2\n",
    "\n",
    "### Problem Statement: Add elements of array for target value, array may have repeats"
   ]
  },
  {
   "cell_type": "code",
   "execution_count": 2,
   "metadata": {},
   "outputs": [
    {
     "name": "stdout",
     "output_type": "stream",
     "text": [
      "[[1, 2, 4], [2, 5]]\n"
     ]
    }
   ],
   "source": [
    "class Solution(object):\n",
    "    def combsum2(self, nums, target):\n",
    "        nums.sort()\n",
    "        res = []\n",
    "        self.helper(nums, target, 0, [], res)\n",
    "        return res\n",
    "    \n",
    "    def helper(self, nums, target, index, path, res):\n",
    "        if target < 0:\n",
    "            return\n",
    "        if target == 0:\n",
    "            res.append(path)\n",
    "            return\n",
    "        for i in range(index, len(nums)):\n",
    "            if i > index and nums[i] == nums[i - 1]:\n",
    "                continue\n",
    "            self.helper(nums, target - nums[i], i + 1, path + [nums[i]], res)\n",
    "\n",
    "obj = Solution()\n",
    "ans = obj.combsum2([1,2,4,5,5,8], 7)\n",
    "print(ans)"
   ]
  },
  {
   "cell_type": "code",
   "execution_count": null,
   "metadata": {},
   "outputs": [],
   "source": []
  }
 ],
 "metadata": {
  "kernelspec": {
   "display_name": "Python 3",
   "language": "python",
   "name": "python3"
  },
  "language_info": {
   "codemirror_mode": {
    "name": "ipython",
    "version": 3
   },
   "file_extension": ".py",
   "mimetype": "text/x-python",
   "name": "python",
   "nbconvert_exporter": "python",
   "pygments_lexer": "ipython3",
   "version": "3.7.4"
  }
 },
 "nbformat": 4,
 "nbformat_minor": 2
}
