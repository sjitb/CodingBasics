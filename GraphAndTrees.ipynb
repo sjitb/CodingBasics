{
 "cells": [
  {
   "cell_type": "markdown",
   "metadata": {},
   "source": [
    "# 1. Treasure Island\n",
    "\n",
    "You have a map that marks the location of a treasure island. Some of the map area has jagged rocks and dangerous reefs. Other areas are safe to sail in. There are other explorers trying to find the treasure. So you must figure out a shortest route to the treasure island.\n",
    "\n",
    "Assume the map area is a two dimensional grid, represented by a matrix of characters. You must start from the top-left corner of the map and can move one block up, down, left or right at a time. The treasure island is marked as X in a block of the matrix. X will not be at the top-left corner. Any block with dangerous rocks or reefs will be marked as D. You must not enter dangerous blocks. You cannot leave the map area. Other areas O are safe to sail in. The top-left corner is always safe. Output the minimum number of steps to get to the treasure.\n",
    "\n",
    "\n",
    "### Solution: BFS"
   ]
  },
  {
   "cell_type": "code",
   "execution_count": 4,
   "metadata": {},
   "outputs": [
    {
     "name": "stdout",
     "output_type": "stream",
     "text": [
      "Result:  5\n"
     ]
    }
   ],
   "source": [
    "def find_treasure(t_map, row, col, curr_steps, min_steps):\n",
    "    if row >= len(t_map) or row < 0 or col >= len(t_map[0]) or col < 0 or t_map[row][col] == 'D' or t_map[row][col] == '#':\n",
    "        return None, min_steps\n",
    "\n",
    "    if t_map[row][col] == 'X':\n",
    "        curr_steps += 1\n",
    "        if min_steps > curr_steps:\n",
    "            min_steps = min(curr_steps, min_steps)\n",
    "\n",
    "        return None, min_steps\n",
    "\n",
    "    else:\n",
    "        tmp = t_map[row][col]\n",
    "        t_map[row][col] = '#'\n",
    "        curr_steps += 1\n",
    "        left = find_treasure(t_map, row, col-1, curr_steps, min_steps)\n",
    "        right = find_treasure(t_map, row, col+1, curr_steps, min_steps)\n",
    "        up = find_treasure(t_map, row-1, col, curr_steps, min_steps)\n",
    "        down = find_treasure(t_map, row+1, col, curr_steps, min_steps)\n",
    "\n",
    "        t_map[row][col] = tmp\n",
    "\n",
    "        return curr_steps, min(left[1], right[1], up[1], down[1])\n",
    "\n",
    "\n",
    "if __name__ == '__main__':\n",
    "    treasure_map = [['O', 'O', 'O', 'O'],\n",
    "  ['D', 'O', 'D', 'O'],\n",
    "  ['O', 'O', 'O', 'O'],\n",
    "  ['X', 'D', 'D', 'O']]\n",
    "    #treasure_map = [['O', 'O', 'O', 'X'],\n",
    "    #['O', 'O', 'O', 'O'],\n",
    "    #['O', 'O', 'O', 'O'],\n",
    "    #['O', 'O', 'O', 'O']]\n",
    "    res = find_treasure(treasure_map, 0, 0, -1, float('inf'))\n",
    "    \n",
    "    print(\"Result: \", res[1])"
   ]
  },
  {
   "cell_type": "markdown",
   "metadata": {},
   "source": [
    "# 2. Check if Graph is Bipartite"
   ]
  },
  {
   "cell_type": "code",
   "execution_count": 6,
   "metadata": {},
   "outputs": [
    {
     "name": "stdout",
     "output_type": "stream",
     "text": [
      "True\n"
     ]
    }
   ],
   "source": [
    "from collections import deque\n",
    "\n",
    "class Graph(object):\n",
    "    def __init__(self, V):\n",
    "        self.V = V\n",
    "        self.adjList = [[0 for column in range(V)] for row in range(V)]\n",
    "        \n",
    "    def isBipartite(self,src):\n",
    "        \"\"\"\n",
    "        check if Graph is Bipartite stating at source\n",
    "        type src: int\n",
    "        rtype bool\n",
    "        \"\"\"\n",
    "        #color every vertex as -1, to indicate not visisted\n",
    "        color = [-1] * self.V\n",
    "        \n",
    "        color[src] = 1\n",
    "        \n",
    "        queue = deque()\n",
    "        queue.append(src)\n",
    "        while queue:\n",
    "            u = queue.popleft()\n",
    "            # If graph has a loop, not bipartite\n",
    "            if self.adjList[u][u] == 1:\n",
    "                return False\n",
    "            for v in range(self.V):\n",
    "                if self.adjList[u][v] == 1 and color[v] == -1:\n",
    "                    color[v] = 1- color[u]\n",
    "                    queue.append(v)\n",
    "                elif self.adjList[u][v] == 1 and color[v] == color[u]:\n",
    "                    return False\n",
    "        \n",
    "        \n",
    "        return True\n",
    "    \n",
    "\n",
    "g = Graph(4) \n",
    "g.adjList = [[0, 1, 0, 1], \n",
    "            [1, 0, 1, 0], \n",
    "            [0, 1, 0, 1], \n",
    "            [1, 0, 1, 0] \n",
    "            ] \n",
    "\n",
    "ans = g.isBipartite(0)\n",
    "print(ans)\n"
   ]
  },
  {
   "cell_type": "markdown",
   "metadata": {},
   "source": [
    "# 3. Android Phone Lock Pattern"
   ]
  },
  {
   "cell_type": "code",
   "execution_count": 1,
   "metadata": {},
   "outputs": [
    {
     "name": "stdout",
     "output_type": "stream",
     "text": [
      "2000\n"
     ]
    }
   ],
   "source": [
    "class Solution(object):\n",
    "    def numberOfPatterns(self, m, n):\n",
    "        \"\"\"\n",
    "        :type m: int\n",
    "        :type n: int\n",
    "        :rtype: int\n",
    "        \"\"\"\n",
    "        skip = {}\n",
    "        \n",
    "        skip[(1,7)] = 4\n",
    "        skip[(1,3)] = 2\n",
    "        skip[(1,9)] = 5\n",
    "        skip[(2,8)] = 5\n",
    "        skip[(3,7)] = 5\n",
    "        skip[(3,9)] = 6\n",
    "        skip[(4,6)] = 5\n",
    "        skip[(7,9)] = 8\n",
    "        self.res = 0\n",
    "        \n",
    "        def dfs(used, last):\n",
    "            if len(used) >= m:\n",
    "                self.res += 1\n",
    "            if len(used) == n:\n",
    "                return\n",
    "            for j in range(1, 10):\n",
    "                if j not in used:   # if j is not used\n",
    "                    # Sort the vertices of the edge to search in skip\n",
    "                    edge = (min(last, j), max(last, j))\n",
    "                    if edge not in skip or skip[edge] in used:\n",
    "                        dfs(used + [j], j)\n",
    "        \n",
    "        for i in range(1, 10):\n",
    "            dfs([i], i)\n",
    "        \n",
    "        return self.res        \n",
    "\n",
    "obj = Solution()\n",
    "m = 2\n",
    "n = 4\n",
    "ans = obj.numberOfPatterns(m,n)\n",
    "\n",
    "print(ans)"
   ]
  },
  {
   "cell_type": "markdown",
   "metadata": {},
   "source": [
    "# 4. Level Order for N-ary Tree"
   ]
  },
  {
   "cell_type": "code",
   "execution_count": null,
   "metadata": {},
   "outputs": [],
   "source": [
    "\"\"\"\n",
    "# Definition for a Node.\n",
    "class Node:\n",
    "    def __init__(self, val=None, children=None):\n",
    "        self.val = val\n",
    "        self.children = children\n",
    "\"\"\"\n",
    "\n",
    "class Solution:\n",
    "    def levelOrder(self, root):\n",
    "        \"\"\"\n",
    "        Iterative Using Queue\n",
    "        \"\"\"\n",
    "        if root is None:\n",
    "            return []\n",
    "        result = []\n",
    "        queue = collections.deque([root])\n",
    "        while queue:\n",
    "            level = []\n",
    "            for _ in range(len(queue)):\n",
    "                node = queue.popleft()\n",
    "                level.append(node.val)\n",
    "                queue.extend(node.children)\n",
    "            result.append(level)\n",
    "        return result        \n",
    "    \n",
    "    \n",
    "    def levelOrder2(self, root):\n",
    "        \"\"\"\n",
    "        Simplified Iterative BFS\n",
    "        \"\"\"\n",
    "        if root is None:\n",
    "            return []        \n",
    "\n",
    "        result = []\n",
    "        previous_layer = [root]\n",
    "\n",
    "        while previous_layer:\n",
    "            current_layer = []\n",
    "            result.append([])\n",
    "            for node in previous_layer:\n",
    "                result[-1].append(node.val)\n",
    "                current_layer.extend(node.children)\n",
    "            previous_layer = current_layer\n",
    "        return result\n",
    "    \n",
    "    def levelOrder3(self, root):\n",
    "        \"\"\"\n",
    "        Recusrsion\n",
    "        \"\"\"\n",
    "\n",
    "        def traverse_node(node, level):\n",
    "            if len(result) == level:\n",
    "                result.append([])\n",
    "            result[level].append(node.val)\n",
    "            for child in node.children:\n",
    "                traverse_node(child, level + 1)\n",
    "\n",
    "        result = []\n",
    "\n",
    "        if root is not None:\n",
    "            traverse_node(root, 0)\n",
    "        return result"
   ]
  }
 ],
 "metadata": {
  "kernelspec": {
   "display_name": "Python 3",
   "language": "python",
   "name": "python3"
  },
  "language_info": {
   "codemirror_mode": {
    "name": "ipython",
    "version": 3
   },
   "file_extension": ".py",
   "mimetype": "text/x-python",
   "name": "python",
   "nbconvert_exporter": "python",
   "pygments_lexer": "ipython3",
   "version": "3.7.4"
  }
 },
 "nbformat": 4,
 "nbformat_minor": 2
}
