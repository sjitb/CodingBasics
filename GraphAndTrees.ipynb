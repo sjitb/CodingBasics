{
 "cells": [
  {
   "cell_type": "markdown",
   "metadata": {},
   "source": [
    "# 1. Treasure Island\n",
    "\n",
    "You have a map that marks the location of a treasure island. Some of the map area has jagged rocks and dangerous reefs. Other areas are safe to sail in. There are other explorers trying to find the treasure. So you must figure out a shortest route to the treasure island.\n",
    "\n",
    "Assume the map area is a two dimensional grid, represented by a matrix of characters. You must start from the top-left corner of the map and can move one block up, down, left or right at a time. The treasure island is marked as X in a block of the matrix. X will not be at the top-left corner. Any block with dangerous rocks or reefs will be marked as D. You must not enter dangerous blocks. You cannot leave the map area. Other areas O are safe to sail in. The top-left corner is always safe. Output the minimum number of steps to get to the treasure.\n",
    "\n",
    "\n",
    "### Solution: BFS"
   ]
  },
  {
   "cell_type": "code",
   "execution_count": 4,
   "metadata": {},
   "outputs": [
    {
     "name": "stdout",
     "output_type": "stream",
     "text": [
      "Result:  5\n"
     ]
    }
   ],
   "source": [
    "def find_treasure(t_map, row, col, curr_steps, min_steps):\n",
    "    if row >= len(t_map) or row < 0 or col >= len(t_map[0]) or col < 0 or t_map[row][col] == 'D' or t_map[row][col] == '#':\n",
    "        return None, min_steps\n",
    "\n",
    "    if t_map[row][col] == 'X':\n",
    "        curr_steps += 1\n",
    "        if min_steps > curr_steps:\n",
    "            min_steps = min(curr_steps, min_steps)\n",
    "\n",
    "        return None, min_steps\n",
    "\n",
    "    else:\n",
    "        tmp = t_map[row][col]\n",
    "        t_map[row][col] = '#'\n",
    "        curr_steps += 1\n",
    "        left = find_treasure(t_map, row, col-1, curr_steps, min_steps)\n",
    "        right = find_treasure(t_map, row, col+1, curr_steps, min_steps)\n",
    "        up = find_treasure(t_map, row-1, col, curr_steps, min_steps)\n",
    "        down = find_treasure(t_map, row+1, col, curr_steps, min_steps)\n",
    "\n",
    "        t_map[row][col] = tmp\n",
    "\n",
    "        return curr_steps, min(left[1], right[1], up[1], down[1])\n",
    "\n",
    "\n",
    "if __name__ == '__main__':\n",
    "    treasure_map = [['O', 'O', 'O', 'O'],\n",
    "  ['D', 'O', 'D', 'O'],\n",
    "  ['O', 'O', 'O', 'O'],\n",
    "  ['X', 'D', 'D', 'O']]\n",
    "    #treasure_map = [['O', 'O', 'O', 'X'],\n",
    "    #['O', 'O', 'O', 'O'],\n",
    "    #['O', 'O', 'O', 'O'],\n",
    "    #['O', 'O', 'O', 'O']]\n",
    "    res = find_treasure(treasure_map, 0, 0, -1, float('inf'))\n",
    "    \n",
    "    print(\"Result: \", res[1])"
   ]
  },
  {
   "cell_type": "markdown",
   "metadata": {},
   "source": [
    "# 2. Check if Graph is Bipartite"
   ]
  },
  {
   "cell_type": "code",
   "execution_count": 6,
   "metadata": {},
   "outputs": [
    {
     "name": "stdout",
     "output_type": "stream",
     "text": [
      "True\n"
     ]
    }
   ],
   "source": [
    "from collections import deque\n",
    "\n",
    "class Graph(object):\n",
    "    def __init__(self, V):\n",
    "        self.V = V\n",
    "        self.adjList = [[0 for column in range(V)] for row in range(V)]\n",
    "        \n",
    "    def isBipartite(self,src):\n",
    "        \"\"\"\n",
    "        check if Graph is Bipartite stating at source\n",
    "        type src: int\n",
    "        rtype bool\n",
    "        \"\"\"\n",
    "        #color every vertex as -1, to indicate not visisted\n",
    "        color = [-1] * self.V\n",
    "        \n",
    "        color[src] = 1\n",
    "        \n",
    "        queue = deque()\n",
    "        queue.append(src)\n",
    "        while queue:\n",
    "            u = queue.popleft()\n",
    "            # If graph has a loop, not bipartite\n",
    "            if self.adjList[u][u] == 1:\n",
    "                return False\n",
    "            for v in range(self.V):\n",
    "                if self.adjList[u][v] == 1 and color[v] == -1:\n",
    "                    color[v] = 1- color[u]\n",
    "                    queue.append(v)\n",
    "                elif self.adjList[u][v] == 1 and color[v] == color[u]:\n",
    "                    return False\n",
    "        \n",
    "        \n",
    "        return True\n",
    "    \n",
    "\n",
    "g = Graph(4) \n",
    "g.adjList = [[0, 1, 0, 1], \n",
    "            [1, 0, 1, 0], \n",
    "            [0, 1, 0, 1], \n",
    "            [1, 0, 1, 0] \n",
    "            ] \n",
    "\n",
    "ans = g.isBipartite(0)\n",
    "print(ans)\n"
   ]
  },
  {
   "cell_type": "code",
   "execution_count": null,
   "metadata": {},
   "outputs": [],
   "source": []
  }
 ],
 "metadata": {
  "kernelspec": {
   "display_name": "Python 3",
   "language": "python",
   "name": "python3"
  },
  "language_info": {
   "codemirror_mode": {
    "name": "ipython",
    "version": 3
   },
   "file_extension": ".py",
   "mimetype": "text/x-python",
   "name": "python",
   "nbconvert_exporter": "python",
   "pygments_lexer": "ipython3",
   "version": "3.7.4"
  }
 },
 "nbformat": 4,
 "nbformat_minor": 2
}
