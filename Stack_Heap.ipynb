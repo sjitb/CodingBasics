{
 "cells": [
  {
   "cell_type": "markdown",
   "metadata": {},
   "source": [
    "# Task Scheduler\n",
    "\n",
    "Given a char array representing tasks CPU need to do. It contains capital letters A to Z where different letters represent different tasks. Tasks could be done without original order. Each task could be done in one interval. For each interval, CPU could finish one task or just be idle.\n",
    "\n",
    "However, there is a non-negative cooling interval n that means between two same tasks, there must be at least n intervals that CPU are doing different tasks or just be idle.\n",
    "\n",
    "You need to return the least number of intervals the CPU will take to finish all the given tasks.\n",
    "\n",
    "Input: tasks = [\"A\",\"A\",\"A\",\"B\",\"B\",\"B\"], n = 2\n",
    "Output: 8\n",
    "Explanation: A -> B -> idle -> A -> B -> idle -> A -> B."
   ]
  },
  {
   "cell_type": "code",
   "execution_count": 9,
   "metadata": {},
   "outputs": [
    {
     "name": "stdout",
     "output_type": "stream",
     "text": [
      "Counter({'A': 3, 'B': 2, 'C': 1, 'E': 1})\n",
      "[(-3, 'A'), (-2, 'B'), (-1, 'C'), (-1, 'E')]\n",
      "[(-2, 'A'), (-1, 'E'), (-1, 'B')]\n",
      "[(-1, 'A')]\n",
      "7\n"
     ]
    }
   ],
   "source": [
    "from heapq import heappush, heappop\n",
    "from collections import Counter\n",
    "class Solution:\n",
    "    def leastInterval(self, tasks, n):\n",
    "        \"\"\"\n",
    "        :type tasks: List[str]\n",
    "        :type n: int\n",
    "        :rtype: int\n",
    "        \"\"\"\n",
    "        curr_time, h = 0, []\n",
    "        print(Counter(tasks))\n",
    "        for k,v in Counter(tasks).items():\n",
    "            heappush(h, (-1*v, k))\n",
    "        while h:\n",
    "            print(h)\n",
    "            i, temp = 0, []\n",
    "            while i <= n:\n",
    "                curr_time += 1\n",
    "                if h:\n",
    "                    x,y = heappop(h)\n",
    "                    if x != -1:\n",
    "                        temp.append((x+1,y))\n",
    "                if not h and not temp:\n",
    "                    break\n",
    "                else:\n",
    "                    i += 1\n",
    "            for item in temp:\n",
    "                heappush(h, item)\n",
    "        return curr_time\n",
    "    \n",
    "obj = Solution()\n",
    "ans = obj.leastInterval(['A','A','B','A','C','E','B'], 2)\n",
    "print (ans)\n",
    "    "
   ]
  },
  {
   "cell_type": "markdown",
   "metadata": {},
   "source": [
    "# 2. Exclusive Function Time\n",
    "\n",
    "logs = {\"inputA:START:100\", <br>\n",
    "        \"inputB:START:120\", <br>\n",
    "        \"inputC:START:150\", <br>\n",
    "        \"inputC:STOP:160\", <br>\n",
    "        \"inputB:STOP:180\", <br>\n",
    "        \"inputA:STOP:220\", <br>\n",
    "        \"inputD:START:230\", <br>\n",
    "        \"inputD:STOP:250\" <br>\n",
    "        }"
   ]
  },
  {
   "cell_type": "code",
   "execution_count": 8,
   "metadata": {},
   "outputs": [
    {
     "name": "stdout",
     "output_type": "stream",
     "text": [
      "[120, 82]\n"
     ]
    }
   ],
   "source": [
    "import collections\n",
    "class Solution(object):\n",
    "    def parseLogs(self, logs, jobName):\n",
    "        \"\"\"\n",
    "        Parse logs to return:\n",
    "        [total run time of job specified, sum of exclusive time for all other jobs]\n",
    "        \"\"\"\n",
    "        jobDict = collections.defaultdict(int)\n",
    "        stack = []\n",
    "        j_start = 0\n",
    "        j_stop = 0\n",
    "        prev_time = 0\n",
    "        for log in logs:\n",
    "            items = log.split(':')\n",
    "            jName = items[0]\n",
    "            jOp = items[1]\n",
    "            jTime = int(items[2])\n",
    "            if jName == jobName:\n",
    "                if jOp == 'START':\n",
    "                    j_start = jTime\n",
    "                else:\n",
    "                    j_stop = jTime\n",
    "            if jOp == 'START':\n",
    "                if stack:\n",
    "                    jobDict[stack[-1]] += jTime - prev_time\n",
    "                stack.append(jName)\n",
    "                prev_time = jTime\n",
    "            else:\n",
    "                jobDict[stack.pop()] += jTime - prev_time + 1\n",
    "                prev_time = jTime + 1\n",
    "        total_1 = j_stop - j_start\n",
    "        total_o = 0\n",
    "        for k,v in jobDict.items():\n",
    "            if k != jobName:\n",
    "                total_o += v\n",
    "        \n",
    "        return [total_1, total_o]\n",
    "    \n",
    "obj = Solution()\n",
    "logs = [\n",
    "    \"inputA:START:100\",\n",
    "    \"inputB:START:120\",\n",
    "    \"inputC:START:150\",\n",
    "    \"inputC:STOP:160\",\n",
    "    \"inputB:STOP:180\",\n",
    "    \"inputA:STOP:220\",\n",
    "    \"inputD:START:230\",\n",
    "    \"inputD:STOP:250\"\n",
    "]\n",
    "ans = obj.parseLogs(logs, \"inputA\")\n",
    "print(ans)"
   ]
  },
  {
   "cell_type": "code",
   "execution_count": null,
   "metadata": {},
   "outputs": [],
   "source": [
    "import heapq\n",
    "from typing import List\n",
    "\n",
    "class Solution:\n",
    "    def lastStoneWeight(self, stones: List[int]) -> int:\n",
    "        stones = [-stone for stone in stones]\n",
    "        heapq.heapify(stones)\n",
    "\n",
    "        while len(stones) > 1:\n",
    "            first = abs(heapq.heappop(stones))\n",
    "            second = abs(heapq.heappop(stones))\n",
    "\n",
    "            if first != second:\n",
    "                heapq.heappush(stones, -abs(first-second))\n",
    "        \n",
    "        return -heapq.heappop(stones) if stones else 0\n"
   ]
  }
 ],
 "metadata": {
  "kernelspec": {
   "display_name": "Python 3",
   "language": "python",
   "name": "python3"
  },
  "language_info": {
   "codemirror_mode": {
    "name": "ipython",
    "version": 3
   },
   "file_extension": ".py",
   "mimetype": "text/x-python",
   "name": "python",
   "nbconvert_exporter": "python",
   "pygments_lexer": "ipython3",
   "version": "3.7.4"
  }
 },
 "nbformat": 4,
 "nbformat_minor": 2
}
