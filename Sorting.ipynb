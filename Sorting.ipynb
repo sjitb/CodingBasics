{
 "cells": [
  {
   "cell_type": "markdown",
   "metadata": {},
   "source": [
    "# 1. Bubble Sort Count"
   ]
  },
  {
   "cell_type": "code",
   "execution_count": 2,
   "metadata": {},
   "outputs": [
    {
     "name": "stdout",
     "output_type": "stream",
     "text": [
      "Array is sorted in 4 swaps.\n",
      "First Element: 1\n",
      "Last Element: 9\n"
     ]
    }
   ],
   "source": [
    "#!/bin/python\n",
    "\n",
    "import math\n",
    "import os\n",
    "import random\n",
    "import re\n",
    "import sys\n",
    "\n",
    "# Complete the countSwaps function below.\n",
    "def countSwaps(a):\n",
    "    count = 0\n",
    "    for i in range(len(a)):\n",
    "        for j in range(len(a) - 1):\n",
    "            if(a[j] > a[j+1]):\n",
    "                a[j], a[j+1] = a[j+1], a[j]\n",
    "                count += 1\n",
    "    print(\"Array is sorted in\",count,\"swaps.\")\n",
    "    print(\"First Element:\",a[0])\n",
    "    print(\"Last Element:\",a[len(a)-1])\n",
    "\n",
    "    return a\n",
    "\n",
    "if __name__ == '__main__':\n",
    "    #n = int(raw_input())\n",
    "\n",
    "    a = [1, 3, 4, 7, 2, 9, 8]\n",
    "\n",
    "    countSwaps(a)\n"
   ]
  },
  {
   "cell_type": "markdown",
   "metadata": {},
   "source": [
    "# 2. Toy Count"
   ]
  },
  {
   "cell_type": "code",
   "execution_count": 3,
   "metadata": {},
   "outputs": [
    {
     "name": "stdout",
     "output_type": "stream",
     "text": [
      "4\n"
     ]
    }
   ],
   "source": [
    "#!/bin/python\n",
    "\n",
    "import math\n",
    "import os\n",
    "import random\n",
    "import re\n",
    "import sys\n",
    "\n",
    "# Complete the maximumToys function below.\n",
    "def maximumToys(prices, k):\n",
    "    prices.sort()\n",
    "\n",
    "    toy_count = 0\n",
    "    for i in range(len(prices)):\n",
    "        if k >= prices[i]:\n",
    "            k = k - prices[i]\n",
    "            toy_count +=1\n",
    "\n",
    "    return toy_count\n",
    "\n",
    "if __name__ == '__main__':\n",
    "\n",
    "    k = 50\n",
    "\n",
    "    prices = [1, 12, 5, 111, 200, 1000, 10]\n",
    "\n",
    "    result = maximumToys(prices, k)\n",
    "\n",
    "    print(result)\n"
   ]
  },
  {
   "cell_type": "code",
   "execution_count": 4,
   "metadata": {},
   "outputs": [
    {
     "name": "stdout",
     "output_type": "stream",
     "text": [
      "3\n"
     ]
    }
   ],
   "source": [
    "#!/bin/python\n",
    "\n",
    "import math\n",
    "import os\n",
    "import random\n",
    "import re\n",
    "import sys\n",
    "import statistics\n",
    "\n",
    "# Complete the activityNotifications function below.\n",
    "def activityNotifications(expenditure, d):\n",
    "    start = 0\n",
    "    count = 0\n",
    "    for i in range(d,len(expenditure)):\n",
    "        med = statistics.median(expenditure[start:i])\n",
    "        if expenditure[i] > med:\n",
    "            count +=1\n",
    "        start +=1\n",
    "\n",
    "    return count\n",
    "\n",
    "if __name__ == '__main__':\n",
    "\n",
    "    d = 5\n",
    "\n",
    "    expenditure = [2, 3, 4, 2, 3, 6, 8, 4, 5]\n",
    "\n",
    "    result = activityNotifications(expenditure, d)\n",
    "\n",
    "    print(result)"
   ]
  },
  {
   "cell_type": "markdown",
   "metadata": {},
   "source": [
    "## Median of Two Sorted Arrays"
   ]
  },
  {
   "cell_type": "code",
   "execution_count": null,
   "metadata": {},
   "outputs": [],
   "source": [
    "class Solution(object):\n",
    "    def findMedianSortedArrays(self, nums1, nums2):\n",
    "        m, n = len(nums1), len(nums2)\n",
    "        if m > n:\n",
    "            nums1, nums2, m, n = nums2, nums1, n, m\n",
    "        if n == 0:\n",
    "            raise ValueError\n",
    "\n",
    "        imin, imax, half_len = 0, m, (m + n + 1) // 2\n",
    "        while imin <= imax:\n",
    "            i = (imin + imax) // 2\n",
    "            j = half_len - i\n",
    "            if i < m and nums2[j-1] > nums1[i]:\n",
    "                # i is too small, must increase it\n",
    "                imin = i + 1\n",
    "            elif i > 0 and nums1[i-1] > nums2[j]:\n",
    "                # i is too big, must decrease it\n",
    "                imax = i - 1\n",
    "            else:\n",
    "                # i is perfect\n",
    "\n",
    "                if i == 0: max_of_left = nums2[j-1]\n",
    "                elif j == 0: max_of_left = nums1[i-1]\n",
    "                else: max_of_left = max(nums1[i-1], nums2[j-1])\n",
    "\n",
    "                if (m + n) % 2 == 1:\n",
    "                    return max_of_left\n",
    "\n",
    "                if i == m: min_of_right = nums2[j]\n",
    "                elif j == n: min_of_right = nums1[i]\n",
    "                else: min_of_right = min(nums1[i], nums2[j])\n",
    "\n",
    "                return (max_of_left + min_of_right) / 2.0\n",
    "\n",
    "obj = Solution()\n",
    "ans = obj.findMedianSortedArrays()\n",
    "        "
   ]
  }
 ],
 "metadata": {
  "kernelspec": {
   "display_name": "Python 3",
   "language": "python",
   "name": "python3"
  },
  "language_info": {
   "codemirror_mode": {
    "name": "ipython",
    "version": 3
   },
   "file_extension": ".py",
   "mimetype": "text/x-python",
   "name": "python",
   "nbconvert_exporter": "python",
   "pygments_lexer": "ipython3",
   "version": "3.7.4"
  }
 },
 "nbformat": 4,
 "nbformat_minor": 2
}
