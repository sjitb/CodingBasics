{
 "cells": [
  {
   "cell_type": "markdown",
   "metadata": {},
   "source": [
    "# Binary Search\n",
    "### Problem Statement:\n",
    "Given an int array wood representing the length of n pieces of wood and an int k. It is required to cut these pieces of wood such that more or equal to k pieces of the same length len are cut. What is the longest len you can get?\n",
    "## Example 1:"
   ]
  },
  {
   "cell_type": "markdown",
   "metadata": {},
   "source": [
    "Input: wood = \\[5,9,7\\] , k = 3 \n",
    "<br>\n",
    "Output: 5 \n",
    "<br>\n",
    "Explanation:  \n",
    "5 -> 5 \n",
    "<br>\n",
    "9 -> 5 + 4 \n",
    "<br>\n",
    "7 -> 5 + 2 "
   ]
  },
  {
   "cell_type": "code",
   "execution_count": 9,
   "metadata": {},
   "outputs": [
    {
     "name": "stdout",
     "output_type": "stream",
     "text": [
      "4\n"
     ]
    }
   ],
   "source": [
    "class WoodProb:\n",
    "    def isValid(self,cutLen, arr, k):\n",
    "        #print(cutLen, arr, k)\n",
    "        count = 0\n",
    "        for wood in arr:\n",
    "            if(wood >= cutLen):\n",
    "                count += wood // cutLen\n",
    "            else:\n",
    "                return False\n",
    "        #print(\"Count:\", count)\n",
    "        if(count >= k):\n",
    "            return True\n",
    "\n",
    "    def cutWood(self, arr, k):\n",
    "        #print(arr, k)\n",
    "        left = 1\n",
    "        right = max(arr)\n",
    "        #print(\"left-right:\", left, right)\n",
    "        res = 0\n",
    "        while left < right:\n",
    "            middle = (left + right) // 2\n",
    "            if(self.isValid(middle, arr, k)):\n",
    "                res = middle \n",
    "                left = middle + 1 \n",
    "            else:\n",
    "                right = middle  \n",
    "        \n",
    "        return res \n",
    "    \n",
    "    if __name__ == '__main__':\n",
    "        obj = WoodProb()\n",
    "        ans = obj.cutWood([5,7,9],4)\n",
    "        \n",
    "        print(ans)"
   ]
  },
  {
   "cell_type": "markdown",
   "metadata": {},
   "source": [
    "# Remove Invalid Parentheses\n",
    "\n",
    "### Return any of the results "
   ]
  },
  {
   "cell_type": "code",
   "execution_count": 3,
   "metadata": {},
   "outputs": [
    {
     "name": "stdout",
     "output_type": "stream",
     "text": [
      "['(()(()))']\n"
     ]
    }
   ],
   "source": [
    "class Solution(object):\n",
    "    def removeInvalidParentheses(self, s):\n",
    "        \"\"\"\n",
    "        :type s: str\n",
    "        :rtype: List[str]\n",
    "        \"\"\"\n",
    "        slist = list(s)\n",
    "        \n",
    "        leftpstack = []\n",
    "        rightpstack = []\n",
    "        \n",
    "        for i in range(len(slist)):\n",
    "            if slist[i] == '(':\n",
    "                leftpstack.append(i)\n",
    "            if slist[i] == ')':\n",
    "                if len(leftpstack) == 0:\n",
    "                    rightpstack.append(i)\n",
    "                else:\n",
    "                    leftpstack.pop()\n",
    "        \n",
    "        if len(leftpstack) > 0:\n",
    "            for ind in leftpstack:\n",
    "                slist.pop(ind)\n",
    "\n",
    "        if len(rightpstack) > 0:\n",
    "            for ind in rightpstack:\n",
    "                slist.pop(ind)\n",
    "                \n",
    "        ret = ''.join(slist)        \n",
    "        return [ret]\n",
    "    \n",
    "obj = Solution()\n",
    "ans = obj.removeInvalidParentheses(\"(((()(()))\")\n",
    "print (ans)"
   ]
  },
  {
   "cell_type": "markdown",
   "metadata": {},
   "source": [
    "# Remove Invalid Parentheses\n",
    "\n",
    "### Return all possible results\n"
   ]
  },
  {
   "cell_type": "code",
   "execution_count": null,
   "metadata": {},
   "outputs": [],
   "source": []
  }
 ],
 "metadata": {
  "kernelspec": {
   "display_name": "Python 3",
   "language": "python",
   "name": "python3"
  },
  "language_info": {
   "codemirror_mode": {
    "name": "ipython",
    "version": 3
   },
   "file_extension": ".py",
   "mimetype": "text/x-python",
   "name": "python",
   "nbconvert_exporter": "python",
   "pygments_lexer": "ipython3",
   "version": "3.7.0"
  }
 },
 "nbformat": 4,
 "nbformat_minor": 2
}
