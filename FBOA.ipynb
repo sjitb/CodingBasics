{
 "cells": [
  {
   "cell_type": "markdown",
   "metadata": {},
   "source": [
    "## Binary Search\n",
    "### Problem Statement:\n",
    "Given an int array wood representing the length of n pieces of wood and an int k. It is required to cut these pieces of wood such that more or equal to k pieces of the same length len are cut. What is the longest len you can get?\n",
    "## Example 1:"
   ]
  },
  {
   "cell_type": "markdown",
   "metadata": {},
   "source": [
    "Input: wood = \\[5,9,7\\] , k = 3 \n",
    "<br>\n",
    "Output: 5 \n",
    "<br>\n",
    "Explanation:  \n",
    "5 -> 5 \n",
    "<br>\n",
    "9 -> 5 + 4 \n",
    "<br>\n",
    "7 -> 5 + 2 "
   ]
  },
  {
   "cell_type": "code",
   "execution_count": 9,
   "metadata": {},
   "outputs": [
    {
     "name": "stdout",
     "output_type": "stream",
     "text": [
      "4\n"
     ]
    }
   ],
   "source": [
    "class WoodProb:\n",
    "    def isValid(self,cutLen, arr, k):\n",
    "        #print(cutLen, arr, k)\n",
    "        count = 0\n",
    "        for wood in arr:\n",
    "            if(wood >= cutLen):\n",
    "                count += wood // cutLen\n",
    "            else:\n",
    "                return False\n",
    "        #print(\"Count:\", count)\n",
    "        if(count >= k):\n",
    "            return True\n",
    "\n",
    "    def cutWood(self, arr, k):\n",
    "        #print(arr, k)\n",
    "        left = 1\n",
    "        right = max(arr)\n",
    "        #print(\"left-right:\", left, right)\n",
    "        res = 0\n",
    "        while left < right:\n",
    "            middle = (left + right) // 2\n",
    "            if(self.isValid(middle, arr, k)):\n",
    "                res = middle \n",
    "                left = middle + 1 \n",
    "            else:\n",
    "                right = middle  \n",
    "        \n",
    "        return res \n",
    "    \n",
    "    if __name__ == '__main__':\n",
    "        obj = WoodProb()\n",
    "        ans = obj.cutWood([5,7,9],4)\n",
    "        \n",
    "        print(ans)"
   ]
  },
  {
   "cell_type": "markdown",
   "metadata": {},
   "source": [
    "## Remove Invalid Parentheses\n",
    "\n",
    "### Return any of the results "
   ]
  },
  {
   "cell_type": "code",
   "execution_count": 23,
   "metadata": {},
   "outputs": [
    {
     "name": "stdout",
     "output_type": "stream",
     "text": [
      "['(()(()))']\n"
     ]
    }
   ],
   "source": [
    "class Solution(object):\n",
    "    def removeInvalidParentheses(self, s):\n",
    "        \"\"\"\n",
    "        :type s: str\n",
    "        :rtype: List[str]\n",
    "        \"\"\"\n",
    "        slist = list(s)\n",
    "        \n",
    "        leftpstack = []\n",
    "        rightpstack = []\n",
    "        \n",
    "        for i in range(len(slist)):\n",
    "            if slist[i] == '(':\n",
    "                leftpstack.append(i)\n",
    "            if slist[i] == ')':\n",
    "                if len(leftpstack) == 0:\n",
    "                    rightpstack.append(i)\n",
    "                else:\n",
    "                    leftpstack.pop()\n",
    "        #NOW LEFT WITH UNMACTCHED\n",
    "        if len(leftpstack) > 0:\n",
    "            for ind in leftpstack:\n",
    "                slist.pop(ind)\n",
    "\n",
    "        if len(rightpstack) > 0:\n",
    "            for ind in rightpstack:\n",
    "                slist.pop(ind)\n",
    "                \n",
    "        ret = ''.join(slist)        \n",
    "        return [ret]\n",
    "    \n",
    "obj = Solution()\n",
    "ans = obj.removeInvalidParentheses(\"(((()(()))\")\n",
    "print (ans)"
   ]
  },
  {
   "cell_type": "markdown",
   "metadata": {},
   "source": [
    "## Remove Invalid Parentheses\n",
    "\n",
    "### Return all possible results\n"
   ]
  },
  {
   "cell_type": "code",
   "execution_count": 7,
   "metadata": {},
   "outputs": [
    {
     "name": "stdout",
     "output_type": "stream",
     "text": [
      "['()())(', '(())()', '()()()']\n"
     ]
    }
   ],
   "source": [
    "class Solution(object):\n",
    "    def removeInvalidParentheses(self, s):\n",
    "        \"\"\"\n",
    "        :type s: str\n",
    "        :rtype: List[str]\n",
    "        \"\"\"\n",
    "        \n",
    "        lExtra = 0 #Count to keep track of unbalanced left parentheses\n",
    "        rExtra = 0 #Count to keep track of unbalanced right parentheses\n",
    "        \n",
    "        for char in s:\n",
    "            if char == '(':\n",
    "                lExtra +=1\n",
    "            if char == ')':\n",
    "                if lExtra > 0:\n",
    "                    lExtra -=1\n",
    "                else:\n",
    "                    rExtra += 1\n",
    "        \n",
    "        result = set()\n",
    "        def recurse(s, index, lCount, rCount, lRem, rRem, expr):\n",
    "            #reaching end of string\n",
    "            if index == len(s):\n",
    "                if lRem == 0 and rRem == 0:\n",
    "                    ans = \"\".join(expr)\n",
    "                    result.add(ans)\n",
    "            else:\n",
    "                if (s[index] == '(' and lRem > 0) or (s[index] == ')' and rRem > 0):\n",
    "                    if s[index] == '(':\n",
    "                        recurse(s, index + 1, lCount, rCount, lRem - 1, rRem, expr)\n",
    "                    if s[index] == ')':\n",
    "                        recurse(s, index + 1, lCount, rCount, lRem, rRem - 1, expr)\n",
    "                expr.append(s[index])\n",
    "                \n",
    "                # if not a paranthesis, just move one index over\n",
    "                if s[index] != '(' or s[index] != ')':\n",
    "                    recurse(s, index + 1, lCount, rCount, lRem, rRem, expr)                \n",
    "                elif s[index] == '(':\n",
    "                    recurse(s, index + 1, lCount + 1, rCount, lRem, rRem, expr)\n",
    "                elif s[index] == ')' and lCount > rCount:\n",
    "                    recurse(s, index + 1, lCount, rCount + 1, lRem, rRem, expr)\n",
    "                \n",
    "                expr.pop()\n",
    "\n",
    "        recurse(s, 0, 0, 0, lExtra, rExtra, [])        \n",
    "        return list(result)\n",
    "    \n",
    "obj = Solution()\n",
    "ans = obj.removeInvalidParentheses(\"()())()\")\n",
    "print (ans)"
   ]
  },
  {
   "cell_type": "markdown",
   "metadata": {},
   "source": [
    "## Change Working Directory"
   ]
  },
  {
   "cell_type": "code",
   "execution_count": 4,
   "metadata": {},
   "outputs": [
    {
     "name": "stdout",
     "output_type": "stream",
     "text": [
      "/facebook/abc/def\n"
     ]
    }
   ],
   "source": [
    "class Solution(object):\n",
    "     def simplifyPath(self, currPath, changePath):\n",
    "        if not changePath:\n",
    "            return currPath\n",
    "        \n",
    "        stack = []\n",
    "        \n",
    "        for part in currPath.split(\"/\"):\n",
    "            if part == \".\" or not part:\n",
    "                continue\n",
    "            else:\n",
    "                stack.append(part)\n",
    "\n",
    "        for part in changePath.split(\"/\"):\n",
    "            if part == \"..\":\n",
    "                if stack:\n",
    "                    stack.pop()\n",
    "            elif part == \".\" or not part:\n",
    "                continue\n",
    "            else:\n",
    "                stack.append(part)\n",
    "        \n",
    "        res = \"/\" + \"/\".join(stack)\n",
    "        \n",
    "        return res\n",
    "obj = Solution()\n",
    "currPath = \"/facebook/anin\"       \n",
    "changePath = \"../abc/def\"\n",
    "ans = obj.simplifyPath(currPath,changePath)\n",
    "print(ans)"
   ]
  },
  {
   "cell_type": "markdown",
   "metadata": {},
   "source": [
    "## Find an index of maximum occurring element with equal probability\n",
    "Given an array of integers, find the most occurring element of the array and return any one of its indexes randomly with equal probability."
   ]
  },
  {
   "cell_type": "code",
   "execution_count": 15,
   "metadata": {},
   "outputs": [
    {
     "name": "stdout",
     "output_type": "stream",
     "text": [
      "[3, 4, 6, 12]\n",
      "4\n"
     ]
    }
   ],
   "source": [
    "import random\n",
    "from collections import Counter\n",
    "class Solution(object):\n",
    "    def __init__(self, arr):\n",
    "        self.arr = arr\n",
    "    def findIndex(self):\n",
    "        \"\"\"\n",
    "        Base: But will not be accepted\n",
    "        \"\"\"\n",
    "        \n",
    "        arrCount = Counter(self.arr)\n",
    "        \n",
    "        maxItem = arrCount.most_common(1)[0]\n",
    "        \n",
    "        indexList = [i for i,x in enumerate(self.arr) if x == maxItem[0]]     \n",
    "        print(indexList)\n",
    "        return random.choice(indexList)\n",
    "\n",
    "        \n",
    "    \n",
    "# input array \n",
    "arr = [-1, 4, 9, 7, 7, 2, 7, 3, 0, 9, 6, 5, 7, 8, 9]  \n",
    "obj = Solution(arr)\n",
    "ans = obj.findIndex()\n",
    "print(ans)"
   ]
  },
  {
   "cell_type": "markdown",
   "metadata": {},
   "source": [
    "## Random Pick Index\n",
    "Given an array of integers with possible duplicates, randomly output the index of a given target number. \n",
    "You can assume that the given target number must exist in the array."
   ]
  },
  {
   "cell_type": "code",
   "execution_count": 25,
   "metadata": {},
   "outputs": [
    {
     "name": "stdout",
     "output_type": "stream",
     "text": [
      "6 3 6 3\n"
     ]
    }
   ],
   "source": [
    "class Solution:\n",
    "\n",
    "    def __init__(self, nums):\n",
    "        self.nums = nums\n",
    "\n",
    "    def pick(self, target):\n",
    "        cnt = idx = 0\n",
    "        for i, num in enumerate(self.nums):\n",
    "            if num != target:\n",
    "                continue\n",
    "            if cnt == 0:\n",
    "                idx = i\n",
    "                cnt = 1\n",
    "            else:\n",
    "                # this random will already give me numbers\n",
    "                # between 0 and cnt inclusive\n",
    "                # so for 2nd number I am getting random number 0 and 1\n",
    "                # so each having a probability of 1/2\n",
    "                # similarly for three numbers it will be 1/3\n",
    "                cnt += 1\n",
    "                rnd = random.randint(0, cnt)\n",
    "                if (rnd == cnt):\n",
    "                    idx = i\n",
    "                \n",
    "\n",
    "        return idx\n",
    "\n",
    "\n",
    "# Your Solution object will be instantiated and called as such:\n",
    "nums = [-1, 4, 9, 7, 7, 2, 7, 3, 0, 9, 6, 5, 7, 8, 9]  \n",
    "target = 7\n",
    "obj = Solution(nums)\n",
    "ans = obj.pick(target)\n",
    "ans1 = obj.pick(target)\n",
    "ans2 = obj.pick(target)\n",
    "ans3 = obj.pick(target)\n",
    "print(ans,ans1,ans2,ans3)"
   ]
  },
  {
   "cell_type": "markdown",
   "metadata": {},
   "source": [
    "## Generate random max index\n",
    "Given an array of integers arr, randomly return an index of the maximum value seen by far.\n",
    "\n",
    "Example:\n",
    "Input: [11, 30, 2, 30, 30, 30, 6, 2, 62, 62]\n",
    "\n",
    "Having iterated up to the at element index 5 (where the last 30 is), randomly give an index among [1, 3, 4, 5] which are indices of 30 - the max value by far. Each index should have a ¼ chance to get picked.\n",
    "\n",
    "Having iterated through the entire array, randomly give an index between 8 and 9 which are indices of the max value 62."
   ]
  },
  {
   "cell_type": "code",
   "execution_count": 24,
   "metadata": {
    "scrolled": true
   },
   "outputs": [
    {
     "name": "stdout",
     "output_type": "stream",
     "text": [
      "First Run\n",
      "At Index: 0, Max Value: 11, Max Random Index :0\n",
      "At Index: 1, Max Value: 30, Max Random Index :1\n",
      "At Index: 2, Max Value: 30, Max Random Index :1\n",
      "At Index: 3, Max Value: 30, Max Random Index :1\n",
      "At Index: 4, Max Value: 30, Max Random Index :1\n",
      "At Index: 5, Max Value: 30, Max Random Index :1\n",
      "At Index: 6, Max Value: 30, Max Random Index :1\n",
      "At Index: 7, Max Value: 30, Max Random Index :1\n",
      "At Index: 8, Max Value: 62, Max Random Index :8\n",
      "At Index: 9, Max Value: 62, Max Random Index :8\n",
      "Second Run\n",
      "At Index: 0, Max Value: 11, Max Random Index :0\n",
      "At Index: 1, Max Value: 30, Max Random Index :1\n",
      "At Index: 2, Max Value: 30, Max Random Index :1\n",
      "At Index: 3, Max Value: 30, Max Random Index :3\n",
      "At Index: 4, Max Value: 30, Max Random Index :3\n",
      "At Index: 5, Max Value: 30, Max Random Index :3\n",
      "At Index: 6, Max Value: 30, Max Random Index :3\n",
      "At Index: 7, Max Value: 30, Max Random Index :3\n",
      "At Index: 8, Max Value: 62, Max Random Index :8\n",
      "At Index: 9, Max Value: 62, Max Random Index :8\n"
     ]
    }
   ],
   "source": [
    "import random\n",
    "\n",
    "class Solution():\n",
    "    def __init__(self,arr):\n",
    "        self.nums = arr\n",
    "    \n",
    "    def maxRandomIndex(self):\n",
    "        maxVal = float('-inf')\n",
    "        maxIndex = -1\n",
    "        \n",
    "        count = 0\n",
    "        \n",
    "        for i,x in enumerate(self.nums):\n",
    "            if x > maxVal:\n",
    "                maxVal = x\n",
    "                maxIndex = i\n",
    "                #reset count to  1 for new max value\n",
    "                count = 1\n",
    "            elif x == maxVal:\n",
    "                rnd = random.randint(0, count)\n",
    "                if (rnd == count):\n",
    "                    maxIndex = i\n",
    "                count += 1                \n",
    "            print(\"At Index: \" + str(i) + \", Max Value: \" + str(maxVal) + \", Max Random Index :\" + str(maxIndex))\n",
    "        \n",
    "        return\n",
    "    \n",
    "nums = [11, 30, 2, 30, 30, 30, 6, 2, 62, 62]  \n",
    "obj = Solution(nums)\n",
    "print(\"First Run\")\n",
    "ans = obj.maxRandomIndex()\n",
    "print(\"Second Run\")\n",
    "ans1 = obj.maxRandomIndex()\n"
   ]
  },
  {
   "cell_type": "markdown",
   "metadata": {},
   "source": [
    "## Similar Strings\n",
    "Similar strings (\"face\", \"eacf\") returns true if only 2 positions in the strings are swapped. Here 'f' and 'e' are swapped in the example."
   ]
  },
  {
   "cell_type": "code",
   "execution_count": 33,
   "metadata": {},
   "outputs": [
    {
     "name": "stdout",
     "output_type": "stream",
     "text": [
      "(('f', 'c'), ('a', 'a'), ('c', 'f'), ('e', 'e'))\n",
      "True\n"
     ]
    }
   ],
   "source": [
    "class Solution(object):\n",
    "    def areSimilar(self,w1,w2):\n",
    "        if len(w1) != len(w2):\n",
    "            return False\n",
    "        diff, lets, flag = 0, [], False\n",
    "        print(tuple(zip(w1, w2)))\n",
    "        for l1, l2 in zip(w1, w2):\n",
    "            if l1 != l2:\n",
    "                if not lets:\n",
    "                    lets = [l1, l2]\n",
    "                else:\n",
    "                    #flag = (l1==lets[1] and l2 ==lets[0])\n",
    "                    if not (l1==lets[1] and l2 ==lets[0]):\n",
    "                        return False\n",
    "                diff += 1\n",
    "            if diff > 2:\n",
    "                return False\n",
    "        #return diff==2 and flag\n",
    "        return True\n",
    "\n",
    "obj = Solution()\n",
    "ans = obj.areSimilar(\"face\", \"cafe\")\n",
    "print(ans)"
   ]
  },
  {
   "cell_type": "code",
   "execution_count": null,
   "metadata": {},
   "outputs": [],
   "source": []
  }
 ],
 "metadata": {
  "kernelspec": {
   "display_name": "Python 3",
   "language": "python",
   "name": "python3"
  },
  "language_info": {
   "codemirror_mode": {
    "name": "ipython",
    "version": 3
   },
   "file_extension": ".py",
   "mimetype": "text/x-python",
   "name": "python",
   "nbconvert_exporter": "python",
   "pygments_lexer": "ipython3",
   "version": "3.7.4"
  }
 },
 "nbformat": 4,
 "nbformat_minor": 2
}
