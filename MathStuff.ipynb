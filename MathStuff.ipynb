{
 "cells": [
  {
   "cell_type": "markdown",
   "metadata": {},
   "source": [
    "## Digits of $\\pi$\n",
    "\n",
    "Solve for $\\pi$ in the equation $\\sin$($\\pi$$/6)$ \\= $1/2$ using Maclaurin serions expansion for $6$\\*$\\arcsin$$(x)$ as evaluated at $x=1/2$ "
   ]
  },
  {
   "cell_type": "code",
   "execution_count": 3,
   "metadata": {},
   "outputs": [
    {
     "name": "stdout",
     "output_type": "stream",
     "text": [
      "31415926535\n"
     ]
    }
   ],
   "source": [
    "def pi(places):\n",
    "    \"\"\"\n",
    "    c: cummulative sum\n",
    "    t: one term in the sum\n",
    "    n: numerator\n",
    "    d: denominator\n",
    "    na: adjustment to numerator for each term\n",
    "    da: adjustment to denominator for each term\n",
    "    one: express 1.0 as a long integer with a given number of places\n",
    "    \"\"\"\n",
    "    extra = 8\n",
    "    one = 10 ** (places+extra)\n",
    "    t,c,n,na,d,da = 3*one,3*one,1,0,0,24\n",
    "    while t > 1:\n",
    "        n,na,d,da = n+na, na+8, d+da, da+32\n",
    "        t = t*n//d\n",
    "        c += t\n",
    "    return c//(10**extra)\n",
    "\n",
    "#print(pi(10_000))\n",
    "print(pi(10))\n"
   ]
  },
  {
   "cell_type": "code",
   "execution_count": null,
   "metadata": {},
   "outputs": [],
   "source": []
  }
 ],
 "metadata": {
  "kernelspec": {
   "display_name": "Python 3",
   "language": "python",
   "name": "python3"
  },
  "language_info": {
   "codemirror_mode": {
    "name": "ipython",
    "version": 3
   },
   "file_extension": ".py",
   "mimetype": "text/x-python",
   "name": "python",
   "nbconvert_exporter": "python",
   "pygments_lexer": "ipython3",
   "version": "3.7.4"
  }
 },
 "nbformat": 4,
 "nbformat_minor": 2
}
