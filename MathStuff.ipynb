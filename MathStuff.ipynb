{
 "cells": [
  {
   "cell_type": "markdown",
   "metadata": {},
   "source": [
    "## Digits of $\\pi$\n",
    "\n",
    "Solve for $\\pi$ in the equation $\\sin$($\\pi$$/6)$ \\= $1/2$ using Maclaurin serions expansion for $6$\\*$\\arcsin$$(x)$ as evaluated at $x=1/2$ "
   ]
  },
  {
   "cell_type": "code",
   "execution_count": 3,
   "metadata": {},
   "outputs": [
    {
     "name": "stdout",
     "output_type": "stream",
     "text": [
      "31415926535\n"
     ]
    }
   ],
   "source": [
    "def pi(places):\n",
    "    \"\"\"\n",
    "    c: cummulative sum\n",
    "    t: one term in the sum\n",
    "    n: numerator\n",
    "    d: denominator\n",
    "    na: adjustment to numerator for each term\n",
    "    da: adjustment to denominator for each term\n",
    "    one: express 1.0 as a long integer with a given number of places\n",
    "    \"\"\"\n",
    "    extra = 8\n",
    "    one = 10 ** (places+extra)\n",
    "    t,c,n,na,d,da = 3*one,3*one,1,0,0,24\n",
    "    while t > 1:\n",
    "        n,na,d,da = n+na, na+8, d+da, da+32\n",
    "        t = t*n//d\n",
    "        c += t\n",
    "    return c//(10**extra)\n",
    "\n",
    "#print(pi(10_000))\n",
    "print(pi(10))\n"
   ]
  },
  {
   "cell_type": "markdown",
   "metadata": {},
   "source": [
    "## pow(x,n)"
   ]
  },
  {
   "cell_type": "code",
   "execution_count": 6,
   "metadata": {},
   "outputs": [
    {
     "name": "stdout",
     "output_type": "stream",
     "text": [
      "32 32 1135\n"
     ]
    }
   ],
   "source": [
    "class Solution(object):\n",
    "    \n",
    "    def myPow(self, x, n):\n",
    "        \"\"\"\n",
    "        x: float\n",
    "        n: float\n",
    "        rType: float\n",
    "        Time Complexity: O(logn)\n",
    "        Space Complexity: O(logn)\n",
    "        \"\"\"\n",
    "        if not n:\n",
    "            return 1\n",
    "        if n < 0:\n",
    "            return 1/ self.myPow(x,-n)\n",
    "        if n%2 != 0:\n",
    "            # x * x^n-1 = x^n\n",
    "            return x*self.myPow(x,n-1)\n",
    "        # x^n = (x^n)^2 = x^2n\n",
    "        return self.myPow(x*x, n/2)\n",
    "    \n",
    "    def superPow(self, a, b):\n",
    "        result = 1\n",
    "        for digit in b:\n",
    "            # pow(x,y,z) z-> modulus\n",
    "            result = pow(result, 10, 1337) * pow(a, digit, 1337) % 1337\n",
    "        return result\n",
    "    \n",
    "obj = Solution()\n",
    "ans = obj.myPow(2,5)\n",
    "ans2 = obj.superPow(2,[5])\n",
    "ans3 = obj.superPow(2,[3,0])\n",
    "print(ans,ans2,ans3)"
   ]
  },
  {
   "cell_type": "code",
   "execution_count": null,
   "metadata": {},
   "outputs": [],
   "source": []
  }
 ],
 "metadata": {
  "kernelspec": {
   "display_name": "Python 3",
   "language": "python",
   "name": "python3"
  },
  "language_info": {
   "codemirror_mode": {
    "name": "ipython",
    "version": 3
   },
   "file_extension": ".py",
   "mimetype": "text/x-python",
   "name": "python",
   "nbconvert_exporter": "python",
   "pygments_lexer": "ipython3",
   "version": "3.7.4"
  }
 },
 "nbformat": 4,
 "nbformat_minor": 2
}
