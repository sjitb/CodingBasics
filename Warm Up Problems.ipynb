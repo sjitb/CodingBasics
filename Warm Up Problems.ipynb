{
 "cells": [
  {
   "cell_type": "markdown",
   "metadata": {},
   "source": [
    "# 1. Sock Merchant\n",
    "\n",
    "## Problem Statement: \n",
    "\n",
    "### Complete the sockMerchant function. It must return an integer representing the number of matching pairs of socks that are available.\n",
    "\n",
    "sockMerchant has the following parameter(s):\n",
    "n: the number of socks in the pile\n",
    "ar: the colors of each sock\n",
    "\n"
   ]
  },
  {
   "cell_type": "code",
   "execution_count": 2,
   "metadata": {},
   "outputs": [
    {
     "name": "stdout",
     "output_type": "stream",
     "text": [
      "Counter({10: 4, 20: 3, 30: 1, 50: 1})\n",
      "{10: 4, 20: 3, 30: 1, 50: 1}\n",
      "3\n",
      "Counter({3: 5, 1: 4, 2: 1})\n",
      "{1: 4, 3: 5, 2: 1}\n",
      "4\n"
     ]
    }
   ],
   "source": [
    "#!/bin/python\n",
    "\n",
    "import math\n",
    "import os\n",
    "import random\n",
    "import re\n",
    "import sys\n",
    "from collections import Counter\n",
    "\n",
    "# Complete the sockMerchant function below.\n",
    "def sockMerchant(n, ar):\n",
    "    \n",
    "    freq = Counter(ar)\n",
    "\n",
    "    ans = 0\n",
    "    for key, value in freq.items():\n",
    "        ans += value//2\n",
    "\n",
    "    return ans    \n",
    "\n",
    "    \n",
    "\n",
    "if __name__ == '__main__':\n",
    "        \n",
    "    #fptr = open(os.environ['OUTPUT_PATH'], 'w')\n",
    "\n",
    "    #n = int(raw_input())\n",
    "\n",
    "    #ar = map(int, raw_input().rstrip().split())\n",
    "\n",
    "    #result = sockMerchant(n, ar)\n",
    "\n",
    "    #fptr.write(str(result) + '\\n')\n",
    "\n",
    "    #fptr.close()\n",
    "\n",
    "    result1 = sockMerchant(9, [10, 20, 20, 10, 10, 30, 50, 10, 20])\n",
    "    print(result1)\n",
    "    \n",
    "    result2 = sockMerchant(10, [1, 1, 3, 1, 2, 1, 3, 3, 3, 3])\n",
    "    print(result2)"
   ]
  },
  {
   "cell_type": "markdown",
   "metadata": {},
   "source": [
    "# 2. Counting Valleys\n",
    "\n",
    "### Problem Statement: Complete the countingValleys function. It must return an integer that denotes the number of valleys traversed.\n",
    "\n",
    "countingValleys has the following parameter(s):\n",
    "\n",
    "n: the number of steps taken\n",
    "s: a string describing the path. uphill U, downhill D"
   ]
  },
  {
   "cell_type": "code",
   "execution_count": 4,
   "metadata": {},
   "outputs": [
    {
     "name": "stdout",
     "output_type": "stream",
     "text": [
      "1\n"
     ]
    }
   ],
   "source": [
    "#!/bin/python\n",
    "\n",
    "import math\n",
    "import os\n",
    "import random\n",
    "import re\n",
    "import sys\n",
    "\n",
    "# Complete the countingValleys function below.\n",
    "def countingValleys(n, s):\n",
    "    valley_count = 0\n",
    "    current_level = 0\n",
    "    i = 0\n",
    "    while (i < n):\n",
    "        if s[i] == 'U':\n",
    "            current_level +=1\n",
    "        if s[i] == 'D':\n",
    "            current_level -=1\n",
    "        \n",
    "        if (current_level == 0 and s[i] == 'U'):\n",
    "            valley_count += 1\n",
    "        \n",
    "        i +=1\n",
    "    return valley_count    \n",
    "\n",
    "\n",
    "if __name__ == '__main__':\n",
    "    #fptr = open(os.environ['OUTPUT_PATH'], 'w')\n",
    "\n",
    "    #n = int(raw_input())\n",
    "\n",
    "    #s = raw_input()\n",
    "    \n",
    "    n = 8\n",
    "    s = ['U','D','D','D','U','D','U','U']\n",
    "    result = countingValleys(n, s)\n",
    "    \n",
    "    print(result)\n",
    "\n",
    "    #fptr.write(str(result) + '\\n')\n",
    "\n",
    "    #fptr.close()\n"
   ]
  },
  {
   "cell_type": "markdown",
   "metadata": {},
   "source": [
    "# 3. Jumping on Clouds\n",
    "\n",
    "### Problem Statement: Complete the jumpingOnClouds function. It should return the minimum number of jumps required, as an integer.\n",
    "\n",
    "jumpingOnClouds has the following parameter(s):\n",
    "\n",
    "c: an array of binary integers"
   ]
  },
  {
   "cell_type": "code",
   "execution_count": 5,
   "metadata": {},
   "outputs": [
    {
     "name": "stdout",
     "output_type": "stream",
     "text": [
      "4\n"
     ]
    }
   ],
   "source": [
    "#!/bin/python\n",
    "\n",
    "import math\n",
    "import os\n",
    "import random\n",
    "import re\n",
    "import sys\n",
    "\n",
    "# Complete the jumpingOnClouds function below.\n",
    "def jumpingOnClouds(c):\n",
    "\n",
    "    step_count = 0\n",
    "    i = 0 #index\n",
    "\n",
    "    while (i < len(c) -1):\n",
    "        if (i+2 >= len(c) or c[i + 2] == 1):\n",
    "            i += 1\n",
    "            step_count +=1\n",
    "        else:\n",
    "            i += 2\n",
    "            step_count +=1\n",
    "\n",
    "    return step_count\n",
    "\n",
    "\n",
    "if __name__ == '__main__':\n",
    "    #fptr = open(os.environ['OUTPUT_PATH'], 'w')\n",
    "\n",
    "    #n = int(raw_input())\n",
    "\n",
    "    #c = map(int, raw_input().rstrip().split())\n",
    "\n",
    "    c = [0, 0, 1, 0, 0, 1, 0]\n",
    "    result = jumpingOnClouds(c)\n",
    "    \n",
    "    print(result)\n",
    "\n",
    "    #fptr.write(str(result) + '\\n')\n",
    "\n",
    "    #fptr.close()\n"
   ]
  },
  {
   "cell_type": "markdown",
   "metadata": {},
   "source": [
    "# 4. Repeated String\n",
    "\n",
    "### Problem Statement: Complete the repeatedString function. It should return an integer representing the number of occurrences of a in the prefix of length n in the infinitely repeating string.\n",
    "\n",
    "repeatedString has the following parameter(s):\n",
    "\n",
    "s: a string to repeat\n",
    "n: the number of characters to consider\n"
   ]
  },
  {
   "cell_type": "code",
   "execution_count": 9,
   "metadata": {},
   "outputs": [
    {
     "name": "stdout",
     "output_type": "stream",
     "text": [
      "100000\n"
     ]
    }
   ],
   "source": [
    "#!/bin/python\n",
    "\n",
    "import math\n",
    "import os\n",
    "import random\n",
    "import re\n",
    "import sys\n",
    "\n",
    "# Complete the repeatedString function below.\n",
    "def repeatedString(s, n):\n",
    "    if(len(s) == 1):\n",
    "        if s[0] != 'a':\n",
    "            return 0\n",
    "\n",
    "    # number of occurences of a in original string\n",
    "    l = s.count('a') \n",
    "    # number of times string s repeated in infinite string upto n\n",
    "    c = math.floor(n/len(s))\n",
    "    result = l*c\n",
    "    #Now count the number of 'a' in the remaining substring\n",
    "    rem_count = s[:n%len(s)].count('a')\n",
    "    result += rem_count\n",
    "    return int(result)\n",
    "\n",
    "if __name__ == '__main__':\n",
    "    #fptr = open(os.environ['OUTPUT_PATH'], 'w')\n",
    "\n",
    "    #s = raw_input()\n",
    "    s = 'a'\n",
    "    #n = int(raw_input())\n",
    "    n = 100000\n",
    "\n",
    "    result = repeatedString(s, n)\n",
    "\n",
    "    print(result)\n",
    "    #fptr.write(str(result) + '\\n')\n",
    "\n",
    "    #fptr.close()\n"
   ]
  },
  {
   "cell_type": "code",
   "execution_count": null,
   "metadata": {},
   "outputs": [],
   "source": []
  },
  {
   "cell_type": "code",
   "execution_count": null,
   "metadata": {},
   "outputs": [],
   "source": []
  }
 ],
 "metadata": {
  "kernelspec": {
   "display_name": "Python 3",
   "language": "python",
   "name": "python3"
  },
  "language_info": {
   "codemirror_mode": {
    "name": "ipython",
    "version": 3
   },
   "file_extension": ".py",
   "mimetype": "text/x-python",
   "name": "python",
   "nbconvert_exporter": "python",
   "pygments_lexer": "ipython3",
   "version": "3.7.4"
  }
 },
 "nbformat": 4,
 "nbformat_minor": 2
}
