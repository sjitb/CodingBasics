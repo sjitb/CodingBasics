{
 "cells": [
  {
   "cell_type": "markdown",
   "metadata": {},
   "source": [
    "# Frequently Asked Questions for Online Assessment\n",
    "\n"
   ]
  },
  {
   "cell_type": "markdown",
   "metadata": {},
   "source": [
    "# 1. Treasure Island\n",
    "\n",
    "### Solution: BFS"
   ]
  },
  {
   "cell_type": "code",
   "execution_count": 10,
   "metadata": {},
   "outputs": [
    {
     "name": "stdout",
     "output_type": "stream",
     "text": [
      "Result:  5\n"
     ]
    }
   ],
   "source": [
    "import collections\n",
    "class Solution(object):\n",
    "    def findTreasureIsland(self,t_map):\n",
    "        if len(t_map) == 0 or len(t_map[0]) == 0:\n",
    "            return -1  # impossible\n",
    "        \n",
    "        self.directions = [[0,1],[0,-1],[1,0],[-1,0]]\n",
    "\n",
    "        matrix = [row[:] for row in t_map]\n",
    "        nrow, ncol = len(matrix), len(matrix[0])\n",
    "\n",
    "        q = collections.deque([((0, 0), 0)])  # ((x, y), step)\n",
    "        matrix[0][0] = \"D\"\n",
    "        while q:\n",
    "            (x, y), step = q.popleft()\n",
    "\n",
    "            for dx, dy in self.directions:\n",
    "                next_x, next_y = x + dx, y + dy\n",
    "                if 0 <= next_x < nrow and 0 <= next_y < ncol:\n",
    "                    if matrix[next_x][next_y] == \"X\":\n",
    "                        return step+1\n",
    "                    elif matrix[next_x][next_y] == \"O\":\n",
    "                        # mark visited\n",
    "                        matrix[next_x][next_y] = \"D\"\n",
    "                        q.append(((next_x, next_y), step+1))\n",
    "\n",
    "        return -1\n",
    "\n",
    "obj = Solution()\n",
    "treasure_map = [['O', 'O', 'O', 'O'],\n",
    "  ['D', 'O', 'D', 'O'],\n",
    "  ['O', 'O', 'O', 'O'],\n",
    "  ['X', 'D', 'D', 'O']]\n",
    "    #treasure_map = [['O', 'O', 'O', 'X'],\n",
    " #['O', 'O', 'O', 'O'],\n",
    " #['O', 'O', 'O', 'O'],\n",
    " #['O', 'O', 'O', 'O']]\n",
    "\n",
    "res = obj.findTreasureIsland(treasure_map)\n",
    "print(\"Result: \", res)"
   ]
  },
  {
   "cell_type": "markdown",
   "metadata": {},
   "source": [
    "## Treasure Island 2\n",
    "\n",
    "```\n",
    "Input:\n",
    "[['S', 'O', 'O', 'S', 'S'],\n",
    " ['D', 'O', 'D', 'O', 'D'],\n",
    " ['O', 'O', 'O', 'O', 'X'],\n",
    " ['X', 'D', 'D', 'O', 'O'],\n",
    " ['X', 'D', 'D', 'D', 'O']]\n",
    "\n",
    "Output: 3\n",
    "Explanation:\n",
    "You can start from (0,0), (0, 3) or (0, 4). The treasure locations are (2, 4) (3, 0) and (4, 0). Here the shortest route is (0, 3), (1, 3), (2, 3), (2, 4).\n",
    "```"
   ]
  },
  {
   "cell_type": "code",
   "execution_count": 8,
   "metadata": {},
   "outputs": [
    {
     "name": "stdout",
     "output_type": "stream",
     "text": [
      "3\n"
     ]
    }
   ],
   "source": [
    "from collections import deque\n",
    "class Solution(object):\n",
    "    def shortestPath(self, grid):\n",
    "        if not grid or not grid[0]:\n",
    "            return 0\n",
    "        \n",
    "        res = float('inf')\n",
    "        row, col = len(grid), len(grid[0])\n",
    "        self.directions = [[0,1],[0,-1],[1,0],[-1,0]]\n",
    "        \n",
    "        for i in range(row):\n",
    "            for j in range(col):\n",
    "                if grid[i][j] == 'S':\n",
    "                    q = deque([[i,j,0]])\n",
    "                    res = min(self.bfs(q, grid, row, col), res)       \n",
    "        return res\n",
    "        \n",
    "    \n",
    "    def bfs(self, q, grid, row, col):\n",
    "        visited = [[-1 for _ in range(col)]for _ in range(row)]\n",
    "        while len(q):\n",
    "            i, j, step = q.popleft()\n",
    "            visited[i][j] = step\n",
    "            if grid[i][j] == 'X':\n",
    "                return step\n",
    "            \n",
    "            for d in self.directions:\n",
    "                next_i, next_j = i + d[0], j + d[1]\n",
    "                if next_i >= 0 and next_i < row and next_j >= 0 and next_j < col:\n",
    "                    if grid[next_i][next_j] != 'D' and visited[next_i][next_j] == -1:\n",
    "                        q.append([next_i, next_j, step+1])\n",
    "        return -1\n",
    "    \n",
    "obj = Solution()\n",
    "tMap = [['S', 'O', 'O', 'S', 'S'],\n",
    " ['D', 'O', 'D', 'O', 'D'],\n",
    " ['O', 'O', 'O', 'O', 'X'],\n",
    " ['X', 'D', 'D', 'O', 'O'],\n",
    " ['X', 'D', 'D', 'D', 'O']]\n",
    "ans = obj.shortestPath(tMap)\n",
    "print(ans)\n"
   ]
  },
  {
   "cell_type": "markdown",
   "metadata": {},
   "source": [
    "## Walls and Gates\n",
    "You are given a m x n 2D grid initialized with these three possible values.\n",
    "\n",
    "-1 - A wall or an obstacle.\n",
    "0 - A gate.\n",
    "INF - Infinity means an empty room. We use the value 231 - 1 = 2147483647 to represent INF as you may assume that the distance to a gate is less than 2147483647.\n",
    "Fill each empty room with the distance to its nearest gate. If it is impossible to reach a gate, it should be filled with INF."
   ]
  },
  {
   "cell_type": "code",
   "execution_count": 6,
   "metadata": {},
   "outputs": [
    {
     "name": "stdout",
     "output_type": "stream",
     "text": [
      "[[3, -1, 0, 1], [2, 2, 1, -1], [1, -1, 2, -1], [0, -1, 3, 4]]\n"
     ]
    }
   ],
   "source": [
    "class Solution:\n",
    "    def __init__(self):\n",
    "        self.EMPTY = 2147483647\n",
    "        self.GATE = 0\n",
    "        self.WALL = -1\n",
    "    def wallsAndGates(self, rooms):\n",
    "        \"\"\"\n",
    "        Do not return anything, modify rooms in-place instead.\n",
    "        rooms: List[List[int]]\n",
    "        rType: None\n",
    "        \"\"\"\n",
    "        if len(rooms) == 0:\n",
    "            return\n",
    "        M, N = len(rooms), len(rooms[0])\n",
    "        queue = collections.deque()\n",
    "        for r in range(M):\n",
    "            for c in range(N):\n",
    "                if rooms[r][c] == self.GATE:\n",
    "                    queue.append([r,c])\n",
    "        \n",
    "        directions = [[1,0],[-1,0],[0,1],[0,-1]]\n",
    "        \n",
    "        while queue:\n",
    "            curr = queue.popleft()\n",
    "            row, col = curr[0], curr[1]\n",
    "            for d in directions:\n",
    "                r = row + d[0]\n",
    "                c = col + d[1]\n",
    "                if r<0 or r >=M or c<0 or c>=N or rooms[r][c] != self.EMPTY:\n",
    "                    continue\n",
    "                rooms[r][c] = rooms[row][col] + 1\n",
    "                queue.append([r,c])\n",
    "                \n",
    "obj = Solution()\n",
    "rooms = [[2147483647,-1,0,2147483647],[2147483647,2147483647,2147483647,-1],[2147483647,-1,2147483647,-1],[0,-1,2147483647,2147483647]]\n",
    "obj.wallsAndGates(rooms)\n",
    "print(rooms)"
   ]
  },
  {
   "cell_type": "markdown",
   "metadata": {},
   "source": [
    "## Dice Rolls\n",
    "\n",
    "You have d dice, and each die has f faces numbered 1, 2, ..., f.\n",
    "\n",
    "Return the number of possible ways (out of f^d total ways) modulo 10^9 + 7 to roll the dice so the sum of the face up numbers equals target."
   ]
  },
  {
   "cell_type": "code",
   "execution_count": 3,
   "metadata": {},
   "outputs": [
    {
     "name": "stdout",
     "output_type": "stream",
     "text": [
      "780\n"
     ]
    }
   ],
   "source": [
    "class Solution(object):\n",
    "    def numRollsToTarget(self, d, f, target):\n",
    "        \"\"\"\n",
    "        d: number of dices\n",
    "        f: number of faces\n",
    "        target: target value\n",
    "        rtype: int, possible ways (out of f^d total ways) modulo 10^9 + 7 to rolls the dices\n",
    "        \"\"\"\n",
    "        \"\"\"\n",
    "        The general relation:\n",
    "        dp(d, f, target) = dp(d-1, f, target-1) + dp(d-1, f, target-2) + ... + dp(d-1, f, target-f)\n",
    "\n",
    "        The base case occurs when d = 0. We can make target=0 with 0 dice, but nothing else.\n",
    "        So dp(0, f, t) = 0 iff t != 0, and dp(0, f, 0) = 1.\n",
    "        Runtime: O(d * f * target).\n",
    "        Memory: O(d * target) for the memoization.\n",
    "        \"\"\"\n",
    "        # memoization\n",
    "        memo = {}\n",
    "        def dp(d, target):\n",
    "            if d == 0:\n",
    "                return 0 if target > 0 else 1\n",
    "            if (d, target) in memo:\n",
    "                return memo[(d, target)]\n",
    "            to_return = 0\n",
    "            for k in range(max(0, target-f), target):\n",
    "                to_return += dp(d-1, k)\n",
    "            memo[(d, target)] = to_return\n",
    "            return to_return\n",
    "        return dp(d, target) % (10**9 + 7)\n",
    "        \n",
    "obj = Solution()\n",
    "ans = obj.numRollsToTarget(5,6,17)\n",
    "print(ans)"
   ]
  },
  {
   "cell_type": "markdown",
   "metadata": {},
   "source": [
    "## Zombie in Matrix\n",
    "\n",
    "Given a 2D grid, each cell is either a zombie 1 or a human 0. Zombies can turn adjacent (up/down/left/right) human beings into zombies every hour. Find out how many hours does it take to infect all humans?"
   ]
  },
  {
   "cell_type": "code",
   "execution_count": 19,
   "metadata": {},
   "outputs": [
    {
     "name": "stdout",
     "output_type": "stream",
     "text": [
      "2\n"
     ]
    }
   ],
   "source": [
    "from collections import deque\n",
    "class Solution(object):\n",
    "    def minHour(self, rows, columns, grid):\n",
    "        if not rows or not columns:\n",
    "            return 0\n",
    "        q = deque()\n",
    "        \n",
    "        time = 0\n",
    "        for i in range(rows):\n",
    "            for j in range(columns):\n",
    "                if grid[i][j] == 1:\n",
    "                    q.append(((i,j),time))\n",
    "\n",
    "        directions = [[1,0],[-1,0],[0,1],[0,-1]]\n",
    "        \n",
    "        \n",
    "        if not q:\n",
    "            return time\n",
    "        \n",
    "        while q:\n",
    "            (i,j), currTime = q.popleft()\n",
    "            if currTime > time:\n",
    "                time = currTime\n",
    "            for d in directions:\n",
    "                ni, nj = i + d[0], j + d[1]\n",
    "                if 0 <= ni < rows and 0 <= nj < columns and grid[ni][nj] == 0:\n",
    "                    grid[ni][nj] = 1\n",
    "                    q.append(((ni,nj),currTime + 1))\n",
    "\n",
    "        return time\n",
    "            \n",
    "        \n",
    "    \n",
    "obj = Solution()\n",
    "grid = [[0, 1, 1, 0, 1],\n",
    "        [0, 1, 0, 1, 0],\n",
    "        [0, 0, 0, 0, 1],\n",
    "        [0, 1, 0, 0, 0]]\n",
    "\n",
    "ans = obj.minHour(4,5,grid)\n",
    "print(ans)"
   ]
  },
  {
   "cell_type": "code",
   "execution_count": null,
   "metadata": {},
   "outputs": [],
   "source": []
  }
 ],
 "metadata": {
  "kernelspec": {
   "display_name": "Python 3",
   "language": "python",
   "name": "python3"
  },
  "language_info": {
   "codemirror_mode": {
    "name": "ipython",
    "version": 3
   },
   "file_extension": ".py",
   "mimetype": "text/x-python",
   "name": "python",
   "nbconvert_exporter": "python",
   "pygments_lexer": "ipython3",
   "version": "3.7.4"
  }
 },
 "nbformat": 4,
 "nbformat_minor": 2
}
