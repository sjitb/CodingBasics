{
 "cells": [
  {
   "cell_type": "markdown",
   "metadata": {},
   "source": [
    "# Frequently Asked Questions for Online Assessment\n",
    "\n"
   ]
  },
  {
   "cell_type": "markdown",
   "metadata": {},
   "source": [
    "# 1. Treasure Island\n",
    "\n",
    "### Solution: BFS"
   ]
  },
  {
   "cell_type": "code",
   "execution_count": 4,
   "metadata": {},
   "outputs": [
    {
     "name": "stdout",
     "output_type": "stream",
     "text": [
      "Result:  5\n"
     ]
    }
   ],
   "source": [
    "import collections\n",
    "class Solution(object):\n",
    "    def findTreasureIsland(self,t_map):\n",
    "        if len(t_map) == 0 or len(t_map[0]) == 0:\n",
    "            return -1  # impossible\n",
    "\n",
    "        matrix = [row[:] for row in t_map]\n",
    "        nrow, ncol = len(matrix), len(matrix[0])\n",
    "\n",
    "        q = collections.deque([((0, 0), 0)])  # ((x, y), step)\n",
    "        matrix[0][0] = \"D\"\n",
    "        while q:\n",
    "            (x, y), step = q.popleft()\n",
    "\n",
    "            for dx, dy in [[0, 1], [0, -1], [1, 0], [-1, 0]]:\n",
    "                if 0 <= x+dx < nrow and 0 <= y+dy < ncol:\n",
    "                    if matrix[x+dx][y+dy] == \"X\":\n",
    "                        return step+1\n",
    "                    elif matrix[x+dx][y+dy] == \"O\":\n",
    "                        # mark visited\n",
    "                        matrix[x + dx][y + dy] = \"D\"\n",
    "                        q.append(((x+dx, y+dy), step+1))\n",
    "\n",
    "        return -1\n",
    "\n",
    "obj = Solution()\n",
    "treasure_map = [['O', 'O', 'O', 'O'],\n",
    "  ['D', 'O', 'D', 'O'],\n",
    "  ['O', 'O', 'O', 'O'],\n",
    "  ['X', 'D', 'D', 'O']]\n",
    "    #treasure_map = [['O', 'O', 'O', 'X'],\n",
    " #['O', 'O', 'O', 'O'],\n",
    " #['O', 'O', 'O', 'O'],\n",
    " #['O', 'O', 'O', 'O']]\n",
    "\n",
    "res = obj.findTreasureIsland(treasure_map)\n",
    "print(\"Result: \", res)"
   ]
  },
  {
   "cell_type": "markdown",
   "metadata": {},
   "source": []
  },
  {
   "cell_type": "markdown",
   "metadata": {},
   "source": [
    "## Walls and Gates\n",
    "You are given a m x n 2D grid initialized with these three possible values.\n",
    "\n",
    "-1 - A wall or an obstacle.\n",
    "0 - A gate.\n",
    "INF - Infinity means an empty room. We use the value 231 - 1 = 2147483647 to represent INF as you may assume that the distance to a gate is less than 2147483647.\n",
    "Fill each empty room with the distance to its nearest gate. If it is impossible to reach a gate, it should be filled with INF."
   ]
  },
  {
   "cell_type": "code",
   "execution_count": 6,
   "metadata": {},
   "outputs": [
    {
     "name": "stdout",
     "output_type": "stream",
     "text": [
      "[[3, -1, 0, 1], [2, 2, 1, -1], [1, -1, 2, -1], [0, -1, 3, 4]]\n"
     ]
    }
   ],
   "source": [
    "class Solution:\n",
    "    def __init__(self):\n",
    "        self.EMPTY = 2147483647\n",
    "        self.GATE = 0\n",
    "        self.WALL = -1\n",
    "    def wallsAndGates(self, rooms):\n",
    "        \"\"\"\n",
    "        Do not return anything, modify rooms in-place instead.\n",
    "        rooms: List[List[int]]\n",
    "        rType: None\n",
    "        \"\"\"\n",
    "        if len(rooms) == 0:\n",
    "            return\n",
    "        M, N = len(rooms), len(rooms[0])\n",
    "        queue = collections.deque()\n",
    "        for r in range(M):\n",
    "            for c in range(N):\n",
    "                if rooms[r][c] == self.GATE:\n",
    "                    queue.append([r,c])\n",
    "        \n",
    "        directions = [[1,0],[-1,0],[0,1],[0,-1]]\n",
    "        \n",
    "        while queue:\n",
    "            curr = queue.popleft()\n",
    "            row, col = curr[0], curr[1]\n",
    "            for d in directions:\n",
    "                r = row + d[0]\n",
    "                c = col + d[1]\n",
    "                if r<0 or r >=M or c<0 or c>=N or rooms[r][c] != self.EMPTY:\n",
    "                    continue\n",
    "                rooms[r][c] = rooms[row][col] + 1\n",
    "                queue.append([r,c])\n",
    "                \n",
    "obj = Solution()\n",
    "rooms = [[2147483647,-1,0,2147483647],[2147483647,2147483647,2147483647,-1],[2147483647,-1,2147483647,-1],[0,-1,2147483647,2147483647]]\n",
    "obj.wallsAndGates(rooms)\n",
    "print(rooms)"
   ]
  },
  {
   "cell_type": "code",
   "execution_count": null,
   "metadata": {},
   "outputs": [],
   "source": []
  }
 ],
 "metadata": {
  "kernelspec": {
   "display_name": "Python 3",
   "language": "python",
   "name": "python3"
  },
  "language_info": {
   "codemirror_mode": {
    "name": "ipython",
    "version": 3
   },
   "file_extension": ".py",
   "mimetype": "text/x-python",
   "name": "python",
   "nbconvert_exporter": "python",
   "pygments_lexer": "ipython3",
   "version": "3.7.4"
  }
 },
 "nbformat": 4,
 "nbformat_minor": 2
}
