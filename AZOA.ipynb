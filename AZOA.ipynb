{
 "cells": [
  {
   "cell_type": "markdown",
   "metadata": {},
   "source": [
    "# Frequently Asked Questions for Online Assessment\n",
    "\n"
   ]
  },
  {
   "cell_type": "markdown",
   "metadata": {},
   "source": [
    "# 1. Treasure Island\n",
    "\n",
    "### Solution: BFS"
   ]
  },
  {
   "cell_type": "code",
   "execution_count": 7,
   "metadata": {},
   "outputs": [
    {
     "name": "stdout",
     "output_type": "stream",
     "text": [
      "Result:  5\n"
     ]
    }
   ],
   "source": [
    "def find_treasure(t_map, row, col, curr_steps, min_steps):\n",
    "\n",
    "    if row < 0 or row >= len(t_map) or col < 0 or col >= len(t_map[0]) or t_map[row][col] == 'D' or t_map[row][col] == '#':\n",
    "        return None, min_steps\n",
    "\n",
    "    if t_map[row][col] == 'X':\n",
    "        curr_steps += 1\n",
    "        min_steps = min(min_steps,curr_steps)\n",
    "\n",
    "        return None, min_steps\n",
    "    else:\n",
    "        tmp = t_map[row][col]\n",
    "        t_map[row][col] = '#'\n",
    "        curr_steps += 1\n",
    "        left = find_treasure(t_map,row, col-1, curr_steps, min_steps)\n",
    "        right = find_treasure(t_map, row, col+1, curr_steps, min_steps)\n",
    "        up = find_treasure(t_map, row -1, col, curr_steps, min_steps)\n",
    "        down = find_treasure(t_map, row + 1, col, curr_steps, min_steps)\n",
    "\n",
    "        t_map[row][col] = tmp\n",
    "\n",
    "        return curr_steps, min(left[1], right[1], up[1], down[1])\n",
    "\n",
    "if __name__ == '__main__':\n",
    "    treasure_map = [['O', 'O', 'O', 'O'],\n",
    "  ['D', 'O', 'D', 'O'],\n",
    "  ['O', 'O', 'O', 'O'],\n",
    "  ['X', 'D', 'D', 'O']]\n",
    "    #treasure_map = [['O', 'O', 'O', 'X'],\n",
    " #['O', 'O', 'O', 'O'],\n",
    " #['O', 'O', 'O', 'O'],\n",
    " #['O', 'O', 'O', 'O']]\n",
    "\n",
    "    res = find_treasure(treasure_map, 0, 0, -1, float('inf'))\n",
    "    print(\"Result: \", res[1])"
   ]
  },
  {
   "cell_type": "markdown",
   "metadata": {},
   "source": []
  },
  {
   "cell_type": "code",
   "execution_count": null,
   "metadata": {},
   "outputs": [],
   "source": []
  }
 ],
 "metadata": {
  "kernelspec": {
   "display_name": "Python 3",
   "language": "python",
   "name": "python3"
  },
  "language_info": {
   "codemirror_mode": {
    "name": "ipython",
    "version": 3
   },
   "file_extension": ".py",
   "mimetype": "text/x-python",
   "name": "python",
   "nbconvert_exporter": "python",
   "pygments_lexer": "ipython3",
   "version": "3.7.0"
  }
 },
 "nbformat": 4,
 "nbformat_minor": 2
}
