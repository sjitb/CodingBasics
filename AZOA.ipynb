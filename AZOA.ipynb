{
 "cells": [
  {
   "cell_type": "markdown",
   "metadata": {},
   "source": [
    "# Frequently Asked Questions for Online Assessment\n",
    "\n"
   ]
  },
  {
   "cell_type": "markdown",
   "metadata": {},
   "source": [
    "# 1. Treasure Island\n",
    "\n",
    "### Solution: BFS"
   ]
  },
  {
   "cell_type": "code",
   "execution_count": 10,
   "metadata": {},
   "outputs": [
    {
     "name": "stdout",
     "output_type": "stream",
     "text": [
      "Result:  5\n"
     ]
    }
   ],
   "source": [
    "import collections\n",
    "class Solution(object):\n",
    "    def findTreasureIsland(self,t_map):\n",
    "        if len(t_map) == 0 or len(t_map[0]) == 0:\n",
    "            return -1  # impossible\n",
    "        \n",
    "        self.directions = [[0,1],[0,-1],[1,0],[-1,0]]\n",
    "\n",
    "        matrix = [row[:] for row in t_map]\n",
    "        nrow, ncol = len(matrix), len(matrix[0])\n",
    "\n",
    "        q = collections.deque([((0, 0), 0)])  # ((x, y), step)\n",
    "        matrix[0][0] = \"D\"\n",
    "        while q:\n",
    "            (x, y), step = q.popleft()\n",
    "\n",
    "            for dx, dy in self.directions:\n",
    "                next_x, next_y = x + dx, y + dy\n",
    "                if 0 <= next_x < nrow and 0 <= next_y < ncol:\n",
    "                    if matrix[next_x][next_y] == \"X\":\n",
    "                        return step+1\n",
    "                    elif matrix[next_x][next_y] == \"O\":\n",
    "                        # mark visited\n",
    "                        matrix[next_x][next_y] = \"D\"\n",
    "                        q.append(((next_x, next_y), step+1))\n",
    "\n",
    "        return -1\n",
    "\n",
    "obj = Solution()\n",
    "treasure_map = [['O', 'O', 'O', 'O'],\n",
    "  ['D', 'O', 'D', 'O'],\n",
    "  ['O', 'O', 'O', 'O'],\n",
    "  ['X', 'D', 'D', 'O']]\n",
    "    #treasure_map = [['O', 'O', 'O', 'X'],\n",
    " #['O', 'O', 'O', 'O'],\n",
    " #['O', 'O', 'O', 'O'],\n",
    " #['O', 'O', 'O', 'O']]\n",
    "\n",
    "res = obj.findTreasureIsland(treasure_map)\n",
    "print(\"Result: \", res)"
   ]
  },
  {
   "cell_type": "markdown",
   "metadata": {},
   "source": [
    "## Treasure Island 2\n",
    "\n",
    "```\n",
    "Input:\n",
    "[['S', 'O', 'O', 'S', 'S'],\n",
    " ['D', 'O', 'D', 'O', 'D'],\n",
    " ['O', 'O', 'O', 'O', 'X'],\n",
    " ['X', 'D', 'D', 'O', 'O'],\n",
    " ['X', 'D', 'D', 'D', 'O']]\n",
    "\n",
    "Output: 3\n",
    "Explanation:\n",
    "You can start from (0,0), (0, 3) or (0, 4). The treasure locations are (2, 4) (3, 0) and (4, 0). Here the shortest route is (0, 3), (1, 3), (2, 3), (2, 4).\n",
    "```"
   ]
  },
  {
   "cell_type": "code",
   "execution_count": 8,
   "metadata": {},
   "outputs": [
    {
     "name": "stdout",
     "output_type": "stream",
     "text": [
      "3\n"
     ]
    }
   ],
   "source": [
    "from collections import deque\n",
    "class Solution(object):\n",
    "    def shortestPath(self, grid):\n",
    "        if not grid or not grid[0]:\n",
    "            return 0\n",
    "        \n",
    "        res = float('inf')\n",
    "        row, col = len(grid), len(grid[0])\n",
    "        self.directions = [[0,1],[0,-1],[1,0],[-1,0]]\n",
    "        \n",
    "        for i in range(row):\n",
    "            for j in range(col):\n",
    "                if grid[i][j] == 'S':\n",
    "                    q = deque([[i,j,0]])\n",
    "                    res = min(self.bfs(q, grid, row, col), res)       \n",
    "        return res\n",
    "        \n",
    "    \n",
    "    def bfs(self, q, grid, row, col):\n",
    "        visited = [[-1 for _ in range(col)]for _ in range(row)]\n",
    "        while len(q):\n",
    "            i, j, step = q.popleft()\n",
    "            visited[i][j] = step\n",
    "            if grid[i][j] == 'X':\n",
    "                return step\n",
    "            \n",
    "            for d in self.directions:\n",
    "                next_i, next_j = i + d[0], j + d[1]\n",
    "                if next_i >= 0 and next_i < row and next_j >= 0 and next_j < col:\n",
    "                    if grid[next_i][next_j] != 'D' and visited[next_i][next_j] == -1:\n",
    "                        q.append([next_i, next_j, step+1])\n",
    "        return -1\n",
    "    \n",
    "obj = Solution()\n",
    "tMap = [['S', 'O', 'O', 'S', 'S'],\n",
    " ['D', 'O', 'D', 'O', 'D'],\n",
    " ['O', 'O', 'O', 'O', 'X'],\n",
    " ['X', 'D', 'D', 'O', 'O'],\n",
    " ['X', 'D', 'D', 'D', 'O']]\n",
    "ans = obj.shortestPath(tMap)\n",
    "print(ans)\n"
   ]
  },
  {
   "cell_type": "markdown",
   "metadata": {},
   "source": [
    "## Walls and Gates\n",
    "You are given a m x n 2D grid initialized with these three possible values.\n",
    "\n",
    "-1 - A wall or an obstacle.\n",
    "0 - A gate.\n",
    "INF - Infinity means an empty room. We use the value 231 - 1 = 2147483647 to represent INF as you may assume that the distance to a gate is less than 2147483647.\n",
    "Fill each empty room with the distance to its nearest gate. If it is impossible to reach a gate, it should be filled with INF."
   ]
  },
  {
   "cell_type": "code",
   "execution_count": 6,
   "metadata": {},
   "outputs": [
    {
     "name": "stdout",
     "output_type": "stream",
     "text": [
      "[[3, -1, 0, 1], [2, 2, 1, -1], [1, -1, 2, -1], [0, -1, 3, 4]]\n"
     ]
    }
   ],
   "source": [
    "class Solution:\n",
    "    def __init__(self):\n",
    "        self.EMPTY = 2147483647\n",
    "        self.GATE = 0\n",
    "        self.WALL = -1\n",
    "    def wallsAndGates(self, rooms):\n",
    "        \"\"\"\n",
    "        Do not return anything, modify rooms in-place instead.\n",
    "        rooms: List[List[int]]\n",
    "        rType: None\n",
    "        \"\"\"\n",
    "        if len(rooms) == 0:\n",
    "            return\n",
    "        M, N = len(rooms), len(rooms[0])\n",
    "        queue = collections.deque()\n",
    "        for r in range(M):\n",
    "            for c in range(N):\n",
    "                if rooms[r][c] == self.GATE:\n",
    "                    queue.append([r,c])\n",
    "        \n",
    "        directions = [[1,0],[-1,0],[0,1],[0,-1]]\n",
    "        \n",
    "        while queue:\n",
    "            curr = queue.popleft()\n",
    "            row, col = curr[0], curr[1]\n",
    "            for d in directions:\n",
    "                r = row + d[0]\n",
    "                c = col + d[1]\n",
    "                if r<0 or r >=M or c<0 or c>=N or rooms[r][c] != self.EMPTY:\n",
    "                    continue\n",
    "                rooms[r][c] = rooms[row][col] + 1\n",
    "                queue.append([r,c])\n",
    "                \n",
    "obj = Solution()\n",
    "rooms = [[2147483647,-1,0,2147483647],[2147483647,2147483647,2147483647,-1],[2147483647,-1,2147483647,-1],[0,-1,2147483647,2147483647]]\n",
    "obj.wallsAndGates(rooms)\n",
    "print(rooms)"
   ]
  },
  {
   "cell_type": "markdown",
   "metadata": {},
   "source": [
    "## Dice Rolls\n",
    "\n",
    "You have d dice, and each die has f faces numbered 1, 2, ..., f.\n",
    "\n",
    "Return the number of possible ways (out of f^d total ways) modulo 10^9 + 7 to roll the dice so the sum of the face up numbers equals target."
   ]
  },
  {
   "cell_type": "code",
   "execution_count": 3,
   "metadata": {},
   "outputs": [
    {
     "name": "stdout",
     "output_type": "stream",
     "text": [
      "780\n"
     ]
    }
   ],
   "source": [
    "class Solution(object):\n",
    "    def numRollsToTarget(self, d, f, target):\n",
    "        \"\"\"\n",
    "        d: number of dices\n",
    "        f: number of faces\n",
    "        target: target value\n",
    "        rtype: int, possible ways (out of f^d total ways) modulo 10^9 + 7 to rolls the dices\n",
    "        \"\"\"\n",
    "        \"\"\"\n",
    "        The general relation:\n",
    "        dp(d, f, target) = dp(d-1, f, target-1) + dp(d-1, f, target-2) + ... + dp(d-1, f, target-f)\n",
    "\n",
    "        The base case occurs when d = 0. We can make target=0 with 0 dice, but nothing else.\n",
    "        So dp(0, f, t) = 0 iff t != 0, and dp(0, f, 0) = 1.\n",
    "        Runtime: O(d * f * target).\n",
    "        Memory: O(d * target) for the memoization.\n",
    "        \"\"\"\n",
    "        # memoization\n",
    "        memo = {}\n",
    "        def dp(d, target):\n",
    "            if d == 0:\n",
    "                return 0 if target > 0 else 1\n",
    "            if (d, target) in memo:\n",
    "                return memo[(d, target)]\n",
    "            to_return = 0\n",
    "            for k in range(max(0, target-f), target):\n",
    "                to_return += dp(d-1, k)\n",
    "            memo[(d, target)] = to_return\n",
    "            return to_return\n",
    "        return dp(d, target) % (10**9 + 7)\n",
    "        \n",
    "obj = Solution()\n",
    "ans = obj.numRollsToTarget(5,6,17)\n",
    "print(ans)"
   ]
  },
  {
   "cell_type": "markdown",
   "metadata": {},
   "source": [
    "## Zombie in Matrix\n",
    "\n",
    "Given a 2D grid, each cell is either a zombie 1 or a human 0. Zombies can turn adjacent (up/down/left/right) human beings into zombies every hour. Find out how many hours does it take to infect all humans?"
   ]
  },
  {
   "cell_type": "code",
   "execution_count": 19,
   "metadata": {},
   "outputs": [
    {
     "name": "stdout",
     "output_type": "stream",
     "text": [
      "2\n"
     ]
    }
   ],
   "source": [
    "from collections import deque\n",
    "class Solution(object):\n",
    "    def minHour(self, rows, columns, grid):\n",
    "        if not rows or not columns:\n",
    "            return 0\n",
    "        q = deque()\n",
    "        \n",
    "        time = 0\n",
    "        for i in range(rows):\n",
    "            for j in range(columns):\n",
    "                if grid[i][j] == 1:\n",
    "                    q.append(((i,j),time))\n",
    "\n",
    "        directions = [[1,0],[-1,0],[0,1],[0,-1]]\n",
    "        \n",
    "        \n",
    "        if not q:\n",
    "            return time\n",
    "        \n",
    "        while q:\n",
    "            (i,j), currTime = q.popleft()\n",
    "            if currTime > time:\n",
    "                time = currTime\n",
    "            for d in directions:\n",
    "                ni, nj = i + d[0], j + d[1]\n",
    "                if 0 <= ni < rows and 0 <= nj < columns and grid[ni][nj] == 0:\n",
    "                    grid[ni][nj] = 1\n",
    "                    q.append(((ni,nj),currTime + 1))\n",
    "\n",
    "        return time\n",
    "            \n",
    "        \n",
    "    \n",
    "obj = Solution()\n",
    "grid = [[0, 1, 1, 0, 1],\n",
    "        [0, 1, 0, 1, 0],\n",
    "        [0, 0, 0, 0, 1],\n",
    "        [0, 1, 0, 0, 0]]\n",
    "\n",
    "ans = obj.minHour(4,5,grid)\n",
    "print(ans)"
   ]
  },
  {
   "cell_type": "markdown",
   "metadata": {},
   "source": [
    "## Top K Frequently Mentioned Keywords\n",
    "\n",
    "Given a list of reviews, a list of keywords and an integer k. Find the most popular k keywords in order of most to least frequently mentioned.\n",
    "The comparison of strings is case-insensitive. If keywords are mentioned an equal number of times in reviews, sort alphabetically.\n",
    "\n",
    "```\n",
    "Input:\n",
    "topFeatures = 2\n",
    "numFeatures = 5\n",
    "possibleFeatures = [\"anacell\", \"betacellular\", \"cetracular\", \"deltacellular\", \"eurocell\"]\n",
    "numFeatureRequests = 5\n",
    "featureRequests = [\n",
    "  \"I love anacell Best services; Best services provided by anacell\",\n",
    "  \"betacellular has great services\",\n",
    "  \"deltacellular provides much better services than betacellular\",\n",
    "  \"cetracular is worse than anacell\",\n",
    "  \"Betacellular is better than deltacellular.\",\n",
    "]\n",
    "\n",
    "Output:\n",
    "[\"betacellular\", \"anacell\"]\n",
    "\n",
    "Explanation:\n",
    "\"betacellular\" is occuring in 3 different reviews. \"anacell\" and \"deltacellular\" are occuring in 2 reviews, but \"anacell\" is lexicographically smaller.\n",
    "```"
   ]
  },
  {
   "cell_type": "code",
   "execution_count": 24,
   "metadata": {},
   "outputs": [
    {
     "name": "stdout",
     "output_type": "stream",
     "text": [
      "['betacellular', 'anacell']\n"
     ]
    }
   ],
   "source": [
    "from collections import Counter\n",
    "import re\n",
    "import heapq\n",
    "class Solution(object):\n",
    "    \n",
    "    def popularNFeatures(self, numFeatures, topFeatures, possibleFeatures, numFeatureRequests, featureRequests):\n",
    "        #getting initialized to 1. But doesn't matter\n",
    "        keyWordList = Counter(possibleFeatures)\n",
    "        \n",
    "        for i in range(numFeatureRequests):\n",
    "            for w in set(re.split('\\W+',featureRequests[i].lower())):\n",
    "                if w.lower() in keyWordList:\n",
    "                    keyWordList[w.lower()] += 1\n",
    "        h=[]                    \n",
    "        for word, count in keyWordList.items():\n",
    "            heapq.heappush(h,(-1*count,word))\n",
    "        res = []    \n",
    "        for i in range(topFeatures):\n",
    "            res.append(heapq.heappop(h)[1])\n",
    "\n",
    "        return res\n",
    "obj = Solution()\n",
    "topFeatures = 2\n",
    "numFeatures = 5\n",
    "possibleFeatures = [\"anacell\", \"betacellular\", \"cetracular\", \"deltacellular\", \"eurocell\"]\n",
    "numFeatureRequests = 5\n",
    "featureRequests = [\n",
    "    \"I love anacell Best services; Best services provided by anacell\",\n",
    "    \"betacellular has great services\",\n",
    "    \"deltacellular provides much better services than betacellular\",\n",
    "    \"cetracular is worse than anacell\",\n",
    "    \"Betacellular is better than deltacellular.\",\n",
    "]\n",
    "\n",
    "ans = obj.popularNFeatures(numFeatures, topFeatures, possibleFeatures, numFeatureRequests, featureRequests)\n",
    "\n",
    "print(ans)\n",
    "\n",
    "        "
   ]
  },
  {
   "cell_type": "markdown",
   "metadata": {},
   "source": [
    "## Aircraft Route Optimizer\n",
    "\n",
    "Each aircraft should be assigned two shipping routes at once: \n",
    "*one forward route\n",
    "*one return route. \n",
    "Due to the complex scheduling of flight plans,all aircraft have a fixed maximum operating travel distance, and cannot be scheduled to fly a shipping route that requires more travel distance than the prescribed maximum operating travel distance.\n",
    "\n",
    "The goal of the system is to optimize the total operating travel distance of a given aircraft.\n",
    "A forward/return shipping route pair is considered to be “optimal” if there does not exist another pair that has a higher operating travel distance than this pair, and also has a total less than or equal to the maximum operating travel distance of the aircraft.\n",
    "\n",
    "For example, if the aircraft has a maximum operating travel distance of 3000 miles,\n",
    "a forward/return shipping route pair using a total of 2900 miles would be optimal if there does not exist a pair that uses a total operating travel distance of 3000 miles,\n",
    "but would not be considered optimal if such a pair did exist.\n",
    "Your task is to write an algorithm to optimize the sets of forward/return shipping route pairs that allow the aircraft to be optimally utilized, given a list of forward shipping routes and a list of return shipping routes.\n",
    "```\n",
    "Examples 1:\n",
    "maxTravelDist=7000\n",
    "forwardRouteList=[[1,2000][2,4000][3,6000]]\n",
    "returnRouteList=[[1,2000]]\n",
    "Output: [[2,1]]\n",
    "\n",
    "Examples 1:\n",
    "maxTravelDist=10000\n",
    "forwardRouteList=[[1,3000][2,5000][3,7000],[4,10000]\n",
    "returnRouteList=[[1,2000][2,3000][3,4000][4,5000]]\n",
    "Output: [[2,4],[3,2]]\n",
    "```"
   ]
  },
  {
   "cell_type": "code",
   "execution_count": 9,
   "metadata": {},
   "outputs": [
    {
     "name": "stdout",
     "output_type": "stream",
     "text": [
      "[[2, 1]]\n"
     ]
    }
   ],
   "source": [
    "from collections import defaultdict\n",
    "class Solution(object):\n",
    "    \n",
    "    def optimalFlightPath(self, maxTravelDist, forwardRouteList, returnRouteList):\n",
    "        \n",
    "        diffDist = defaultdict(list)\n",
    "        \n",
    "        fList = sorted(forwardRouteList, key=lambda x:x[1])\n",
    "        rList = sorted(returnRouteList, key=lambda x:x[1])\n",
    "        fl, rr = 0, len(rList) - 1\n",
    "        \n",
    "        while fl < len(fList) and rr >= 0:\n",
    "            diff = maxTravelDist - (fList[fl][1] + rList[rr][1])\n",
    "            if  diff >= 0 :\n",
    "                diffDist[diff].append([fList[fl][0],rList[rr][0]])\n",
    "                fl += 1\n",
    "            else:\n",
    "                rr -= 1\n",
    "        \n",
    "        if not diffDist:\n",
    "            return -1\n",
    "        \n",
    "        minDiff = float('inf')\n",
    "        for k in diffDist:\n",
    "            minDiff = min(minDiff, k)\n",
    "        \n",
    "        return diffDist[minDiff]\n",
    "    \n",
    "obj = Solution()\n",
    "maxTravelDist=7000\n",
    "forwardRouteList=[[1,2000],[2,4000],[3,6000]]\n",
    "returnRouteList=[[1,2000]]\n",
    "ans = obj.optimalFlightPath(maxTravelDist, forwardRouteList, returnRouteList)\n",
    "print(ans)\n",
    "            "
   ]
  },
  {
   "cell_type": "code",
   "execution_count": null,
   "metadata": {},
   "outputs": [],
   "source": []
  }
 ],
 "metadata": {
  "kernelspec": {
   "display_name": "Python 3",
   "language": "python",
   "name": "python3"
  },
  "language_info": {
   "codemirror_mode": {
    "name": "ipython",
    "version": 3
   },
   "file_extension": ".py",
   "mimetype": "text/x-python",
   "name": "python",
   "nbconvert_exporter": "python",
   "pygments_lexer": "ipython3",
   "version": "3.7.4"
  }
 },
 "nbformat": 4,
 "nbformat_minor": 2
}
