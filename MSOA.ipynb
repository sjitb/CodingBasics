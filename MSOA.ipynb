{
 "cells": [
  {
   "cell_type": "markdown",
   "metadata": {},
   "source": [
    "# 1.  Numbers With Equal Digit Sum\n",
    "\n",
    "## Problem: Given array A with N integers, return max sum of two integers whose digits add up to be the same\n",
    "\n",
    "### For [ 51, 17, 71, 42], pairs-> (51, 42) and (71, 17). Answer 93. "
   ]
  },
  {
   "cell_type": "code",
   "execution_count": 1,
   "metadata": {},
   "outputs": [
    {
     "data": {
      "text/plain": [
       "93"
      ]
     },
     "execution_count": 1,
     "metadata": {},
     "output_type": "execute_result"
    }
   ],
   "source": [
    "def sum_of_digits(num):\n",
    "    val = 0\n",
    "    while num:\n",
    "        val += num%10\n",
    "        num //= 10\n",
    "    return val\n",
    "\n",
    "def get_max_num(arr):\n",
    "    if len(arr) <= 1:\n",
    "        return -1\n",
    "    \n",
    "    digit_map = {}\n",
    "    \n",
    "    max_val = -1\n",
    "    \n",
    "    for num in arr:\n",
    "        digit_sum = sum_of_digits(num)\n",
    "        if digit_sum in digit_map:\n",
    "            other_val = digit_map[digit_sum]\n",
    "            max_val = max(max_val, other_val + num)\n",
    "            digit_map[digit_sum] = max(other_val, num)\n",
    "        else:\n",
    "            digit_map[digit_sum] = num\n",
    "            \n",
    "    return max_val\n",
    "\n",
    "arr = [51, 17, 71, 42]\n",
    "\n",
    "get_max_num(arr)\n"
   ]
  },
  {
   "cell_type": "markdown",
   "metadata": {},
   "source": [
    "## Multiply Without Operator"
   ]
  },
  {
   "cell_type": "code",
   "execution_count": 4,
   "metadata": {},
   "outputs": [
    {
     "name": "stdout",
     "output_type": "stream",
     "text": [
      "-15\n"
     ]
    }
   ],
   "source": [
    "class Solution(object):\n",
    "    def mul(self,a,b):\n",
    "        if not b:\n",
    "            return 0\n",
    "        if b > 0:\n",
    "            return a + self.mul(a,b-1)\n",
    "        else:\n",
    "            return -self.mul(a,-b)\n",
    "obj = Solution()\n",
    "ans = obj.mul(-3,5)\n",
    "print(ans)"
   ]
  },
  {
   "cell_type": "markdown",
   "metadata": {},
   "source": [
    "## Group Anagrams\n",
    "\n",
    "given a array of strings, to have to group them based on similar anagrams, with duplicates removed, with additional constraints: Make the solution case invariant.\n",
    "\n",
    "Example:\n",
    "[\"Good\", \"pan\", \"nap\", \"dog\", \"god\"]\n",
    "\n",
    "Output\n",
    "[['Good', 'dog', 'god'],\n",
    "['nap', 'pan']]"
   ]
  },
  {
   "cell_type": "code",
   "execution_count": 8,
   "metadata": {},
   "outputs": [
    {
     "name": "stdout",
     "output_type": "stream",
     "text": [
      "[['Good', 'dog', 'god'], ['pan', 'nap']]\n"
     ]
    }
   ],
   "source": [
    "from collections import defaultdict\n",
    "class Solution(object):\n",
    "    def groupAnagrams(self, listOfWords):\n",
    "        result = []\n",
    "        if not listOfWords:\n",
    "            return result\n",
    "        anagramMap = defaultdict(list)\n",
    "        for word in listOfWords:\n",
    "            key = tuple(set(sorted(word.lower())))\n",
    "            anagramMap[key].append(word)\n",
    "        \n",
    "        return list(anagramMap.values())\n",
    "obj = Solution()\n",
    "words = [\"Good\", \"pan\", \"nap\", \"dog\", \"god\"]\n",
    "ans = obj.groupAnagrams(words)\n",
    "print(ans)"
   ]
  },
  {
   "cell_type": "markdown",
   "metadata": {},
   "source": [
    "## Minimum Adjacent Swaps to make String a Palindrome\n",
    "Given a string, what is the minimum number of adjacent swaps required to convert a string into a palindrome. If not possible, return -1."
   ]
  },
  {
   "cell_type": "code",
   "execution_count": 22,
   "metadata": {},
   "outputs": [
    {
     "name": "stdout",
     "output_type": "stream",
     "text": [
      "True\n",
      "aababaa\n",
      "True\n",
      "aababaa\n",
      "1\n"
     ]
    }
   ],
   "source": [
    "\"\"\"\n",
    "     * Algorithm:\n",
    "     *     1. First check the given string can be transformed to Palindrome\n",
    "     *     2. Check if already a Palindrome.\n",
    "     *     3. Create Palindromic anagram for given string\n",
    "     *     4. Count Steps to transform to palindromic anagram\n",
    "     * Time Complexity: O(n^2)\n",
    "     * Space Complexity: O(n)\n",
    "     *\n",
    "\"\"\"\n",
    "import collections\n",
    "\n",
    "class Solution(object):\n",
    "    def minSwapPalindrome(self,word):\n",
    "        if not word:\n",
    "            return -1\n",
    "        if self.isPalindrome(word):\n",
    "            return 0        \n",
    "        if not self.canPermutePalindrome(word):\n",
    "            return minSwap\n",
    "        target = self.makePalindrome(word)\n",
    "        print(target)        \n",
    "        return self.minSwapAnagram(word, target)\n",
    "        \n",
    "    \n",
    "    def minSwapAnagram(self,source,target):\n",
    "        \"\"\"\n",
    "        Find minimum number of swaps to switch from one string to it's anagram \n",
    "        \"\"\"\n",
    "        sList = list(source)\n",
    "        tList = list(target)\n",
    "        swapCount = 0\n",
    "        \n",
    "        for i in range(len(sList)):\n",
    "            pos = i\n",
    "            while sList[pos] != tList[i]:\n",
    "                pos += 1\n",
    "            \n",
    "            while i < pos:\n",
    "                sList[pos], sList[pos-1] = sList[pos-1], sList[pos]\n",
    "                pos -= 1\n",
    "                swapCount += 1\n",
    "        return swapCount\n",
    "    \n",
    "    def isPalindrome(self,s):\n",
    "        s = s.lower()\n",
    "        l, r = 0, len(s) - 1\n",
    "        while l<r:\n",
    "            if s[l] != s[r]:\n",
    "                return False\n",
    "            l += 1\n",
    "            r -= 1            \n",
    "        return True\n",
    "            \n",
    "    def makePalindrome(self,s):\n",
    "        s = s.lower()\n",
    "        occurences = collections.Counter(s)\n",
    "        \n",
    "        res = \"\"\n",
    "        middle = \"\"\n",
    "        \n",
    "        for ch in s:\n",
    "            if occurences[ch] > 0:\n",
    "                if occurences[ch] == 1:\n",
    "                    middle += ch\n",
    "                    occurences[ch] -= 1\n",
    "                else:\n",
    "                    res += ch\n",
    "                    occurences[ch] -= 2\n",
    "                    \n",
    "        return res + middle + res[-1::-1]\n",
    "        \n",
    "    \n",
    "    def canPermutePalindrome(self,s):\n",
    "        s = s.lower()\n",
    "        occurences = collections.Counter(s)\n",
    "        oddCount = 0\n",
    "\n",
    "        for count in occurences.values():\n",
    "            if count%2 != 0:\n",
    "                oddCount += 1\n",
    "        \n",
    "        return oddCount <= 1\n",
    "    \n",
    "obj = Solution()\n",
    "s = \"aaabbaa\"\n",
    "res1 = obj.canPermutePalindrome(s)\n",
    "print(res1)\n",
    "res2 = obj.makePalindrome(s)\n",
    "print(res2)\n",
    "res3 = obj.isPalindrome(\"abba\")\n",
    "print(res3)\n",
    "res4 = obj.minSwapPalindrome(s)\n",
    "print(res4)\n"
   ]
  },
  {
   "cell_type": "markdown",
   "metadata": {},
   "source": [
    "## Gas Station\n",
    "\n",
    "There are N gas stations along a circular route, where the amount of gas at station i is gas[i].\n",
    "\n",
    "You have a car with an unlimited gas tank and it costs cost[i] of gas to travel from station i to its next station (i+1). You begin the journey with an empty tank at one of the gas stations.\n",
    "\n",
    "Return the starting gas station's index if you can travel around the circuit once in the clockwise direction, otherwise return -1."
   ]
  },
  {
   "cell_type": "code",
   "execution_count": 23,
   "metadata": {},
   "outputs": [
    {
     "name": "stdout",
     "output_type": "stream",
     "text": [
      "3\n"
     ]
    }
   ],
   "source": [
    "class Solution:\n",
    "    def canCompleteCircuit(self, gas, cost):\n",
    "        \"\"\"\n",
    "        :type gas: List[int]\n",
    "        :type cost: List[int]\n",
    "        :rtype: int\n",
    "        \"\"\"\n",
    "        n = len(gas)\n",
    "        \n",
    "        total_tank, curr_tank = 0, 0\n",
    "        starting_station = 0\n",
    "        for i in range(n):\n",
    "            total_tank += gas[i] - cost[i]\n",
    "            curr_tank += gas[i] - cost[i]\n",
    "            # If one couldn't get here,\n",
    "            if curr_tank < 0:\n",
    "                # Pick up the next station as the starting one.\n",
    "                starting_station = i + 1\n",
    "                # Start with an empty tank.\n",
    "                curr_tank = 0\n",
    "        \n",
    "        return starting_station if total_tank >= 0 else -1\n",
    "    \n",
    "obj = Solution()\n",
    "gas  = [1,2,3,4,5]\n",
    "cost = [3,4,5,1,2]\n",
    "ans = obj.canCompleteCircuit(gas,cost)\n",
    "print(ans)"
   ]
  },
  {
   "cell_type": "code",
   "execution_count": null,
   "metadata": {},
   "outputs": [],
   "source": []
  }
 ],
 "metadata": {
  "kernelspec": {
   "display_name": "Python 3",
   "language": "python",
   "name": "python3"
  },
  "language_info": {
   "codemirror_mode": {
    "name": "ipython",
    "version": 3
   },
   "file_extension": ".py",
   "mimetype": "text/x-python",
   "name": "python",
   "nbconvert_exporter": "python",
   "pygments_lexer": "ipython3",
   "version": "3.7.4"
  }
 },
 "nbformat": 4,
 "nbformat_minor": 2
}
