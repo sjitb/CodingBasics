{
 "cells": [
  {
   "cell_type": "markdown",
   "metadata": {},
   "source": [
    "# 1.  Numbers With Equal Digit Sum\n",
    "\n",
    "## Problem: Given array A with N integers, return max sum of two integers whose digits add up to be the same\n",
    "\n",
    "### For [ 51, 17, 71, 42], pairs-> (51, 42) and (71, 17). Answer 93. "
   ]
  },
  {
   "cell_type": "code",
   "execution_count": 1,
   "metadata": {},
   "outputs": [
    {
     "data": {
      "text/plain": [
       "93"
      ]
     },
     "execution_count": 1,
     "metadata": {},
     "output_type": "execute_result"
    }
   ],
   "source": [
    "def sum_of_digits(num):\n",
    "    val = 0\n",
    "    while num:\n",
    "        val += num%10\n",
    "        num //= 10\n",
    "    return val\n",
    "\n",
    "def get_max_num(arr):\n",
    "    if len(arr) <= 1:\n",
    "        return -1\n",
    "    \n",
    "    digit_map = {}\n",
    "    \n",
    "    max_val = -1\n",
    "    \n",
    "    for num in arr:\n",
    "        digit_sum = sum_of_digits(num)\n",
    "        if digit_sum in digit_map:\n",
    "            other_val = digit_map[digit_sum]\n",
    "            max_val = max(max_val, other_val + num)\n",
    "            digit_map[digit_sum] = max(other_val, num)\n",
    "        else:\n",
    "            digit_map[digit_sum] = num\n",
    "            \n",
    "    return max_val\n",
    "\n",
    "arr = [51, 17, 71, 42]\n",
    "\n",
    "get_max_num(arr)\n"
   ]
  },
  {
   "cell_type": "code",
   "execution_count": null,
   "metadata": {},
   "outputs": [],
   "source": []
  }
 ],
 "metadata": {
  "kernelspec": {
   "display_name": "Python 3",
   "language": "python",
   "name": "python3"
  },
  "language_info": {
   "codemirror_mode": {
    "name": "ipython",
    "version": 3
   },
   "file_extension": ".py",
   "mimetype": "text/x-python",
   "name": "python",
   "nbconvert_exporter": "python",
   "pygments_lexer": "ipython3",
   "version": "3.7.4"
  }
 },
 "nbformat": 4,
 "nbformat_minor": 2
}
